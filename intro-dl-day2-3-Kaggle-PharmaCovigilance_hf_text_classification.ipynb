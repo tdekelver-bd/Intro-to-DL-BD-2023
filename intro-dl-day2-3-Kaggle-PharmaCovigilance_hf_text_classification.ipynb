{
  "cells": [
    {
      "cell_type": "markdown",
      "metadata": {
        "id": "view-in-github",
        "colab_type": "text"
      },
      "source": [
        "<a href=\"https://colab.research.google.com/github/tdekelver-bd/Intro-to-DL-BD-2023/blob/main/intro-dl-day2-3-Kaggle-PharmaCovigilance_hf_text_classification.ipynb\" target=\"_parent\"><img src=\"https://colab.research.google.com/assets/colab-badge.svg\" alt=\"Open In Colab\"/></a>"
      ]
    },
    {
      "cell_type": "markdown",
      "metadata": {
        "id": "X4cRE8IbIrIV"
      },
      "source": [
        "If you're opening this Notebook on colab, you will probably need to install 🤗 Transformers and 🤗 Datasets. Uncomment the following cell and run it."
      ]
    },
    {
      "cell_type": "code",
      "execution_count": 20,
      "metadata": {
        "colab": {
          "base_uri": "https://localhost:8080/"
        },
        "id": "MOsHUjgdIrIW",
        "outputId": "8ab50ac4-3eba-4e59-f3db-20e636df469c"
      },
      "outputs": [
        {
          "output_type": "stream",
          "name": "stdout",
          "text": [
            "Looking in indexes: https://pypi.org/simple, https://us-python.pkg.dev/colab-wheels/public/simple/\n",
            "Requirement already satisfied: datasets in /usr/local/lib/python3.9/dist-packages (2.10.1)\n",
            "Requirement already satisfied: transformers in /usr/local/lib/python3.9/dist-packages (4.27.3)\n",
            "Requirement already satisfied: dill<0.3.7,>=0.3.0 in /usr/local/lib/python3.9/dist-packages (from datasets) (0.3.6)\n",
            "Requirement already satisfied: aiohttp in /usr/local/lib/python3.9/dist-packages (from datasets) (3.8.4)\n",
            "Requirement already satisfied: requests>=2.19.0 in /usr/local/lib/python3.9/dist-packages (from datasets) (2.27.1)\n",
            "Requirement already satisfied: pandas in /usr/local/lib/python3.9/dist-packages (from datasets) (1.4.4)\n",
            "Requirement already satisfied: huggingface-hub<1.0.0,>=0.2.0 in /usr/local/lib/python3.9/dist-packages (from datasets) (0.13.3)\n",
            "Requirement already satisfied: tqdm>=4.62.1 in /usr/local/lib/python3.9/dist-packages (from datasets) (4.65.0)\n",
            "Requirement already satisfied: numpy>=1.17 in /usr/local/lib/python3.9/dist-packages (from datasets) (1.22.4)\n",
            "Requirement already satisfied: pyarrow>=6.0.0 in /usr/local/lib/python3.9/dist-packages (from datasets) (9.0.0)\n",
            "Requirement already satisfied: multiprocess in /usr/local/lib/python3.9/dist-packages (from datasets) (0.70.14)\n",
            "Requirement already satisfied: responses<0.19 in /usr/local/lib/python3.9/dist-packages (from datasets) (0.18.0)\n",
            "Requirement already satisfied: xxhash in /usr/local/lib/python3.9/dist-packages (from datasets) (3.2.0)\n",
            "Requirement already satisfied: packaging in /usr/local/lib/python3.9/dist-packages (from datasets) (23.0)\n",
            "Requirement already satisfied: fsspec[http]>=2021.11.1 in /usr/local/lib/python3.9/dist-packages (from datasets) (2023.3.0)\n",
            "Requirement already satisfied: pyyaml>=5.1 in /usr/local/lib/python3.9/dist-packages (from datasets) (6.0)\n",
            "Requirement already satisfied: regex!=2019.12.17 in /usr/local/lib/python3.9/dist-packages (from transformers) (2022.10.31)\n",
            "Requirement already satisfied: tokenizers!=0.11.3,<0.14,>=0.11.1 in /usr/local/lib/python3.9/dist-packages (from transformers) (0.13.2)\n",
            "Requirement already satisfied: filelock in /usr/local/lib/python3.9/dist-packages (from transformers) (3.10.2)\n",
            "Requirement already satisfied: frozenlist>=1.1.1 in /usr/local/lib/python3.9/dist-packages (from aiohttp->datasets) (1.3.3)\n",
            "Requirement already satisfied: aiosignal>=1.1.2 in /usr/local/lib/python3.9/dist-packages (from aiohttp->datasets) (1.3.1)\n",
            "Requirement already satisfied: attrs>=17.3.0 in /usr/local/lib/python3.9/dist-packages (from aiohttp->datasets) (22.2.0)\n",
            "Requirement already satisfied: multidict<7.0,>=4.5 in /usr/local/lib/python3.9/dist-packages (from aiohttp->datasets) (6.0.4)\n",
            "Requirement already satisfied: charset-normalizer<4.0,>=2.0 in /usr/local/lib/python3.9/dist-packages (from aiohttp->datasets) (2.0.12)\n",
            "Requirement already satisfied: yarl<2.0,>=1.0 in /usr/local/lib/python3.9/dist-packages (from aiohttp->datasets) (1.8.2)\n",
            "Requirement already satisfied: async-timeout<5.0,>=4.0.0a3 in /usr/local/lib/python3.9/dist-packages (from aiohttp->datasets) (4.0.2)\n",
            "Requirement already satisfied: typing-extensions>=3.7.4.3 in /usr/local/lib/python3.9/dist-packages (from huggingface-hub<1.0.0,>=0.2.0->datasets) (4.5.0)\n",
            "Requirement already satisfied: idna<4,>=2.5 in /usr/local/lib/python3.9/dist-packages (from requests>=2.19.0->datasets) (3.4)\n",
            "Requirement already satisfied: certifi>=2017.4.17 in /usr/local/lib/python3.9/dist-packages (from requests>=2.19.0->datasets) (2022.12.7)\n",
            "Requirement already satisfied: urllib3<1.27,>=1.21.1 in /usr/local/lib/python3.9/dist-packages (from requests>=2.19.0->datasets) (1.26.15)\n",
            "Requirement already satisfied: pytz>=2020.1 in /usr/local/lib/python3.9/dist-packages (from pandas->datasets) (2022.7.1)\n",
            "Requirement already satisfied: python-dateutil>=2.8.1 in /usr/local/lib/python3.9/dist-packages (from pandas->datasets) (2.8.2)\n",
            "Requirement already satisfied: six>=1.5 in /usr/local/lib/python3.9/dist-packages (from python-dateutil>=2.8.1->pandas->datasets) (1.16.0)\n"
          ]
        }
      ],
      "source": [
        "! pip install datasets transformers"
      ]
    },
    {
      "cell_type": "code",
      "source": [
        "!pip install mlflow"
      ],
      "metadata": {
        "colab": {
          "base_uri": "https://localhost:8080/"
        },
        "id": "hy03Apt7OxUw",
        "outputId": "9aceb06e-f6f9-4bd4-d204-37f485136905"
      },
      "execution_count": 21,
      "outputs": [
        {
          "output_type": "stream",
          "name": "stdout",
          "text": [
            "Looking in indexes: https://pypi.org/simple, https://us-python.pkg.dev/colab-wheels/public/simple/\n",
            "Requirement already satisfied: mlflow in /usr/local/lib/python3.9/dist-packages (2.2.2)\n",
            "Requirement already satisfied: sqlparse<1,>=0.4.0 in /usr/local/lib/python3.9/dist-packages (from mlflow) (0.4.3)\n",
            "Requirement already satisfied: Jinja2<4,>=2.11 in /usr/local/lib/python3.9/dist-packages (from mlflow) (3.1.2)\n",
            "Requirement already satisfied: pyyaml<7,>=5.1 in /usr/local/lib/python3.9/dist-packages (from mlflow) (6.0)\n",
            "Requirement already satisfied: click<9,>=7.0 in /usr/local/lib/python3.9/dist-packages (from mlflow) (8.1.3)\n",
            "Requirement already satisfied: sqlalchemy<3,>=1.4.0 in /usr/local/lib/python3.9/dist-packages (from mlflow) (1.4.47)\n",
            "Requirement already satisfied: alembic<2 in /usr/local/lib/python3.9/dist-packages (from mlflow) (1.10.2)\n",
            "Requirement already satisfied: Flask<3 in /usr/local/lib/python3.9/dist-packages (from mlflow) (2.2.3)\n",
            "Requirement already satisfied: matplotlib<4 in /usr/local/lib/python3.9/dist-packages (from mlflow) (3.7.1)\n",
            "Requirement already satisfied: scikit-learn<2 in /usr/local/lib/python3.9/dist-packages (from mlflow) (1.2.2)\n",
            "Requirement already satisfied: querystring-parser<2 in /usr/local/lib/python3.9/dist-packages (from mlflow) (1.2.4)\n",
            "Requirement already satisfied: cloudpickle<3 in /usr/local/lib/python3.9/dist-packages (from mlflow) (2.2.1)\n",
            "Requirement already satisfied: entrypoints<1 in /usr/local/lib/python3.9/dist-packages (from mlflow) (0.4)\n",
            "Requirement already satisfied: pytz<2023 in /usr/local/lib/python3.9/dist-packages (from mlflow) (2022.7.1)\n",
            "Requirement already satisfied: requests<3,>=2.17.3 in /usr/local/lib/python3.9/dist-packages (from mlflow) (2.27.1)\n",
            "Requirement already satisfied: markdown<4,>=3.3 in /usr/local/lib/python3.9/dist-packages (from mlflow) (3.4.3)\n",
            "Requirement already satisfied: scipy<2 in /usr/local/lib/python3.9/dist-packages (from mlflow) (1.10.1)\n",
            "Requirement already satisfied: importlib-metadata!=4.7.0,<7,>=3.7.0 in /usr/local/lib/python3.9/dist-packages (from mlflow) (6.1.0)\n",
            "Requirement already satisfied: shap<1,>=0.40 in /usr/local/lib/python3.9/dist-packages (from mlflow) (0.41.0)\n",
            "Requirement already satisfied: gunicorn<21 in /usr/local/lib/python3.9/dist-packages (from mlflow) (20.1.0)\n",
            "Requirement already satisfied: packaging<24 in /usr/local/lib/python3.9/dist-packages (from mlflow) (23.0)\n",
            "Requirement already satisfied: databricks-cli<1,>=0.8.7 in /usr/local/lib/python3.9/dist-packages (from mlflow) (0.17.6)\n",
            "Requirement already satisfied: gitpython<4,>=2.1.0 in /usr/local/lib/python3.9/dist-packages (from mlflow) (3.1.31)\n",
            "Requirement already satisfied: pandas<3 in /usr/local/lib/python3.9/dist-packages (from mlflow) (1.4.4)\n",
            "Requirement already satisfied: docker<7,>=4.0.0 in /usr/local/lib/python3.9/dist-packages (from mlflow) (6.0.1)\n",
            "Requirement already satisfied: numpy<2 in /usr/local/lib/python3.9/dist-packages (from mlflow) (1.22.4)\n",
            "Requirement already satisfied: protobuf<5,>=3.12.0 in /usr/local/lib/python3.9/dist-packages (from mlflow) (3.19.6)\n",
            "Requirement already satisfied: pyarrow<12,>=4.0.0 in /usr/local/lib/python3.9/dist-packages (from mlflow) (9.0.0)\n",
            "Requirement already satisfied: typing-extensions>=4 in /usr/local/lib/python3.9/dist-packages (from alembic<2->mlflow) (4.5.0)\n",
            "Requirement already satisfied: Mako in /usr/local/lib/python3.9/dist-packages (from alembic<2->mlflow) (1.2.4)\n",
            "Requirement already satisfied: six>=1.10.0 in /usr/local/lib/python3.9/dist-packages (from databricks-cli<1,>=0.8.7->mlflow) (1.16.0)\n",
            "Requirement already satisfied: oauthlib>=3.1.0 in /usr/local/lib/python3.9/dist-packages (from databricks-cli<1,>=0.8.7->mlflow) (3.2.2)\n",
            "Requirement already satisfied: pyjwt>=1.7.0 in /usr/local/lib/python3.9/dist-packages (from databricks-cli<1,>=0.8.7->mlflow) (2.6.0)\n",
            "Requirement already satisfied: tabulate>=0.7.7 in /usr/local/lib/python3.9/dist-packages (from databricks-cli<1,>=0.8.7->mlflow) (0.8.10)\n",
            "Requirement already satisfied: websocket-client>=0.32.0 in /usr/local/lib/python3.9/dist-packages (from docker<7,>=4.0.0->mlflow) (1.5.1)\n",
            "Requirement already satisfied: urllib3>=1.26.0 in /usr/local/lib/python3.9/dist-packages (from docker<7,>=4.0.0->mlflow) (1.26.15)\n",
            "Requirement already satisfied: Werkzeug>=2.2.2 in /usr/local/lib/python3.9/dist-packages (from Flask<3->mlflow) (2.2.3)\n",
            "Requirement already satisfied: itsdangerous>=2.0 in /usr/local/lib/python3.9/dist-packages (from Flask<3->mlflow) (2.1.2)\n",
            "Requirement already satisfied: gitdb<5,>=4.0.1 in /usr/local/lib/python3.9/dist-packages (from gitpython<4,>=2.1.0->mlflow) (4.0.10)\n",
            "Requirement already satisfied: setuptools>=3.0 in /usr/local/lib/python3.9/dist-packages (from gunicorn<21->mlflow) (67.6.0)\n",
            "Requirement already satisfied: zipp>=0.5 in /usr/local/lib/python3.9/dist-packages (from importlib-metadata!=4.7.0,<7,>=3.7.0->mlflow) (3.15.0)\n",
            "Requirement already satisfied: MarkupSafe>=2.0 in /usr/local/lib/python3.9/dist-packages (from Jinja2<4,>=2.11->mlflow) (2.1.2)\n",
            "Requirement already satisfied: cycler>=0.10 in /usr/local/lib/python3.9/dist-packages (from matplotlib<4->mlflow) (0.11.0)\n",
            "Requirement already satisfied: importlib-resources>=3.2.0 in /usr/local/lib/python3.9/dist-packages (from matplotlib<4->mlflow) (5.12.0)\n",
            "Requirement already satisfied: python-dateutil>=2.7 in /usr/local/lib/python3.9/dist-packages (from matplotlib<4->mlflow) (2.8.2)\n",
            "Requirement already satisfied: pillow>=6.2.0 in /usr/local/lib/python3.9/dist-packages (from matplotlib<4->mlflow) (8.4.0)\n",
            "Requirement already satisfied: kiwisolver>=1.0.1 in /usr/local/lib/python3.9/dist-packages (from matplotlib<4->mlflow) (1.4.4)\n",
            "Requirement already satisfied: pyparsing>=2.3.1 in /usr/local/lib/python3.9/dist-packages (from matplotlib<4->mlflow) (3.0.9)\n",
            "Requirement already satisfied: contourpy>=1.0.1 in /usr/local/lib/python3.9/dist-packages (from matplotlib<4->mlflow) (1.0.7)\n",
            "Requirement already satisfied: fonttools>=4.22.0 in /usr/local/lib/python3.9/dist-packages (from matplotlib<4->mlflow) (4.39.2)\n",
            "Requirement already satisfied: idna<4,>=2.5 in /usr/local/lib/python3.9/dist-packages (from requests<3,>=2.17.3->mlflow) (3.4)\n",
            "Requirement already satisfied: certifi>=2017.4.17 in /usr/local/lib/python3.9/dist-packages (from requests<3,>=2.17.3->mlflow) (2022.12.7)\n",
            "Requirement already satisfied: charset-normalizer~=2.0.0 in /usr/local/lib/python3.9/dist-packages (from requests<3,>=2.17.3->mlflow) (2.0.12)\n",
            "Requirement already satisfied: joblib>=1.1.1 in /usr/local/lib/python3.9/dist-packages (from scikit-learn<2->mlflow) (1.1.1)\n",
            "Requirement already satisfied: threadpoolctl>=2.0.0 in /usr/local/lib/python3.9/dist-packages (from scikit-learn<2->mlflow) (3.1.0)\n",
            "Requirement already satisfied: slicer==0.0.7 in /usr/local/lib/python3.9/dist-packages (from shap<1,>=0.40->mlflow) (0.0.7)\n",
            "Requirement already satisfied: numba in /usr/local/lib/python3.9/dist-packages (from shap<1,>=0.40->mlflow) (0.56.4)\n",
            "Requirement already satisfied: tqdm>4.25.0 in /usr/local/lib/python3.9/dist-packages (from shap<1,>=0.40->mlflow) (4.65.0)\n",
            "Requirement already satisfied: greenlet!=0.4.17 in /usr/local/lib/python3.9/dist-packages (from sqlalchemy<3,>=1.4.0->mlflow) (2.0.2)\n",
            "Requirement already satisfied: smmap<6,>=3.0.1 in /usr/local/lib/python3.9/dist-packages (from gitdb<5,>=4.0.1->gitpython<4,>=2.1.0->mlflow) (5.0.0)\n",
            "Requirement already satisfied: llvmlite<0.40,>=0.39.0dev0 in /usr/local/lib/python3.9/dist-packages (from numba->shap<1,>=0.40->mlflow) (0.39.1)\n"
          ]
        }
      ]
    },
    {
      "cell_type": "markdown",
      "metadata": {
        "id": "i1QFe1dEhsWm"
      },
      "source": [
        "If you're opening this notebook locally, make sure your environment has an install from the last version of those libraries.\n",
        "\n",
        "To be able to share your model with the community and generate results like the one shown in the picture below via the inference API, there are a few more steps to follow.\n",
        "\n",
        "First you have to store your authentication token from the Hugging Face website (sign up [here](https://huggingface.co/join) if you haven't already!) then execute the following cell and input your username and password:"
      ]
    },
    {
      "cell_type": "markdown",
      "metadata": {
        "id": "0eFRUBi1hsWq"
      },
      "source": [
        "Make sure your version of Transformers is at least 4.11.0 since the functionality was introduced in that version:"
      ]
    },
    {
      "cell_type": "code",
      "execution_count": 22,
      "metadata": {
        "colab": {
          "base_uri": "https://localhost:8080/"
        },
        "id": "geCcgzCchsWq",
        "outputId": "cb60040c-f4bd-40b8-8e39-b28c2da84612"
      },
      "outputs": [
        {
          "output_type": "stream",
          "name": "stdout",
          "text": [
            "4.27.3\n"
          ]
        }
      ],
      "source": [
        "import transformers\n",
        "\n",
        "print(transformers.__version__)"
      ]
    },
    {
      "cell_type": "markdown",
      "metadata": {
        "id": "HFASsisvIrIb"
      },
      "source": [
        "You can find a script version of this notebook to fine-tune your model in a distributed fashion using multiple GPUs or TPUs [here](https://github.com/huggingface/transformers/tree/master/examples/text-classification)."
      ]
    },
    {
      "cell_type": "markdown",
      "metadata": {
        "id": "rEJBSTyZIrIb"
      },
      "source": [
        "# Fine-tuning a model on a text classification task"
      ]
    },
    {
      "cell_type": "markdown",
      "metadata": {
        "id": "kTCFado4IrIc"
      },
      "source": [
        "In this notebook, we will see how to fine-tune one of the [🤗 Transformers](https://github.com/huggingface/transformers) model to a text classification task of the [GLUE Benchmark](https://gluebenchmark.com/).\n",
        "\n",
        "![Widget inference on a text classification task](images/text_classification.png)\n",
        "\n",
        "\n",
        "We will see how to easily load the dataset for each one of those tasks and use the `Trainer` API to fine-tune a model on it. Each task is named by its acronym, with `mnli-mm` standing for the mismatched version of MNLI (so same training set as `mnli` but different validation and test sets):"
      ]
    },
    {
      "cell_type": "markdown",
      "metadata": {
        "id": "4RRkXuteIrIh"
      },
      "source": [
        "This notebook is built to run on any of the tasks in the list above, with any model checkpoint from the [Model Hub](https://huggingface.co/models) as long as that model has a version with a classification head. Depending on you model and the GPU you are using, you might need to adjust the batch size to avoid out-of-memory errors. Set those three parameters, then the rest of the notebook should run smoothly:"
      ]
    },
    {
      "cell_type": "code",
      "execution_count": 23,
      "metadata": {
        "id": "zVvslsfMIrIh"
      },
      "outputs": [],
      "source": [
        "task = \"Servier-scibert-warmup\"\n",
        "model_checkpoint = \"allenai/scibert_scivocab_uncased\"\n",
        "batch_size = 16"
      ]
    },
    {
      "cell_type": "markdown",
      "metadata": {
        "id": "whPRbBNbIrIl"
      },
      "source": [
        "## Loading the dataset"
      ]
    },
    {
      "cell_type": "markdown",
      "metadata": {
        "id": "W7QYTpxXIrIl"
      },
      "source": [
        "We will use the [🤗 Datasets](https://github.com/huggingface/datasets) library to download the data and get the metric we need to use for evaluation (to compare our model to the benchmark). This can be easily done with the functions `load_dataset` and `load_metric`.  "
      ]
    },
    {
      "cell_type": "code",
      "source": [
        "!pip install evaluate"
      ],
      "metadata": {
        "colab": {
          "base_uri": "https://localhost:8080/"
        },
        "id": "vaZP8OSynWtL",
        "outputId": "425abc62-f593-4af3-c635-f05a996caa5f"
      },
      "execution_count": 24,
      "outputs": [
        {
          "output_type": "stream",
          "name": "stdout",
          "text": [
            "Looking in indexes: https://pypi.org/simple, https://us-python.pkg.dev/colab-wheels/public/simple/\n",
            "Requirement already satisfied: evaluate in /usr/local/lib/python3.9/dist-packages (0.4.0)\n",
            "Requirement already satisfied: packaging in /usr/local/lib/python3.9/dist-packages (from evaluate) (23.0)\n",
            "Requirement already satisfied: responses<0.19 in /usr/local/lib/python3.9/dist-packages (from evaluate) (0.18.0)\n",
            "Requirement already satisfied: pandas in /usr/local/lib/python3.9/dist-packages (from evaluate) (1.4.4)\n",
            "Requirement already satisfied: datasets>=2.0.0 in /usr/local/lib/python3.9/dist-packages (from evaluate) (2.10.1)\n",
            "Requirement already satisfied: requests>=2.19.0 in /usr/local/lib/python3.9/dist-packages (from evaluate) (2.27.1)\n",
            "Requirement already satisfied: xxhash in /usr/local/lib/python3.9/dist-packages (from evaluate) (3.2.0)\n",
            "Requirement already satisfied: fsspec[http]>=2021.05.0 in /usr/local/lib/python3.9/dist-packages (from evaluate) (2023.3.0)\n",
            "Requirement already satisfied: multiprocess in /usr/local/lib/python3.9/dist-packages (from evaluate) (0.70.14)\n",
            "Requirement already satisfied: huggingface-hub>=0.7.0 in /usr/local/lib/python3.9/dist-packages (from evaluate) (0.13.3)\n",
            "Requirement already satisfied: tqdm>=4.62.1 in /usr/local/lib/python3.9/dist-packages (from evaluate) (4.65.0)\n",
            "Requirement already satisfied: dill in /usr/local/lib/python3.9/dist-packages (from evaluate) (0.3.6)\n",
            "Requirement already satisfied: numpy>=1.17 in /usr/local/lib/python3.9/dist-packages (from evaluate) (1.22.4)\n",
            "Requirement already satisfied: pyarrow>=6.0.0 in /usr/local/lib/python3.9/dist-packages (from datasets>=2.0.0->evaluate) (9.0.0)\n",
            "Requirement already satisfied: pyyaml>=5.1 in /usr/local/lib/python3.9/dist-packages (from datasets>=2.0.0->evaluate) (6.0)\n",
            "Requirement already satisfied: aiohttp in /usr/local/lib/python3.9/dist-packages (from datasets>=2.0.0->evaluate) (3.8.4)\n",
            "Requirement already satisfied: typing-extensions>=3.7.4.3 in /usr/local/lib/python3.9/dist-packages (from huggingface-hub>=0.7.0->evaluate) (4.5.0)\n",
            "Requirement already satisfied: filelock in /usr/local/lib/python3.9/dist-packages (from huggingface-hub>=0.7.0->evaluate) (3.10.2)\n",
            "Requirement already satisfied: urllib3<1.27,>=1.21.1 in /usr/local/lib/python3.9/dist-packages (from requests>=2.19.0->evaluate) (1.26.15)\n",
            "Requirement already satisfied: certifi>=2017.4.17 in /usr/local/lib/python3.9/dist-packages (from requests>=2.19.0->evaluate) (2022.12.7)\n",
            "Requirement already satisfied: idna<4,>=2.5 in /usr/local/lib/python3.9/dist-packages (from requests>=2.19.0->evaluate) (3.4)\n",
            "Requirement already satisfied: charset-normalizer~=2.0.0 in /usr/local/lib/python3.9/dist-packages (from requests>=2.19.0->evaluate) (2.0.12)\n",
            "Requirement already satisfied: pytz>=2020.1 in /usr/local/lib/python3.9/dist-packages (from pandas->evaluate) (2022.7.1)\n",
            "Requirement already satisfied: python-dateutil>=2.8.1 in /usr/local/lib/python3.9/dist-packages (from pandas->evaluate) (2.8.2)\n",
            "Requirement already satisfied: async-timeout<5.0,>=4.0.0a3 in /usr/local/lib/python3.9/dist-packages (from aiohttp->datasets>=2.0.0->evaluate) (4.0.2)\n",
            "Requirement already satisfied: aiosignal>=1.1.2 in /usr/local/lib/python3.9/dist-packages (from aiohttp->datasets>=2.0.0->evaluate) (1.3.1)\n",
            "Requirement already satisfied: frozenlist>=1.1.1 in /usr/local/lib/python3.9/dist-packages (from aiohttp->datasets>=2.0.0->evaluate) (1.3.3)\n",
            "Requirement already satisfied: attrs>=17.3.0 in /usr/local/lib/python3.9/dist-packages (from aiohttp->datasets>=2.0.0->evaluate) (22.2.0)\n",
            "Requirement already satisfied: yarl<2.0,>=1.0 in /usr/local/lib/python3.9/dist-packages (from aiohttp->datasets>=2.0.0->evaluate) (1.8.2)\n",
            "Requirement already satisfied: multidict<7.0,>=4.5 in /usr/local/lib/python3.9/dist-packages (from aiohttp->datasets>=2.0.0->evaluate) (6.0.4)\n",
            "Requirement already satisfied: six>=1.5 in /usr/local/lib/python3.9/dist-packages (from python-dateutil>=2.8.1->pandas->evaluate) (1.16.0)\n"
          ]
        }
      ]
    },
    {
      "cell_type": "code",
      "execution_count": 25,
      "metadata": {
        "id": "IreSlFmlIrIm"
      },
      "outputs": [],
      "source": [
        "from datasets import load_dataset, load_metric, DatasetDict, Dataset\n",
        "import evaluate\n",
        "import pandas as pd\n",
        "import numpy as np"
      ]
    },
    {
      "cell_type": "code",
      "execution_count": 26,
      "metadata": {
        "id": "s_AY1ATSIrIq"
      },
      "outputs": [],
      "source": [
        "clf_metrics = evaluate.combine([\"accuracy\", \"f1\", \"precision\", \"recall\"])\n"
      ]
    },
    {
      "cell_type": "markdown",
      "metadata": {
        "id": "RzfPtOMoIrIu"
      },
      "source": [
        "The `dataset` object itself is [`DatasetDict`](https://huggingface.co/docs/datasets/package_reference/main_classes.html#datasetdict), which contains one key for the training, validation and test set (with more keys for the mismatched validation and test set in the special case of `mnli`)."
      ]
    },
    {
      "cell_type": "code",
      "source": [
        "from google.colab import drive\n",
        "drive.mount('/gdrive')"
      ],
      "metadata": {
        "id": "rPRwMVusl8Ct",
        "colab": {
          "base_uri": "https://localhost:8080/"
        },
        "outputId": "54f848d5-b628-4f79-c3b6-64f2014c3fe9"
      },
      "execution_count": 27,
      "outputs": [
        {
          "output_type": "stream",
          "name": "stdout",
          "text": [
            "Drive already mounted at /gdrive; to attempt to forcibly remount, call drive.mount(\"/gdrive\", force_remount=True).\n"
          ]
        }
      ]
    },
    {
      "cell_type": "code",
      "source": [
        "df = pd.read_csv('/gdrive/MyDrive/BD/Servier_detection_PV/train.csv', sep=',')\n",
        "df.head()"
      ],
      "metadata": {
        "id": "4hXqMeFpl4aw",
        "colab": {
          "base_uri": "https://localhost:8080/",
          "height": 441
        },
        "outputId": "fb39f614-a200-40e5-a0a6-f255e18b5721"
      },
      "execution_count": 28,
      "outputs": [
        {
          "output_type": "execute_result",
          "data": {
            "text/plain": [
              "   id                                               text  label  \\\n",
              "0   0  Li, Gang, Dr., Hu R\\nConcerns about diuretics ...      1   \n",
              "1   1  Fathi AT, Stein EM, DiNardo CD, Levis MJ, Mont...      1   \n",
              "2   2  Boulouiz S, Kossir A, Mouedder F, Miri C, Isma...      1   \n",
              "3   3  Gyenes, Michelle, MSc\\nPharmacotherapy in beha...      1   \n",
              "4   4  Ball B, Mei M, Otoukesh S, Stein A\\nCurrent an...      1   \n",
              "\n",
              "                     file                                            authors  \\\n",
              "0  alertePV-20211102.docx                                Li, Gang, Dr., Hu R   \n",
              "1  alertePV-20211102.docx  Fathi AT, Stein EM, DiNardo CD, Levis MJ, Mont...   \n",
              "2  alertePV-20211102.docx  Boulouiz S, Kossir A, Mouedder F, Miri C, Isma...   \n",
              "3  alertePV-20211102.docx                              Gyenes, Michelle, MSc   \n",
              "4  alertePV-20211102.docx                 Ball B, Mei M, Otoukesh S, Stein A   \n",
              "\n",
              "                                               title  \\\n",
              "0  Concerns about diuretics as the first-line tre...   \n",
              "1  Differentiation syndrome with lower-intensity ...   \n",
              "2  Shone syndrome revealed by treatment-resistant...   \n",
              "3  Pharmacotherapy in behavioral variant frontote...   \n",
              "4  Current and Emerging Therapies for Acute Myelo...   \n",
              "\n",
              "                                            journals  \\\n",
              "0         Aging and disease 2021 Oct 1; 12(7):1541–2   \n",
              "1  American journal of hematology 2021 Jun 1; 96(...   \n",
              "2  Annals of Medicine and Surgery November 2021; ...   \n",
              "3  Annals of Neurology October 2021; 90(SUPPL 27)...   \n",
              "4      Cancer Treatment and Research 2021; 181:57–73   \n",
              "\n",
              "                       sources  \\\n",
              "0  EMBASE - Language : English   \n",
              "1  EMBASE - Language : English   \n",
              "2  EMBASE - Language : English   \n",
              "3  EMBASE - Language : English   \n",
              "4  EMBASE - Language : English   \n",
              "\n",
              "                                            keywords  \\\n",
              "0  7085441; 77083524; 77083535; aged indapamide t...   \n",
              "1  1254053843; 1380288889; 155099; 1650550256; 23...   \n",
              "2  amlodipine plus indapamide plus perindopril ni...   \n",
              "3  25332392; 303491; 34911552; 41100521; 51052621...   \n",
              "4  1254053843; 1650550256; 20830813; 2266582925; ...   \n",
              "\n",
              "                                            abstract  \\\n",
              "0                                                NaN   \n",
              "1  Differentiation Syndrome (DS) has been identif...   \n",
              "2  Introduction: and importance: Shone complex is...   \n",
              "3  Background: Behavioral variant frontotemporal ...   \n",
              "4  Acute myeloid leukemia (AML) is predominantly ...   \n",
              "\n",
              "                                            BERT_txt  \n",
              "0  [TITLE] Concerns about diuretics as the first-...  \n",
              "1  [TITLE] Differentiation syndrome with lower-in...  \n",
              "2  [TITLE] Shone syndrome revealed by treatment-r...  \n",
              "3  [TITLE] Pharmacotherapy in behavioral variant ...  \n",
              "4  [TITLE] Current and Emerging Therapies for Acu...  "
            ],
            "text/html": [
              "\n",
              "  <div id=\"df-8e29fb20-1ff6-4050-9c5f-95ba196873e3\">\n",
              "    <div class=\"colab-df-container\">\n",
              "      <div>\n",
              "<style scoped>\n",
              "    .dataframe tbody tr th:only-of-type {\n",
              "        vertical-align: middle;\n",
              "    }\n",
              "\n",
              "    .dataframe tbody tr th {\n",
              "        vertical-align: top;\n",
              "    }\n",
              "\n",
              "    .dataframe thead th {\n",
              "        text-align: right;\n",
              "    }\n",
              "</style>\n",
              "<table border=\"1\" class=\"dataframe\">\n",
              "  <thead>\n",
              "    <tr style=\"text-align: right;\">\n",
              "      <th></th>\n",
              "      <th>id</th>\n",
              "      <th>text</th>\n",
              "      <th>label</th>\n",
              "      <th>file</th>\n",
              "      <th>authors</th>\n",
              "      <th>title</th>\n",
              "      <th>journals</th>\n",
              "      <th>sources</th>\n",
              "      <th>keywords</th>\n",
              "      <th>abstract</th>\n",
              "      <th>BERT_txt</th>\n",
              "    </tr>\n",
              "  </thead>\n",
              "  <tbody>\n",
              "    <tr>\n",
              "      <th>0</th>\n",
              "      <td>0</td>\n",
              "      <td>Li, Gang, Dr., Hu R\\nConcerns about diuretics ...</td>\n",
              "      <td>1</td>\n",
              "      <td>alertePV-20211102.docx</td>\n",
              "      <td>Li, Gang, Dr., Hu R</td>\n",
              "      <td>Concerns about diuretics as the first-line tre...</td>\n",
              "      <td>Aging and disease 2021 Oct 1; 12(7):1541–2</td>\n",
              "      <td>EMBASE - Language : English</td>\n",
              "      <td>7085441; 77083524; 77083535; aged indapamide t...</td>\n",
              "      <td>NaN</td>\n",
              "      <td>[TITLE] Concerns about diuretics as the first-...</td>\n",
              "    </tr>\n",
              "    <tr>\n",
              "      <th>1</th>\n",
              "      <td>1</td>\n",
              "      <td>Fathi AT, Stein EM, DiNardo CD, Levis MJ, Mont...</td>\n",
              "      <td>1</td>\n",
              "      <td>alertePV-20211102.docx</td>\n",
              "      <td>Fathi AT, Stein EM, DiNardo CD, Levis MJ, Mont...</td>\n",
              "      <td>Differentiation syndrome with lower-intensity ...</td>\n",
              "      <td>American journal of hematology 2021 Jun 1; 96(...</td>\n",
              "      <td>EMBASE - Language : English</td>\n",
              "      <td>1254053843; 1380288889; 155099; 1650550256; 23...</td>\n",
              "      <td>Differentiation Syndrome (DS) has been identif...</td>\n",
              "      <td>[TITLE] Differentiation syndrome with lower-in...</td>\n",
              "    </tr>\n",
              "    <tr>\n",
              "      <th>2</th>\n",
              "      <td>2</td>\n",
              "      <td>Boulouiz S, Kossir A, Mouedder F, Miri C, Isma...</td>\n",
              "      <td>1</td>\n",
              "      <td>alertePV-20211102.docx</td>\n",
              "      <td>Boulouiz S, Kossir A, Mouedder F, Miri C, Isma...</td>\n",
              "      <td>Shone syndrome revealed by treatment-resistant...</td>\n",
              "      <td>Annals of Medicine and Surgery November 2021; ...</td>\n",
              "      <td>EMBASE - Language : English</td>\n",
              "      <td>amlodipine plus indapamide plus perindopril ni...</td>\n",
              "      <td>Introduction: and importance: Shone complex is...</td>\n",
              "      <td>[TITLE] Shone syndrome revealed by treatment-r...</td>\n",
              "    </tr>\n",
              "    <tr>\n",
              "      <th>3</th>\n",
              "      <td>3</td>\n",
              "      <td>Gyenes, Michelle, MSc\\nPharmacotherapy in beha...</td>\n",
              "      <td>1</td>\n",
              "      <td>alertePV-20211102.docx</td>\n",
              "      <td>Gyenes, Michelle, MSc</td>\n",
              "      <td>Pharmacotherapy in behavioral variant frontote...</td>\n",
              "      <td>Annals of Neurology October 2021; 90(SUPPL 27)...</td>\n",
              "      <td>EMBASE - Language : English</td>\n",
              "      <td>25332392; 303491; 34911552; 41100521; 51052621...</td>\n",
              "      <td>Background: Behavioral variant frontotemporal ...</td>\n",
              "      <td>[TITLE] Pharmacotherapy in behavioral variant ...</td>\n",
              "    </tr>\n",
              "    <tr>\n",
              "      <th>4</th>\n",
              "      <td>4</td>\n",
              "      <td>Ball B, Mei M, Otoukesh S, Stein A\\nCurrent an...</td>\n",
              "      <td>1</td>\n",
              "      <td>alertePV-20211102.docx</td>\n",
              "      <td>Ball B, Mei M, Otoukesh S, Stein A</td>\n",
              "      <td>Current and Emerging Therapies for Acute Myelo...</td>\n",
              "      <td>Cancer Treatment and Research 2021; 181:57–73</td>\n",
              "      <td>EMBASE - Language : English</td>\n",
              "      <td>1254053843; 1650550256; 20830813; 2266582925; ...</td>\n",
              "      <td>Acute myeloid leukemia (AML) is predominantly ...</td>\n",
              "      <td>[TITLE] Current and Emerging Therapies for Acu...</td>\n",
              "    </tr>\n",
              "  </tbody>\n",
              "</table>\n",
              "</div>\n",
              "      <button class=\"colab-df-convert\" onclick=\"convertToInteractive('df-8e29fb20-1ff6-4050-9c5f-95ba196873e3')\"\n",
              "              title=\"Convert this dataframe to an interactive table.\"\n",
              "              style=\"display:none;\">\n",
              "        \n",
              "  <svg xmlns=\"http://www.w3.org/2000/svg\" height=\"24px\"viewBox=\"0 0 24 24\"\n",
              "       width=\"24px\">\n",
              "    <path d=\"M0 0h24v24H0V0z\" fill=\"none\"/>\n",
              "    <path d=\"M18.56 5.44l.94 2.06.94-2.06 2.06-.94-2.06-.94-.94-2.06-.94 2.06-2.06.94zm-11 1L8.5 8.5l.94-2.06 2.06-.94-2.06-.94L8.5 2.5l-.94 2.06-2.06.94zm10 10l.94 2.06.94-2.06 2.06-.94-2.06-.94-.94-2.06-.94 2.06-2.06.94z\"/><path d=\"M17.41 7.96l-1.37-1.37c-.4-.4-.92-.59-1.43-.59-.52 0-1.04.2-1.43.59L10.3 9.45l-7.72 7.72c-.78.78-.78 2.05 0 2.83L4 21.41c.39.39.9.59 1.41.59.51 0 1.02-.2 1.41-.59l7.78-7.78 2.81-2.81c.8-.78.8-2.07 0-2.86zM5.41 20L4 18.59l7.72-7.72 1.47 1.35L5.41 20z\"/>\n",
              "  </svg>\n",
              "      </button>\n",
              "      \n",
              "  <style>\n",
              "    .colab-df-container {\n",
              "      display:flex;\n",
              "      flex-wrap:wrap;\n",
              "      gap: 12px;\n",
              "    }\n",
              "\n",
              "    .colab-df-convert {\n",
              "      background-color: #E8F0FE;\n",
              "      border: none;\n",
              "      border-radius: 50%;\n",
              "      cursor: pointer;\n",
              "      display: none;\n",
              "      fill: #1967D2;\n",
              "      height: 32px;\n",
              "      padding: 0 0 0 0;\n",
              "      width: 32px;\n",
              "    }\n",
              "\n",
              "    .colab-df-convert:hover {\n",
              "      background-color: #E2EBFA;\n",
              "      box-shadow: 0px 1px 2px rgba(60, 64, 67, 0.3), 0px 1px 3px 1px rgba(60, 64, 67, 0.15);\n",
              "      fill: #174EA6;\n",
              "    }\n",
              "\n",
              "    [theme=dark] .colab-df-convert {\n",
              "      background-color: #3B4455;\n",
              "      fill: #D2E3FC;\n",
              "    }\n",
              "\n",
              "    [theme=dark] .colab-df-convert:hover {\n",
              "      background-color: #434B5C;\n",
              "      box-shadow: 0px 1px 3px 1px rgba(0, 0, 0, 0.15);\n",
              "      filter: drop-shadow(0px 1px 2px rgba(0, 0, 0, 0.3));\n",
              "      fill: #FFFFFF;\n",
              "    }\n",
              "  </style>\n",
              "\n",
              "      <script>\n",
              "        const buttonEl =\n",
              "          document.querySelector('#df-8e29fb20-1ff6-4050-9c5f-95ba196873e3 button.colab-df-convert');\n",
              "        buttonEl.style.display =\n",
              "          google.colab.kernel.accessAllowed ? 'block' : 'none';\n",
              "\n",
              "        async function convertToInteractive(key) {\n",
              "          const element = document.querySelector('#df-8e29fb20-1ff6-4050-9c5f-95ba196873e3');\n",
              "          const dataTable =\n",
              "            await google.colab.kernel.invokeFunction('convertToInteractive',\n",
              "                                                     [key], {});\n",
              "          if (!dataTable) return;\n",
              "\n",
              "          const docLinkHtml = 'Like what you see? Visit the ' +\n",
              "            '<a target=\"_blank\" href=https://colab.research.google.com/notebooks/data_table.ipynb>data table notebook</a>'\n",
              "            + ' to learn more about interactive tables.';\n",
              "          element.innerHTML = '';\n",
              "          dataTable['output_type'] = 'display_data';\n",
              "          await google.colab.output.renderOutput(dataTable, element);\n",
              "          const docLink = document.createElement('div');\n",
              "          docLink.innerHTML = docLinkHtml;\n",
              "          element.appendChild(docLink);\n",
              "        }\n",
              "      </script>\n",
              "    </div>\n",
              "  </div>\n",
              "  "
            ]
          },
          "metadata": {},
          "execution_count": 28
        }
      ]
    },
    {
      "cell_type": "code",
      "source": [
        "df.to_json(\"dataset.jsonl\", orient=\"records\", lines=True)"
      ],
      "metadata": {
        "id": "1MIqA96tpxo2"
      },
      "execution_count": 29,
      "outputs": []
    },
    {
      "cell_type": "code",
      "execution_count": 30,
      "metadata": {
        "id": "GWiVUF0jIrIv",
        "colab": {
          "base_uri": "https://localhost:8080/",
          "height": 168,
          "referenced_widgets": [
            "ec061cd2759f48518129d5605e65c10f",
            "daa495ff9f4f4bc68a63a665c9ce7bef",
            "c694f1e30fa846c3b5e9cb9f32e8372f",
            "743214b80dbf4644a4553f0dc5a16972",
            "14941f56362949ffb4bb363b48a83260",
            "54310972bfc04f2dba7c95fa5056bb55",
            "fc5611a6d6e04eb19253111031abf423",
            "f7455626a4e54bd8917dd152d36008dd",
            "af7e54e880164524a3ace72351b77005",
            "b03061a43eb94e84bc47588ffdb17fd1",
            "a1bf9d0f578741faa0b69f75da9602d6",
            "730bf2a77c1c451fad881a76a132bfb8",
            "6c518774523240d1a0de773e4a864cc5",
            "1ab8f91b6c18446c8522baee1245896b",
            "e03a685053324e2eba79dfc6cd1d7fb2",
            "ccefec1332644a809b57244c27f8053c",
            "45bda0270f844352a0176d35eed8b0fa",
            "b4e47e222f0a44f88c137a9063016922",
            "21b4350cf0a54534bc10aa2e3fda513a",
            "922452c66cf54b7bbfb18ddaf3f5de19",
            "8e88365cdd5044f08dc6f41c58220423",
            "97635f37808b4912b4a6597cad2e2009",
            "78e5c6976b3949a98c1bde89013dda42",
            "e0e25c8d4d954d53afb33e0217a7e2c1",
            "73eec476904546e1aa170abed0e480ae",
            "b99fbd2fc10e436eb51f723c48f3d015",
            "f7f933a0de02458f84a29f194f07092c",
            "c85896246fae460999e974337002fa54",
            "c524af019511481b826616073a22043d",
            "9d5ab9f15453415aab718fb2a327f5ec",
            "68d489d544a34243a9a89786a15b8ab4",
            "06e5946dc9354bfbbab2234de092fa76",
            "faba73800b244b6191a955e9b78c674e",
            "a24b0958bab74154a3d7f6b5a6d5cf6e",
            "8c4f10ecc46a4df5bf14d388fabd7917",
            "d58fe9f7614f4863b1a8dc37375e2830",
            "a4e300d07df94793b69cdc2b7f54addd",
            "e7e2dd08734b49319631495f664d14b3",
            "2879470c4716442daefcab1f6024a689",
            "5d2047bfb5694582acc7ed73b2124167",
            "fe65bd3cec1c4f5288bf6274e55db6fa",
            "0bcbf57e631e469c962accaa60842fed",
            "ec0e78f0fd8645d1b15b5fc7c67aeb9b",
            "fc862bc1615e4080b4046d839c006946"
          ]
        },
        "outputId": "78d9b084-5176-47b3-900d-2c9bccda46bb"
      },
      "outputs": [
        {
          "output_type": "stream",
          "name": "stdout",
          "text": [
            "Downloading and preparing dataset json/default to /root/.cache/huggingface/datasets/json/default-ceae01c8e9557b5b/0.0.0/0f7e3662623656454fcd2b650f34e886a7db4b9104504885bd462096cc7a9f51...\n"
          ]
        },
        {
          "output_type": "display_data",
          "data": {
            "text/plain": [
              "Downloading data files:   0%|          | 0/1 [00:00<?, ?it/s]"
            ],
            "application/vnd.jupyter.widget-view+json": {
              "version_major": 2,
              "version_minor": 0,
              "model_id": "ec061cd2759f48518129d5605e65c10f"
            }
          },
          "metadata": {}
        },
        {
          "output_type": "display_data",
          "data": {
            "text/plain": [
              "Extracting data files:   0%|          | 0/1 [00:00<?, ?it/s]"
            ],
            "application/vnd.jupyter.widget-view+json": {
              "version_major": 2,
              "version_minor": 0,
              "model_id": "730bf2a77c1c451fad881a76a132bfb8"
            }
          },
          "metadata": {}
        },
        {
          "output_type": "display_data",
          "data": {
            "text/plain": [
              "Generating train split: 0 examples [00:00, ? examples/s]"
            ],
            "application/vnd.jupyter.widget-view+json": {
              "version_major": 2,
              "version_minor": 0,
              "model_id": "78e5c6976b3949a98c1bde89013dda42"
            }
          },
          "metadata": {}
        },
        {
          "output_type": "stream",
          "name": "stdout",
          "text": [
            "Dataset json downloaded and prepared to /root/.cache/huggingface/datasets/json/default-ceae01c8e9557b5b/0.0.0/0f7e3662623656454fcd2b650f34e886a7db4b9104504885bd462096cc7a9f51. Subsequent calls will reuse this data.\n"
          ]
        },
        {
          "output_type": "display_data",
          "data": {
            "text/plain": [
              "  0%|          | 0/1 [00:00<?, ?it/s]"
            ],
            "application/vnd.jupyter.widget-view+json": {
              "version_major": 2,
              "version_minor": 0,
              "model_id": "a24b0958bab74154a3d7f6b5a6d5cf6e"
            }
          },
          "metadata": {}
        }
      ],
      "source": [
        "dataset = load_dataset(\"json\", data_files=\"dataset.jsonl\")"
      ]
    },
    {
      "cell_type": "code",
      "source": [
        "# no train-test provided, so we create our own\n",
        "# 80% train, 20% validation\n",
        "train_testvalid = dataset['train'].train_test_split(seed=123, test_size=0.20)\n",
        "# gather everyone if you want to have a single DatasetDict\n",
        "all_dataset = DatasetDict({\n",
        "    'train': train_testvalid['train'],\n",
        "    'valid': train_testvalid['test']})"
      ],
      "metadata": {
        "id": "gL4EhspbqEZ0"
      },
      "execution_count": 31,
      "outputs": []
    },
    {
      "cell_type": "code",
      "source": [
        "all_dataset"
      ],
      "metadata": {
        "id": "s4QAK6PCqL3E",
        "colab": {
          "base_uri": "https://localhost:8080/"
        },
        "outputId": "ef97da5a-cc48-424a-ce37-4f2f7c9d3b62"
      },
      "execution_count": 32,
      "outputs": [
        {
          "output_type": "execute_result",
          "data": {
            "text/plain": [
              "DatasetDict({\n",
              "    train: Dataset({\n",
              "        features: ['id', 'text', 'label', 'file', 'authors', 'title', 'journals', 'sources', 'keywords', 'abstract', 'BERT_txt'],\n",
              "        num_rows: 2632\n",
              "    })\n",
              "    valid: Dataset({\n",
              "        features: ['id', 'text', 'label', 'file', 'authors', 'title', 'journals', 'sources', 'keywords', 'abstract', 'BERT_txt'],\n",
              "        num_rows: 658\n",
              "    })\n",
              "})"
            ]
          },
          "metadata": {},
          "execution_count": 32
        }
      ]
    },
    {
      "cell_type": "markdown",
      "metadata": {
        "id": "u3EtYfeHIrIz"
      },
      "source": [
        "To access an actual element, you need to select a split first, then give an index:"
      ]
    },
    {
      "cell_type": "code",
      "execution_count": 33,
      "metadata": {
        "id": "X6HrpprwIrIz",
        "colab": {
          "base_uri": "https://localhost:8080/"
        },
        "outputId": "0a55a4ae-5b3d-48b8-8b40-b1e61a27bf3c"
      },
      "outputs": [
        {
          "output_type": "execute_result",
          "data": {
            "text/plain": [
              "{'id': 936,\n",
              " 'text': 'Vallejo M, Rives V, Hauch O\\nPOSB116 Budget Impact Analysis of Pegaspargase in Acute Lymphoblastic Leukemia in Spain\\nValue in Health January 2022; 25(1):Supplement, pp\\nSource : EMBASE - Language : English\\nKeywords : 1349719227; asparaginase asparaginase macrogol endogenous compound; (asparaginase macrogol) 130167690; (asparaginase) 9015683\\n\\nAbstract : Objectives: Acute lymphoblastic leukemia (ALL) is a rare, acute, rapidly progressing, and life-threatening form of cancer involving lymphoblasts. Pegaspargase, in which the immunogenicity of the native E.coli asparaginase enzyme is masked by conjugation with a polyethylene glycol group, has equivalent event free survival and overall survival as native E.coli asparaginase, elicits fewer hypersensitivity reactions necessitating an treatment switch to Erwinia derived asparaginase (Erwinase.RTM.) and requires fewer injections. This research aims to evaluate the Budget Impact/savings of pegaspargase in ALL in pediatric and adult patients in Spain, as a component of antineoplastic treatment protocol. The model considers a hypothetical market without pegaspargase increasing to 100% market share in year 5. Methods: A model originally developed for NICE was adapted to the Spanish NHS, in accordance with the protocols used in Spain. Treatment sequences modelled: 1. Pegaspargase followed by Erwinase.RTM. in case of hypersensitivity 2. Native E.coli asparaginase followed by Erwinase.RTM. in case of hypersensitivity Model structure: Treatment protocols evaluated: 1) SEHOP PET 2013 for pediatric/adolescent and young adults patients.ltoreq. 19 years and 2) PETHEMA LAL 2019 for adults patients > 19 years. Number of patients treated were identified in a time horizon of 5 years. Cost of administration and hypersensitivity was included. Percentages of hypersensitivity considered were 20%, 20% and 2% for native E.coli asparaginase, Erwinase.RTM. and pegaspargase, respectively. Results: Pegaspargase 1st line followed by Erwinase.RTM. 2nd line is cost-saving versus native E.coli asparaginase 1st line followed by Erwinase.RTM. Cumulative Saving in 4 years reach.EURO. 6,666,089.EURO. Conclusions: Pegaspargase versus native E.coli asparaginase use 1st line in ALL treatment is cost-saving.\\n',\n",
              " 'label': 0,\n",
              " 'file': 'alertePV-20220201.docx',\n",
              " 'authors': 'Vallejo M, Rives V, Hauch O',\n",
              " 'title': 'POSB116 Budget Impact Analysis of Pegaspargase in Acute Lymphoblastic Leukemia in Spain',\n",
              " 'journals': 'Value in Health January 2022; 25(1):Supplement, pp',\n",
              " 'sources': 'EMBASE - Language : English',\n",
              " 'keywords': '1349719227; asparaginase asparaginase macrogol endogenous compound; (asparaginase macrogol) 130167690; (asparaginase) 9015683',\n",
              " 'abstract': 'Objectives: Acute lymphoblastic leukemia (ALL) is a rare, acute, rapidly progressing, and life-threatening form of cancer involving lymphoblasts. Pegaspargase, in which the immunogenicity of the native E.coli asparaginase enzyme is masked by conjugation with a polyethylene glycol group, has equivalent event free survival and overall survival as native E.coli asparaginase, elicits fewer hypersensitivity reactions necessitating an treatment switch to Erwinia derived asparaginase (Erwinase.RTM.) and requires fewer injections. This research aims to evaluate the Budget Impact/savings of pegaspargase in ALL in pediatric and adult patients in Spain, as a component of antineoplastic treatment protocol. The model considers a hypothetical market without pegaspargase increasing to 100% market share in year 5. Methods: A model originally developed for NICE was adapted to the Spanish NHS, in accordance with the protocols used in Spain. Treatment sequences modelled: 1. Pegaspargase followed by Erwinase.RTM. in case of hypersensitivity 2. Native E.coli asparaginase followed by Erwinase.RTM. in case of hypersensitivity Model structure: Treatment protocols evaluated: 1) SEHOP PET 2013 for pediatric/adolescent and young adults patients.ltoreq. 19 years and 2) PETHEMA LAL 2019 for adults patients > 19 years. Number of patients treated were identified in a time horizon of 5 years. Cost of administration and hypersensitivity was included. Percentages of hypersensitivity considered were 20%, 20% and 2% for native E.coli asparaginase, Erwinase.RTM. and pegaspargase, respectively. Results: Pegaspargase 1st line followed by Erwinase.RTM. 2nd line is cost-saving versus native E.coli asparaginase 1st line followed by Erwinase.RTM. Cumulative Saving in 4 years reach.EURO. 6,666,089.EURO. Conclusions: Pegaspargase versus native E.coli asparaginase use 1st line in ALL treatment is cost-saving.',\n",
              " 'BERT_txt': '[TITLE] POSB116 Budget Impact Analysis of Pegaspargase in Acute Lymphoblastic Leukemia in Spain. [ABSTR] Objectives: Acute lymphoblastic leukemia (ALL) is a rare, acute, rapidly progressing, and life-threatening form of cancer involving lymphoblasts. Pegaspargase, in which the immunogenicity of the native E.coli asparaginase enzyme is masked by conjugation with a polyethylene glycol group, has equivalent event free survival and overall survival as native E.coli asparaginase, elicits fewer hypersensitivity reactions necessitating an treatment switch to Erwinia derived asparaginase (Erwinase.RTM.) and requires fewer injections. This research aims to evaluate the Budget Impact/savings of pegaspargase in ALL in pediatric and adult patients in Spain, as a component of antineoplastic treatment protocol. The model considers a hypothetical market without pegaspargase increasing to 100% market share in year 5. Methods: A model originally developed for NICE was adapted to the Spanish NHS, in accordance with the protocols used in Spain. Treatment sequences modelled: 1. Pegaspargase followed by Erwinase.RTM. in case of hypersensitivity 2. Native E.coli asparaginase followed by Erwinase.RTM. in case of hypersensitivity Model structure: Treatment protocols evaluated: 1) SEHOP PET 2013 for pediatric/adolescent and young adults patients.ltoreq. 19 years and 2) PETHEMA LAL 2019 for adults patients > 19 years. Number of patients treated were identified in a time horizon of 5 years. Cost of administration and hypersensitivity was included. Percentages of hypersensitivity considered were 20%, 20% and 2% for native E.coli asparaginase, Erwinase.RTM. and pegaspargase, respectively. Results: Pegaspargase 1st line followed by Erwinase.RTM. 2nd line is cost-saving versus native E.coli asparaginase 1st line followed by Erwinase.RTM. Cumulative Saving in 4 years reach.EURO. 6,666,089.EURO. Conclusions: Pegaspargase versus native E.coli asparaginase use 1st line in ALL treatment is cost-saving. [KEYW] 1349719227; asparaginase asparaginase macrogol endogenous compound; (asparaginase macrogol) 130167690; (asparaginase) 9015683'}"
            ]
          },
          "metadata": {},
          "execution_count": 33
        }
      ],
      "source": [
        "all_dataset[\"train\"][0]"
      ]
    },
    {
      "cell_type": "markdown",
      "metadata": {
        "id": "WHUmphG3IrI3"
      },
      "source": [
        "To get a sense of what the data looks like, the following function will show some examples picked randomly in the dataset."
      ]
    },
    {
      "cell_type": "markdown",
      "metadata": {
        "id": "lnjDIuQ3IrI-"
      },
      "source": [
        "The metric is an instance of [`datasets.Metric`](https://huggingface.co/docs/datasets/package_reference/main_classes.html#datasets.Metric):"
      ]
    },
    {
      "cell_type": "code",
      "execution_count": 34,
      "metadata": {
        "id": "5o4rUteaIrI_",
        "colab": {
          "base_uri": "https://localhost:8080/"
        },
        "outputId": "374f2307-02d5-452b-f47c-0350a10a7cac"
      },
      "outputs": [
        {
          "output_type": "execute_result",
          "data": {
            "text/plain": [
              "['accuracy', 'f1', 'precision', 'recall']"
            ]
          },
          "metadata": {},
          "execution_count": 34
        }
      ],
      "source": [
        "clf_metrics.evaluation_module_names"
      ]
    },
    {
      "cell_type": "markdown",
      "metadata": {
        "id": "n9qywopnIrJH"
      },
      "source": [
        "## Preprocessing the data"
      ]
    },
    {
      "cell_type": "markdown",
      "metadata": {
        "id": "YVx71GdAIrJH"
      },
      "source": [
        "Before we can feed those texts to our model, we need to preprocess them. This is done by a 🤗 Transformers `Tokenizer` which will (as the name indicates) tokenize the inputs (including converting the tokens to their corresponding IDs in the pretrained vocabulary) and put it in a format the model expects, as well as generate the other inputs that model requires.\n",
        "\n",
        "To do all of this, we instantiate our tokenizer with the `AutoTokenizer.from_pretrained` method, which will ensure:\n",
        "\n",
        "- we get a tokenizer that corresponds to the model architecture we want to use,\n",
        "- we download the vocabulary used when pretraining this specific checkpoint.\n",
        "\n",
        "That vocabulary will be cached, so it's not downloaded again the next time we run the cell."
      ]
    },
    {
      "cell_type": "code",
      "execution_count": 35,
      "metadata": {
        "id": "eXNLu_-nIrJI"
      },
      "outputs": [],
      "source": [
        "from transformers import AutoTokenizer\n",
        "\n",
        "if model_checkpoint == 'kamalkraj/biogpt':\n",
        "    from transformers import BioGptTokenizer\n",
        "    tokenizer = BioGptTokenizer.from_pretrained(model_checkpoint, use_fast=True)\n",
        "elif model_checkpoint == 'michiyasunaga/bio-dragon':\n",
        "    tokenizer = AutoTokenizer.from_pretrained('microsoft/BiomedNLP-PubMedBERT-base-uncased-abstract', use_fast=True)\n",
        "else:  \n",
        "    tokenizer = AutoTokenizer.from_pretrained(model_checkpoint, use_fast=True)"
      ]
    },
    {
      "cell_type": "markdown",
      "metadata": {
        "id": "Vl6IidfdIrJK"
      },
      "source": [
        "We pass along `use_fast=True` to the call above to use one of the fast tokenizers (backed by Rust) from the 🤗 Tokenizers library. Those fast tokenizers are available for almost all models, but if you got an error with the previous call, remove that argument."
      ]
    },
    {
      "cell_type": "markdown",
      "metadata": {
        "id": "rowT4iCLIrJK"
      },
      "source": [
        "You can directly call this tokenizer on one sentence or a pair of sentences:"
      ]
    },
    {
      "cell_type": "code",
      "execution_count": 36,
      "metadata": {
        "id": "a5hBlsrHIrJL",
        "colab": {
          "base_uri": "https://localhost:8080/"
        },
        "outputId": "e5fcda6a-27d0-4b25-f96c-b807a45daafa"
      },
      "outputs": [
        {
          "output_type": "execute_result",
          "data": {
            "text/plain": [
              "{'input_ids': [102, 29423, 30112, 422, 238, 482, 8517, 3190, 103, 137, 238, 8517, 9289, 190, 256, 205, 103], 'token_type_ids': [0, 0, 0, 0, 0, 0, 0, 0, 0, 1, 1, 1, 1, 1, 1, 1, 1], 'attention_mask': [1, 1, 1, 1, 1, 1, 1, 1, 1, 1, 1, 1, 1, 1, 1, 1, 1]}"
            ]
          },
          "metadata": {},
          "execution_count": 36
        }
      ],
      "source": [
        "tokenizer(\"Hello, this one sentence!\", \"And this sentence goes with it.\")"
      ]
    },
    {
      "cell_type": "markdown",
      "metadata": {
        "id": "qo_0B1M2IrJM"
      },
      "source": [
        "Depending on the model you selected, you will see different keys in the dictionary returned by the cell above. They don't matter much for what we're doing here (just know they are required by the model we will instantiate later), you can learn more about them in [this tutorial](https://huggingface.co/transformers/preprocessing.html) if you're interested.\n",
        "\n",
        "To preprocess our dataset, we will thus need the names of the columns containing the sentence(s). The following dictionary keeps track of the correspondence task to column names:"
      ]
    },
    {
      "cell_type": "markdown",
      "metadata": {
        "id": "2C0hcmp9IrJQ"
      },
      "source": [
        "We can then write the function that will preprocess our samples. We just feed them to the `tokenizer` with the argument `truncation=True`. This will ensure that an input longer that what the model selected can handle will be truncated to the maximum length accepted by the model."
      ]
    },
    {
      "cell_type": "code",
      "execution_count": 37,
      "metadata": {
        "id": "vc0BSBLIIrJQ"
      },
      "outputs": [],
      "source": [
        "def preprocess_function(examples):\n",
        "    tokens = tokenizer(examples['BERT_txt'], truncation=True, max_length=512)\n",
        "    return tokens"
      ]
    },
    {
      "cell_type": "markdown",
      "metadata": {
        "id": "0lm8ozrJIrJR"
      },
      "source": [
        "This function works with one or several examples. In the case of several examples, the tokenizer will return a list of lists for each key:"
      ]
    },
    {
      "cell_type": "code",
      "execution_count": 38,
      "metadata": {
        "id": "-b70jh26IrJS",
        "colab": {
          "base_uri": "https://localhost:8080/"
        },
        "outputId": "5d909c91-bb60-47b2-89ff-fb2cf4517c25"
      },
      "outputs": [
        {
          "output_type": "execute_result",
          "data": {
            "text/plain": [
              "{'input_ids': [[102, 260, 10037, 1901, 495, 30125, 17828, 9600, 2141, 669, 131, 10850, 7714, 664, 297, 121, 3325, 2939, 21405, 9832, 121, 9852, 205, 260, 3628, 1901, 6454, 862, 3325, 2939, 21405, 9832, 145, 355, 546, 165, 106, 4346, 422, 3325, 422, 5450, 5180, 140, 422, 137, 1994, 579, 27918, 592, 131, 1314, 5005, 2939, 15478, 205, 10850, 7714, 664, 297, 422, 121, 334, 111, 27792, 131, 111, 6227, 139, 205, 5703, 2287, 4522, 10794, 297, 3823, 165, 23270, 214, 19071, 190, 106, 19736, 11976, 583, 422, 434, 3552, 2607, 2159, 2842, 137, 2103, 2842, 188, 6227, 139, 205, 5703, 2287, 4522, 10794, 297, 422, 15945, 30113, 7060, 19056, 12158, 4649, 1956, 17642, 130, 922, 6216, 147, 17763, 4983, 30110, 2865, 2287, 4522, 10794, 297, 145, 17763, 15203, 205, 3483, 30119, 205, 546, 137, 2978, 7060, 11397, 205, 238, 849, 7415, 147, 3138, 111, 9600, 2141, 1352, 12042, 131, 10850, 7714, 664, 297, 121, 355, 121, 6946, 137, 3873, 568, 121, 9852, 422, 188, 106, 2332, 131, 821, 711, 12953, 922, 2929, 205, 111, 437, 10289, 106, 15063, 2753, 1319, 10850, 7714, 664, 297, 1953, 147, 1287, 1863, 2753, 4456, 121, 996, 305, 205, 1045, 862, 106, 437, 9273, 1815, 168, 18502, 241, 8030, 147, 111, 12998, 17694, 422, 121, 7630, 190, 111, 5320, 501, 121, 9852, 205, 922, 2789, 14537, 862, 158, 205, 10850, 7714, 664, 297, 2594, 214, 17763, 15203, 205, 3483, 30119, 205, 121, 820, 131, 19056, 12158, 170, 205, 6227, 139, 205, 5703, 2287, 4522, 10794, 297, 2594, 214, 17763, 15203, 205, 3483, 30119, 205, 121, 820, 131, 19056, 12158, 437, 1187, 862, 922, 5320, 2840, 862, 158, 546, 13398, 237, 3736, 4733, 168, 6946, 1352, 11644, 137, 3182, 4311, 568, 205, 7533, 257, 30147, 205, 371, 1320, 137, 170, 546, 3736, 606, 30110, 1665, 30115, 497, 30141, 168, 4311, 568, 1374, 371, 1320, 205, 649, 131, 568, 2338, 267, 1887, 121, 106, 532, 11894, 131, 305, 1320, 205, 1729, 131, 3762, 137, 19056, 12158, 241, 1936, 205, 12148, 131, 19056, 12158, 1574, 267, 1012, 1863, 422, 1012, 1863, 137, 170, 1863, 168, 6227, 139, 205, 5703, 2287, 4522, 10794, 297, 422, 17763, 15203, 205, 3483, 30119, 205, 137, 10850, 7714, 664, 297, 422, 1222, 205, 545, 862, 10850, 7714, 664, 297, 158, 187, 972, 2594, 214, 17763, 15203, 205, 3483, 30119, 205, 170, 3710, 972, 165, 1729, 579, 13873, 3304, 6227, 139, 205, 5703, 2287, 4522, 10794, 297, 158, 187, 972, 2594, 214, 17763, 15203, 205, 3483, 30119, 205, 8217, 13873, 121, 286, 1320, 4689, 205, 16281, 205, 370, 422, 7107, 30142, 422, 11472, 30141, 205, 16281, 205, 3078, 862, 10850, 7714, 664, 297, 3304, 6227, 139, 205, 5703, 2287, 4522, 10794, 297, 626, 158, 187, 972, 121, 355, 922, 165, 1729, 579, 13873, 205, 260, 1519, 30128, 1901, 16066, 3317, 1685, 2000, 30145, 1814, 2287, 4522, 10794, 297, 2287, 4522, 10794, 297, 7183, 28755, 6364, 2573, 1814, 145, 2287, 4522, 10794, 297, 7183, 28755, 546, 11222, 24052, 5576, 30131, 1814, 145, 2287, 4522, 10794, 297, 546, 3289, 24652, 6207, 103], [102, 260, 10037, 1901, 13024, 2218, 2109, 30115, 300, 2637, 341, 16516, 131, 152, 579, 2287, 4522, 10794, 297, 121, 2909, 7911, 4151, 576, 205, 260, 3628, 1901, 2740, 862, 13024, 2218, 2109, 30115, 165, 106, 7297, 501, 147, 814, 5161, 1702, 2241, 422, 582, 256, 7022, 188, 130, 4773, 131, 111, 14927, 579, 18168, 3823, 145, 9214, 546, 137, 5126, 30113, 111, 14604, 4907, 1278, 121, 2909, 7911, 4151, 576, 205, 152, 579, 2287, 4522, 10794, 297, 145, 24716, 297, 546, 422, 106, 16588, 17151, 3230, 422, 165, 501, 168, 111, 922, 131, 568, 13158, 263, 3325, 9832, 214, 1953, 111, 341, 16516, 131, 2909, 7911, 4151, 576, 205, 2579, 862, 238, 527, 7415, 147, 2008, 111, 907, 131, 13024, 2218, 2109, 30115, 191, 111, 341, 16516, 131, 24716, 297, 121, 2909, 7911, 4151, 576, 205, 1045, 862, 3398, 6160, 2218, 17733, 1682, 267, 5218, 690, 874, 1302, 205, 111, 1682, 121, 111, 705, 583, 267, 2338, 190, 13024, 2218, 2109, 30115, 145, 566, 1529, 1352, 5036, 1352, 2181, 546, 168, 1128, 1976, 205, 111, 1682, 121, 111, 971, 583, 267, 6812, 20866, 179, 190, 24716, 297, 145, 15365, 11763, 1352, 5036, 546, 205, 111, 1682, 121, 111, 2765, 583, 267, 2338, 190, 13024, 2218, 2109, 30115, 168, 1128, 1976, 2594, 214, 130, 20866, 4209, 131, 24716, 297, 235, 111, 864, 131, 111, 1041, 266, 2181, 205, 341, 16516, 241, 2840, 214, 9215, 111, 3592, 131, 111, 17752, 5018, 153, 145, 5060, 546, 137, 111, 16137, 2018, 145, 4323, 546, 205, 545, 862, 24716, 297, 1357, 1175, 111, 341, 16516, 121, 2909, 7911, 4151, 576, 214, 15933, 111, 1863, 5060, 137, 214, 14544, 111, 1863, 4323, 205, 425, 684, 907, 241, 1058, 603, 566, 1529, 1352, 5036, 1352, 2181, 131, 13024, 2218, 2109, 30115, 241, 6115, 205, 694, 422, 106, 684, 6929, 121, 111, 341, 16516, 145, 6100, 1863, 5060, 137, 1953, 1863, 4323, 546, 241, 1058, 603, 111, 1682, 267, 2338, 190, 13024, 2218, 2109, 30115, 137, 24716, 297, 205, 1705, 862, 487, 13024, 2218, 2109, 30115, 422, 106, 1702, 5801, 7297, 422, 190, 111, 16640, 4616, 3230, 422, 24716, 297, 422, 2664, 111, 341, 16516, 131, 24716, 297, 121, 2909, 7911, 4151, 576, 205, 260, 1519, 30128, 1901, 2287, 4522, 10794, 297, 6332, 2613, 8134, 30115, 29774, 1417, 489, 11625, 6364, 2573, 13024, 2218, 2109, 30115, 103], [102, 260, 10037, 1901, 4940, 3000, 1287, 2380, 1635, 862, 21186, 2506, 7194, 153, 8697, 26330, 23903, 25357, 579, 106, 4346, 2836, 131, 7999, 18166, 3419, 2505, 112, 4225, 205, 260, 3628, 1901, 2067, 862, 26330, 13913, 7304, 7159, 145, 24914, 546, 579, 2229, 18166, 3419, 2505, 112, 4225, 263, 8697, 26330, 23903, 25357, 165, 130, 17109, 8494, 205, 7251, 1120, 131, 555, 13920, 579, 7428, 12873, 25357, 165, 1390, 475, 4346, 205, 820, 3756, 862, 106, 4133, 996, 4289, 20622, 30126, 1632, 121, 8063, 190, 130, 5161, 2627, 13920, 131, 5629, 14737, 1352, 152, 145, 146, 962, 1539, 546, 191, 158, 1529, 8660, 18881, 7342, 856, 145, 29164, 187, 546, 781, 697, 251, 168, 3287, 4080, 131, 5801, 205, 7165, 2281, 241, 302, 17327, 179, 18166, 3419, 1153, 8394, 263, 1929, 3571, 131, 286, 5036, 573, 158, 996, 205, 8595, 1540, 3938, 7858, 13920, 1049, 267, 8583, 214, 158, 205, 286, 579, 239, 205, 493, 7966, 422, 137, 24914, 241, 22390, 235, 962, 170, 205, 170, 19906, 1352, 152, 205, 2493, 1367, 106, 239, 30137, 30132, 1834, 2083, 12873, 23382, 260, 1858, 1964, 4286, 30108, 26394, 1290, 5469, 3660, 145, 4000, 546, 2107, 422, 13798, 521, 8676, 1863, 1901, 137, 106, 1346, 2101, 12873, 9698, 205, 7858, 18852, 17604, 422, 25323, 21482, 1857, 422, 8078, 11901, 30113, 422, 137, 14368, 1049, 267, 355, 1346, 205, 2281, 25891, 147, 13130, 2083, 12873, 6691, 121, 6412, 422, 190, 7149, 13800, 12873, 6560, 24243, 205, 2781, 2499, 1422, 237, 2281, 6677, 493, 5036, 131, 1929, 422, 137, 821, 579, 16119, 30113, 968, 195, 24142, 205, 1959, 3911, 1935, 574, 7278, 241, 13269, 121, 4758, 603, 1750, 2001, 977, 353, 688, 856, 1367, 4266, 131, 12873, 662, 205, 2539, 1320, 647, 111, 12873, 6691, 111, 20622, 30126, 241, 797, 147, 195, 16119, 1573, 137, 474, 1348, 286, 5036, 131, 1929, 205, 2627, 13920, 241, 23517, 14737, 1352, 152, 145, 146, 962, 1539, 546, 191, 158, 1529, 29164, 187, 205, 8595, 1540, 3938, 7858, 13920, 1049, 267, 8583, 214, 305, 579, 566, 7966, 422, 190, 9883, 24914, 962, 170, 205, 170, 19906, 1352, 152, 137, 8078, 11901, 30113, 244, 205, 158, 3472, 162, 1352, 152, 145, 146, 158, 579, 450, 546, 205, 7858, 11809, 3822, 1367, 425, 8678, 131, 14615, 9125, 205, 2493, 121, 4950, 1367, 106, 170, 205, 370, 30137, 30130, 205, 493, 1834, 2101, 12873, 23382, 260, 1858, 1964, 4286, 30108, 4000, 1012, 422, 13798, 521, 7319, 1863, 1901, 190, 1775, 131, 2083, 12873, 6691, 205, 111, 1454, 13822, 4086, 3832, 5266, 1074, 147, 6366, 190, 111, 28161, 131, 8697, 1114, 12873, 6691, 205, 25271, 2918, 168, 286, 1320, 1367, 425, 684, 3191, 1477, 121, 111, 23382, 205, 374, 1879, 230, 574, 241, 6774, 603, 111, 14522, 2627, 13920, 22928, 147, 4507, 579, 9931, 14737, 1352, 152, 145, 146, 18785, 579, 1539, 30145, 546, 422, 563, 602, 131, 1884, 3911, 13212, 3788, 241, 18634, 188, 2281, 968, 617, 23210, 629, 2750, 131, 655, 374, 1879, 230, 574, 137, 1441, 944, 7672, 205, 188, 111, 1288, 22661, 2281, 469, 1761, 20210, 137, 12166, 8152, 103], [102, 260, 10037, 1901, 1329, 4005, 383, 2505, 112, 3832, 147, 1658, 7297, 20219, 168, 2957, 3018, 862, 705, 2899, 263, 8557, 133, 205, 260, 3628, 1901, 2740, 862, 10033, 1721, 147, 1658, 2952, 121, 2957, 3018, 145, 6901, 546, 220, 1676, 302, 10891, 234, 10891, 235, 414, 579, 4616, 5736, 205, 111, 867, 131, 1329, 25743, 147, 111, 6901, 4832, 7189, 7681, 14143, 8622, 10033, 168, 106, 1454, 190, 6901, 190, 1797, 18438, 3160, 145, 6901, 6261, 546, 205, 3201, 862, 147, 1285, 111, 3832, 131, 111, 1329, 4005, 383, 188, 1188, 131, 111, 869, 11446, 145, 3211, 546, 4832, 121, 692, 579, 20219, 147, 3120, 1549, 5736, 131, 1519, 4616, 3027, 168, 6901, 6261, 205, 1045, 862, 238, 241, 106, 6880, 482, 583, 29342, 579, 1422, 5528, 22939, 527, 1814, 106, 2029, 131, 111, 1549, 2750, 11802, 131, 1519, 4616, 3027, 168, 6901, 6261, 241, 1260, 1548, 137, 647, 1329, 4005, 383, 5434, 205, 545, 862, 556, 131, 8369, 6901, 6261, 568, 422, 5309, 205, 239, 1863, 267, 5165, 422, 137, 111, 1108, 1407, 131, 568, 241, 4023, 205, 493, 1320, 145, 3654, 760, 205, 370, 546, 205, 18858, 241, 111, 3593, 2836, 131, 6901, 205, 235, 3263, 422, 8676, 1863, 267, 191, 14927, 579, 18168, 3823, 5241, 1352, 14927, 2629, 23524, 1352, 14927, 2629, 579, 287, 2109, 15716, 107, 5241, 145, 9214, 129, 1352, 18214, 30113, 1352, 19564, 30109, 546, 137, 8623, 205, 370, 1863, 191, 6130, 23524, 145, 10406, 30113, 546, 205, 235, 111, 864, 131, 527, 422, 111, 4079, 131, 568, 3178, 111, 1549, 2750, 241, 1357, 1175, 145, 244, 2406, 7466, 205, 286, 1863, 422, 370, 205, 493, 2406, 6885, 205, 286, 1863, 422, 137, 244, 2406, 4023, 205, 370, 1863, 546, 168, 9214, 129, 422, 18214, 30113, 137, 19564, 30109, 422, 1222, 422, 137, 145, 493, 205, 370, 1863, 2406, 7107, 205, 158, 1863, 1814, 118, 275, 244, 205, 3641, 30130, 546, 168, 10406, 30113, 205, 2428, 422, 111, 692, 579, 20219, 624, 241, 1111, 190, 684, 3523, 121, 755, 1329, 188, 18438, 3160, 137, 758, 4811, 2957, 2274, 145, 6808, 845, 546, 2211, 137, 3131, 2087, 205, 1705, 862, 188, 106, 1188, 131, 111, 3211, 4832, 121, 111, 13844, 6901, 7234, 422, 111, 1329, 25743, 1175, 111, 3592, 131, 6901, 6261, 568, 9153, 111, 1549, 234, 5686, 5736, 131, 1519, 4616, 3027, 137, 6017, 1329, 137, 3131, 1496, 205, 260, 1519, 30128, 1901, 17930, 5356, 8037, 8037, 1814, 15723, 3317, 11242, 30146, 1814, 2242, 2569, 30139, 1814, 8462, 6731, 7745, 2986, 1814, 14927, 2629, 11248, 862, 572, 1814, 145, 5742, 24668, 162, 546, 7107, 6365, 17500, 30141, 1814, 145, 3485, 123, 19337, 546, 17185, 3495, 25272, 30145, 1814, 145, 808, 749, 174, 162, 546, 5433, 2855, 1933, 4520, 1814, 145, 12627, 546, 13054, 25296, 866, 1814, 1698, 2750, 14927, 2629, 11248, 862, 4600, 1814, 1698, 2750, 6130, 26330, 5777, 2629, 8732, 3230, 862, 4600, 1814, 1698, 2750, 6332, 2613, 8134, 30115, 29774, 1417, 489, 11625, 4773, 862, 4600, 1814, 1698, 2750, 279, 1359, 6068, 15203, 4773, 862, 4600, 1814, 1698, 2223, 1814, 6364, 103], [102, 260, 10037, 1901, 5967, 1491, 171, 7411, 121, 111, 2707, 131, 10051, 25263, 10583, 276, 2223, 168, 3325, 2939, 21405, 9832, 205, 260, 1519, 30128, 1901, 14234, 21215, 30145, 145, 1149, 2506, 3501, 107, 546, 3289, 24652, 6207, 145, 3033, 961, 23054, 297, 546, 3289, 24652, 6207, 145, 1855, 239, 205, 305, 205, 158, 205, 158, 546, 18772, 5337, 30145, 145, 27017, 4268, 9451, 546, 5275, 5559, 30132, 145, 24741, 546, 25524, 5688, 2415, 30146, 145, 10051, 25263, 10583, 276, 546, 103]], 'token_type_ids': [[0, 0, 0, 0, 0, 0, 0, 0, 0, 0, 0, 0, 0, 0, 0, 0, 0, 0, 0, 0, 0, 0, 0, 0, 0, 0, 0, 0, 0, 0, 0, 0, 0, 0, 0, 0, 0, 0, 0, 0, 0, 0, 0, 0, 0, 0, 0, 0, 0, 0, 0, 0, 0, 0, 0, 0, 0, 0, 0, 0, 0, 0, 0, 0, 0, 0, 0, 0, 0, 0, 0, 0, 0, 0, 0, 0, 0, 0, 0, 0, 0, 0, 0, 0, 0, 0, 0, 0, 0, 0, 0, 0, 0, 0, 0, 0, 0, 0, 0, 0, 0, 0, 0, 0, 0, 0, 0, 0, 0, 0, 0, 0, 0, 0, 0, 0, 0, 0, 0, 0, 0, 0, 0, 0, 0, 0, 0, 0, 0, 0, 0, 0, 0, 0, 0, 0, 0, 0, 0, 0, 0, 0, 0, 0, 0, 0, 0, 0, 0, 0, 0, 0, 0, 0, 0, 0, 0, 0, 0, 0, 0, 0, 0, 0, 0, 0, 0, 0, 0, 0, 0, 0, 0, 0, 0, 0, 0, 0, 0, 0, 0, 0, 0, 0, 0, 0, 0, 0, 0, 0, 0, 0, 0, 0, 0, 0, 0, 0, 0, 0, 0, 0, 0, 0, 0, 0, 0, 0, 0, 0, 0, 0, 0, 0, 0, 0, 0, 0, 0, 0, 0, 0, 0, 0, 0, 0, 0, 0, 0, 0, 0, 0, 0, 0, 0, 0, 0, 0, 0, 0, 0, 0, 0, 0, 0, 0, 0, 0, 0, 0, 0, 0, 0, 0, 0, 0, 0, 0, 0, 0, 0, 0, 0, 0, 0, 0, 0, 0, 0, 0, 0, 0, 0, 0, 0, 0, 0, 0, 0, 0, 0, 0, 0, 0, 0, 0, 0, 0, 0, 0, 0, 0, 0, 0, 0, 0, 0, 0, 0, 0, 0, 0, 0, 0, 0, 0, 0, 0, 0, 0, 0, 0, 0, 0, 0, 0, 0, 0, 0, 0, 0, 0, 0, 0, 0, 0, 0, 0, 0, 0, 0, 0, 0, 0, 0, 0, 0, 0, 0, 0, 0, 0, 0, 0, 0, 0, 0, 0, 0, 0, 0, 0, 0, 0, 0, 0, 0, 0, 0, 0, 0, 0, 0, 0, 0, 0, 0, 0, 0, 0, 0, 0, 0, 0, 0, 0, 0, 0, 0, 0, 0, 0, 0, 0, 0, 0, 0, 0, 0, 0, 0, 0, 0, 0, 0, 0, 0, 0, 0, 0, 0, 0, 0, 0, 0, 0, 0, 0, 0, 0, 0, 0, 0, 0, 0, 0, 0, 0, 0, 0, 0, 0, 0, 0, 0, 0, 0, 0, 0, 0, 0, 0, 0, 0, 0, 0, 0, 0, 0, 0, 0, 0, 0, 0, 0, 0, 0, 0, 0, 0, 0, 0, 0, 0, 0, 0, 0, 0, 0, 0, 0, 0, 0, 0, 0, 0, 0, 0, 0, 0, 0, 0, 0, 0, 0, 0, 0, 0, 0, 0, 0, 0, 0, 0, 0, 0, 0, 0, 0, 0, 0, 0, 0, 0, 0, 0, 0, 0, 0, 0, 0, 0, 0, 0, 0], [0, 0, 0, 0, 0, 0, 0, 0, 0, 0, 0, 0, 0, 0, 0, 0, 0, 0, 0, 0, 0, 0, 0, 0, 0, 0, 0, 0, 0, 0, 0, 0, 0, 0, 0, 0, 0, 0, 0, 0, 0, 0, 0, 0, 0, 0, 0, 0, 0, 0, 0, 0, 0, 0, 0, 0, 0, 0, 0, 0, 0, 0, 0, 0, 0, 0, 0, 0, 0, 0, 0, 0, 0, 0, 0, 0, 0, 0, 0, 0, 0, 0, 0, 0, 0, 0, 0, 0, 0, 0, 0, 0, 0, 0, 0, 0, 0, 0, 0, 0, 0, 0, 0, 0, 0, 0, 0, 0, 0, 0, 0, 0, 0, 0, 0, 0, 0, 0, 0, 0, 0, 0, 0, 0, 0, 0, 0, 0, 0, 0, 0, 0, 0, 0, 0, 0, 0, 0, 0, 0, 0, 0, 0, 0, 0, 0, 0, 0, 0, 0, 0, 0, 0, 0, 0, 0, 0, 0, 0, 0, 0, 0, 0, 0, 0, 0, 0, 0, 0, 0, 0, 0, 0, 0, 0, 0, 0, 0, 0, 0, 0, 0, 0, 0, 0, 0, 0, 0, 0, 0, 0, 0, 0, 0, 0, 0, 0, 0, 0, 0, 0, 0, 0, 0, 0, 0, 0, 0, 0, 0, 0, 0, 0, 0, 0, 0, 0, 0, 0, 0, 0, 0, 0, 0, 0, 0, 0, 0, 0, 0, 0, 0, 0, 0, 0, 0, 0, 0, 0, 0, 0, 0, 0, 0, 0, 0, 0, 0, 0, 0, 0, 0, 0, 0, 0, 0, 0, 0, 0, 0, 0, 0, 0, 0, 0, 0, 0, 0, 0, 0, 0, 0, 0, 0, 0, 0, 0, 0, 0, 0, 0, 0, 0, 0, 0, 0, 0, 0, 0, 0, 0, 0, 0, 0, 0, 0, 0, 0, 0, 0, 0, 0, 0, 0, 0, 0, 0, 0, 0, 0, 0, 0, 0, 0, 0, 0, 0, 0, 0, 0, 0, 0, 0, 0, 0, 0, 0, 0, 0, 0, 0, 0, 0, 0, 0, 0, 0, 0, 0, 0, 0, 0, 0, 0, 0, 0, 0, 0, 0, 0, 0, 0, 0, 0, 0, 0, 0, 0, 0, 0, 0, 0, 0, 0, 0, 0, 0, 0, 0, 0, 0, 0, 0, 0, 0, 0, 0, 0, 0, 0, 0, 0, 0, 0, 0, 0, 0, 0, 0, 0], [0, 0, 0, 0, 0, 0, 0, 0, 0, 0, 0, 0, 0, 0, 0, 0, 0, 0, 0, 0, 0, 0, 0, 0, 0, 0, 0, 0, 0, 0, 0, 0, 0, 0, 0, 0, 0, 0, 0, 0, 0, 0, 0, 0, 0, 0, 0, 0, 0, 0, 0, 0, 0, 0, 0, 0, 0, 0, 0, 0, 0, 0, 0, 0, 0, 0, 0, 0, 0, 0, 0, 0, 0, 0, 0, 0, 0, 0, 0, 0, 0, 0, 0, 0, 0, 0, 0, 0, 0, 0, 0, 0, 0, 0, 0, 0, 0, 0, 0, 0, 0, 0, 0, 0, 0, 0, 0, 0, 0, 0, 0, 0, 0, 0, 0, 0, 0, 0, 0, 0, 0, 0, 0, 0, 0, 0, 0, 0, 0, 0, 0, 0, 0, 0, 0, 0, 0, 0, 0, 0, 0, 0, 0, 0, 0, 0, 0, 0, 0, 0, 0, 0, 0, 0, 0, 0, 0, 0, 0, 0, 0, 0, 0, 0, 0, 0, 0, 0, 0, 0, 0, 0, 0, 0, 0, 0, 0, 0, 0, 0, 0, 0, 0, 0, 0, 0, 0, 0, 0, 0, 0, 0, 0, 0, 0, 0, 0, 0, 0, 0, 0, 0, 0, 0, 0, 0, 0, 0, 0, 0, 0, 0, 0, 0, 0, 0, 0, 0, 0, 0, 0, 0, 0, 0, 0, 0, 0, 0, 0, 0, 0, 0, 0, 0, 0, 0, 0, 0, 0, 0, 0, 0, 0, 0, 0, 0, 0, 0, 0, 0, 0, 0, 0, 0, 0, 0, 0, 0, 0, 0, 0, 0, 0, 0, 0, 0, 0, 0, 0, 0, 0, 0, 0, 0, 0, 0, 0, 0, 0, 0, 0, 0, 0, 0, 0, 0, 0, 0, 0, 0, 0, 0, 0, 0, 0, 0, 0, 0, 0, 0, 0, 0, 0, 0, 0, 0, 0, 0, 0, 0, 0, 0, 0, 0, 0, 0, 0, 0, 0, 0, 0, 0, 0, 0, 0, 0, 0, 0, 0, 0, 0, 0, 0, 0, 0, 0, 0, 0, 0, 0, 0, 0, 0, 0, 0, 0, 0, 0, 0, 0, 0, 0, 0, 0, 0, 0, 0, 0, 0, 0, 0, 0, 0, 0, 0, 0, 0, 0, 0, 0, 0, 0, 0, 0, 0, 0, 0, 0, 0, 0, 0, 0, 0, 0, 0, 0, 0, 0, 0, 0, 0, 0, 0, 0, 0, 0, 0, 0, 0, 0, 0, 0, 0, 0, 0, 0, 0, 0, 0, 0, 0, 0, 0, 0, 0, 0, 0, 0, 0, 0, 0, 0, 0, 0, 0, 0, 0, 0, 0, 0, 0, 0, 0, 0, 0, 0, 0, 0, 0, 0, 0, 0, 0, 0, 0, 0, 0, 0, 0, 0, 0, 0, 0, 0, 0, 0, 0, 0, 0, 0, 0, 0, 0, 0, 0, 0, 0, 0, 0, 0, 0, 0, 0, 0, 0, 0, 0, 0, 0, 0, 0, 0, 0, 0, 0, 0, 0, 0, 0, 0, 0, 0, 0, 0, 0, 0, 0, 0, 0, 0, 0, 0, 0, 0, 0, 0, 0, 0, 0, 0, 0, 0], [0, 0, 0, 0, 0, 0, 0, 0, 0, 0, 0, 0, 0, 0, 0, 0, 0, 0, 0, 0, 0, 0, 0, 0, 0, 0, 0, 0, 0, 0, 0, 0, 0, 0, 0, 0, 0, 0, 0, 0, 0, 0, 0, 0, 0, 0, 0, 0, 0, 0, 0, 0, 0, 0, 0, 0, 0, 0, 0, 0, 0, 0, 0, 0, 0, 0, 0, 0, 0, 0, 0, 0, 0, 0, 0, 0, 0, 0, 0, 0, 0, 0, 0, 0, 0, 0, 0, 0, 0, 0, 0, 0, 0, 0, 0, 0, 0, 0, 0, 0, 0, 0, 0, 0, 0, 0, 0, 0, 0, 0, 0, 0, 0, 0, 0, 0, 0, 0, 0, 0, 0, 0, 0, 0, 0, 0, 0, 0, 0, 0, 0, 0, 0, 0, 0, 0, 0, 0, 0, 0, 0, 0, 0, 0, 0, 0, 0, 0, 0, 0, 0, 0, 0, 0, 0, 0, 0, 0, 0, 0, 0, 0, 0, 0, 0, 0, 0, 0, 0, 0, 0, 0, 0, 0, 0, 0, 0, 0, 0, 0, 0, 0, 0, 0, 0, 0, 0, 0, 0, 0, 0, 0, 0, 0, 0, 0, 0, 0, 0, 0, 0, 0, 0, 0, 0, 0, 0, 0, 0, 0, 0, 0, 0, 0, 0, 0, 0, 0, 0, 0, 0, 0, 0, 0, 0, 0, 0, 0, 0, 0, 0, 0, 0, 0, 0, 0, 0, 0, 0, 0, 0, 0, 0, 0, 0, 0, 0, 0, 0, 0, 0, 0, 0, 0, 0, 0, 0, 0, 0, 0, 0, 0, 0, 0, 0, 0, 0, 0, 0, 0, 0, 0, 0, 0, 0, 0, 0, 0, 0, 0, 0, 0, 0, 0, 0, 0, 0, 0, 0, 0, 0, 0, 0, 0, 0, 0, 0, 0, 0, 0, 0, 0, 0, 0, 0, 0, 0, 0, 0, 0, 0, 0, 0, 0, 0, 0, 0, 0, 0, 0, 0, 0, 0, 0, 0, 0, 0, 0, 0, 0, 0, 0, 0, 0, 0, 0, 0, 0, 0, 0, 0, 0, 0, 0, 0, 0, 0, 0, 0, 0, 0, 0, 0, 0, 0, 0, 0, 0, 0, 0, 0, 0, 0, 0, 0, 0, 0, 0, 0, 0, 0, 0, 0, 0, 0, 0, 0, 0, 0, 0, 0, 0, 0, 0, 0, 0, 0, 0, 0, 0, 0, 0, 0, 0, 0, 0, 0, 0, 0, 0, 0, 0, 0, 0, 0, 0, 0, 0, 0, 0, 0, 0, 0, 0, 0, 0, 0, 0, 0, 0, 0, 0, 0, 0, 0, 0, 0, 0, 0, 0, 0, 0, 0, 0, 0, 0, 0, 0, 0, 0, 0, 0, 0, 0, 0, 0, 0, 0, 0, 0, 0, 0, 0, 0, 0, 0, 0, 0, 0, 0, 0, 0, 0, 0, 0, 0, 0, 0, 0, 0, 0, 0, 0, 0, 0, 0, 0, 0, 0, 0, 0, 0, 0, 0, 0, 0, 0, 0, 0, 0, 0, 0, 0, 0, 0, 0, 0, 0, 0, 0, 0, 0, 0, 0, 0, 0, 0, 0, 0, 0, 0, 0], [0, 0, 0, 0, 0, 0, 0, 0, 0, 0, 0, 0, 0, 0, 0, 0, 0, 0, 0, 0, 0, 0, 0, 0, 0, 0, 0, 0, 0, 0, 0, 0, 0, 0, 0, 0, 0, 0, 0, 0, 0, 0, 0, 0, 0, 0, 0, 0, 0, 0, 0, 0, 0, 0, 0, 0, 0, 0, 0, 0, 0, 0, 0, 0, 0, 0, 0, 0, 0, 0, 0, 0, 0, 0, 0, 0, 0, 0, 0, 0, 0, 0, 0]], 'attention_mask': [[1, 1, 1, 1, 1, 1, 1, 1, 1, 1, 1, 1, 1, 1, 1, 1, 1, 1, 1, 1, 1, 1, 1, 1, 1, 1, 1, 1, 1, 1, 1, 1, 1, 1, 1, 1, 1, 1, 1, 1, 1, 1, 1, 1, 1, 1, 1, 1, 1, 1, 1, 1, 1, 1, 1, 1, 1, 1, 1, 1, 1, 1, 1, 1, 1, 1, 1, 1, 1, 1, 1, 1, 1, 1, 1, 1, 1, 1, 1, 1, 1, 1, 1, 1, 1, 1, 1, 1, 1, 1, 1, 1, 1, 1, 1, 1, 1, 1, 1, 1, 1, 1, 1, 1, 1, 1, 1, 1, 1, 1, 1, 1, 1, 1, 1, 1, 1, 1, 1, 1, 1, 1, 1, 1, 1, 1, 1, 1, 1, 1, 1, 1, 1, 1, 1, 1, 1, 1, 1, 1, 1, 1, 1, 1, 1, 1, 1, 1, 1, 1, 1, 1, 1, 1, 1, 1, 1, 1, 1, 1, 1, 1, 1, 1, 1, 1, 1, 1, 1, 1, 1, 1, 1, 1, 1, 1, 1, 1, 1, 1, 1, 1, 1, 1, 1, 1, 1, 1, 1, 1, 1, 1, 1, 1, 1, 1, 1, 1, 1, 1, 1, 1, 1, 1, 1, 1, 1, 1, 1, 1, 1, 1, 1, 1, 1, 1, 1, 1, 1, 1, 1, 1, 1, 1, 1, 1, 1, 1, 1, 1, 1, 1, 1, 1, 1, 1, 1, 1, 1, 1, 1, 1, 1, 1, 1, 1, 1, 1, 1, 1, 1, 1, 1, 1, 1, 1, 1, 1, 1, 1, 1, 1, 1, 1, 1, 1, 1, 1, 1, 1, 1, 1, 1, 1, 1, 1, 1, 1, 1, 1, 1, 1, 1, 1, 1, 1, 1, 1, 1, 1, 1, 1, 1, 1, 1, 1, 1, 1, 1, 1, 1, 1, 1, 1, 1, 1, 1, 1, 1, 1, 1, 1, 1, 1, 1, 1, 1, 1, 1, 1, 1, 1, 1, 1, 1, 1, 1, 1, 1, 1, 1, 1, 1, 1, 1, 1, 1, 1, 1, 1, 1, 1, 1, 1, 1, 1, 1, 1, 1, 1, 1, 1, 1, 1, 1, 1, 1, 1, 1, 1, 1, 1, 1, 1, 1, 1, 1, 1, 1, 1, 1, 1, 1, 1, 1, 1, 1, 1, 1, 1, 1, 1, 1, 1, 1, 1, 1, 1, 1, 1, 1, 1, 1, 1, 1, 1, 1, 1, 1, 1, 1, 1, 1, 1, 1, 1, 1, 1, 1, 1, 1, 1, 1, 1, 1, 1, 1, 1, 1, 1, 1, 1, 1, 1, 1, 1, 1, 1, 1, 1, 1, 1, 1, 1, 1, 1, 1, 1, 1, 1, 1, 1, 1, 1, 1, 1, 1, 1, 1, 1, 1, 1, 1, 1, 1, 1, 1, 1, 1, 1, 1, 1, 1, 1, 1, 1, 1, 1, 1, 1, 1, 1, 1, 1, 1, 1, 1, 1, 1, 1, 1, 1, 1, 1, 1, 1, 1, 1, 1, 1, 1, 1, 1, 1, 1, 1, 1, 1, 1, 1, 1, 1, 1, 1, 1], [1, 1, 1, 1, 1, 1, 1, 1, 1, 1, 1, 1, 1, 1, 1, 1, 1, 1, 1, 1, 1, 1, 1, 1, 1, 1, 1, 1, 1, 1, 1, 1, 1, 1, 1, 1, 1, 1, 1, 1, 1, 1, 1, 1, 1, 1, 1, 1, 1, 1, 1, 1, 1, 1, 1, 1, 1, 1, 1, 1, 1, 1, 1, 1, 1, 1, 1, 1, 1, 1, 1, 1, 1, 1, 1, 1, 1, 1, 1, 1, 1, 1, 1, 1, 1, 1, 1, 1, 1, 1, 1, 1, 1, 1, 1, 1, 1, 1, 1, 1, 1, 1, 1, 1, 1, 1, 1, 1, 1, 1, 1, 1, 1, 1, 1, 1, 1, 1, 1, 1, 1, 1, 1, 1, 1, 1, 1, 1, 1, 1, 1, 1, 1, 1, 1, 1, 1, 1, 1, 1, 1, 1, 1, 1, 1, 1, 1, 1, 1, 1, 1, 1, 1, 1, 1, 1, 1, 1, 1, 1, 1, 1, 1, 1, 1, 1, 1, 1, 1, 1, 1, 1, 1, 1, 1, 1, 1, 1, 1, 1, 1, 1, 1, 1, 1, 1, 1, 1, 1, 1, 1, 1, 1, 1, 1, 1, 1, 1, 1, 1, 1, 1, 1, 1, 1, 1, 1, 1, 1, 1, 1, 1, 1, 1, 1, 1, 1, 1, 1, 1, 1, 1, 1, 1, 1, 1, 1, 1, 1, 1, 1, 1, 1, 1, 1, 1, 1, 1, 1, 1, 1, 1, 1, 1, 1, 1, 1, 1, 1, 1, 1, 1, 1, 1, 1, 1, 1, 1, 1, 1, 1, 1, 1, 1, 1, 1, 1, 1, 1, 1, 1, 1, 1, 1, 1, 1, 1, 1, 1, 1, 1, 1, 1, 1, 1, 1, 1, 1, 1, 1, 1, 1, 1, 1, 1, 1, 1, 1, 1, 1, 1, 1, 1, 1, 1, 1, 1, 1, 1, 1, 1, 1, 1, 1, 1, 1, 1, 1, 1, 1, 1, 1, 1, 1, 1, 1, 1, 1, 1, 1, 1, 1, 1, 1, 1, 1, 1, 1, 1, 1, 1, 1, 1, 1, 1, 1, 1, 1, 1, 1, 1, 1, 1, 1, 1, 1, 1, 1, 1, 1, 1, 1, 1, 1, 1, 1, 1, 1, 1, 1, 1, 1, 1, 1, 1, 1, 1, 1, 1, 1, 1, 1, 1, 1, 1, 1, 1, 1, 1, 1], [1, 1, 1, 1, 1, 1, 1, 1, 1, 1, 1, 1, 1, 1, 1, 1, 1, 1, 1, 1, 1, 1, 1, 1, 1, 1, 1, 1, 1, 1, 1, 1, 1, 1, 1, 1, 1, 1, 1, 1, 1, 1, 1, 1, 1, 1, 1, 1, 1, 1, 1, 1, 1, 1, 1, 1, 1, 1, 1, 1, 1, 1, 1, 1, 1, 1, 1, 1, 1, 1, 1, 1, 1, 1, 1, 1, 1, 1, 1, 1, 1, 1, 1, 1, 1, 1, 1, 1, 1, 1, 1, 1, 1, 1, 1, 1, 1, 1, 1, 1, 1, 1, 1, 1, 1, 1, 1, 1, 1, 1, 1, 1, 1, 1, 1, 1, 1, 1, 1, 1, 1, 1, 1, 1, 1, 1, 1, 1, 1, 1, 1, 1, 1, 1, 1, 1, 1, 1, 1, 1, 1, 1, 1, 1, 1, 1, 1, 1, 1, 1, 1, 1, 1, 1, 1, 1, 1, 1, 1, 1, 1, 1, 1, 1, 1, 1, 1, 1, 1, 1, 1, 1, 1, 1, 1, 1, 1, 1, 1, 1, 1, 1, 1, 1, 1, 1, 1, 1, 1, 1, 1, 1, 1, 1, 1, 1, 1, 1, 1, 1, 1, 1, 1, 1, 1, 1, 1, 1, 1, 1, 1, 1, 1, 1, 1, 1, 1, 1, 1, 1, 1, 1, 1, 1, 1, 1, 1, 1, 1, 1, 1, 1, 1, 1, 1, 1, 1, 1, 1, 1, 1, 1, 1, 1, 1, 1, 1, 1, 1, 1, 1, 1, 1, 1, 1, 1, 1, 1, 1, 1, 1, 1, 1, 1, 1, 1, 1, 1, 1, 1, 1, 1, 1, 1, 1, 1, 1, 1, 1, 1, 1, 1, 1, 1, 1, 1, 1, 1, 1, 1, 1, 1, 1, 1, 1, 1, 1, 1, 1, 1, 1, 1, 1, 1, 1, 1, 1, 1, 1, 1, 1, 1, 1, 1, 1, 1, 1, 1, 1, 1, 1, 1, 1, 1, 1, 1, 1, 1, 1, 1, 1, 1, 1, 1, 1, 1, 1, 1, 1, 1, 1, 1, 1, 1, 1, 1, 1, 1, 1, 1, 1, 1, 1, 1, 1, 1, 1, 1, 1, 1, 1, 1, 1, 1, 1, 1, 1, 1, 1, 1, 1, 1, 1, 1, 1, 1, 1, 1, 1, 1, 1, 1, 1, 1, 1, 1, 1, 1, 1, 1, 1, 1, 1, 1, 1, 1, 1, 1, 1, 1, 1, 1, 1, 1, 1, 1, 1, 1, 1, 1, 1, 1, 1, 1, 1, 1, 1, 1, 1, 1, 1, 1, 1, 1, 1, 1, 1, 1, 1, 1, 1, 1, 1, 1, 1, 1, 1, 1, 1, 1, 1, 1, 1, 1, 1, 1, 1, 1, 1, 1, 1, 1, 1, 1, 1, 1, 1, 1, 1, 1, 1, 1, 1, 1, 1, 1, 1, 1, 1, 1, 1, 1, 1, 1, 1, 1, 1, 1, 1, 1, 1, 1, 1, 1, 1, 1, 1, 1, 1, 1, 1, 1, 1, 1, 1, 1, 1, 1, 1, 1, 1, 1, 1, 1, 1, 1, 1, 1, 1, 1, 1, 1], [1, 1, 1, 1, 1, 1, 1, 1, 1, 1, 1, 1, 1, 1, 1, 1, 1, 1, 1, 1, 1, 1, 1, 1, 1, 1, 1, 1, 1, 1, 1, 1, 1, 1, 1, 1, 1, 1, 1, 1, 1, 1, 1, 1, 1, 1, 1, 1, 1, 1, 1, 1, 1, 1, 1, 1, 1, 1, 1, 1, 1, 1, 1, 1, 1, 1, 1, 1, 1, 1, 1, 1, 1, 1, 1, 1, 1, 1, 1, 1, 1, 1, 1, 1, 1, 1, 1, 1, 1, 1, 1, 1, 1, 1, 1, 1, 1, 1, 1, 1, 1, 1, 1, 1, 1, 1, 1, 1, 1, 1, 1, 1, 1, 1, 1, 1, 1, 1, 1, 1, 1, 1, 1, 1, 1, 1, 1, 1, 1, 1, 1, 1, 1, 1, 1, 1, 1, 1, 1, 1, 1, 1, 1, 1, 1, 1, 1, 1, 1, 1, 1, 1, 1, 1, 1, 1, 1, 1, 1, 1, 1, 1, 1, 1, 1, 1, 1, 1, 1, 1, 1, 1, 1, 1, 1, 1, 1, 1, 1, 1, 1, 1, 1, 1, 1, 1, 1, 1, 1, 1, 1, 1, 1, 1, 1, 1, 1, 1, 1, 1, 1, 1, 1, 1, 1, 1, 1, 1, 1, 1, 1, 1, 1, 1, 1, 1, 1, 1, 1, 1, 1, 1, 1, 1, 1, 1, 1, 1, 1, 1, 1, 1, 1, 1, 1, 1, 1, 1, 1, 1, 1, 1, 1, 1, 1, 1, 1, 1, 1, 1, 1, 1, 1, 1, 1, 1, 1, 1, 1, 1, 1, 1, 1, 1, 1, 1, 1, 1, 1, 1, 1, 1, 1, 1, 1, 1, 1, 1, 1, 1, 1, 1, 1, 1, 1, 1, 1, 1, 1, 1, 1, 1, 1, 1, 1, 1, 1, 1, 1, 1, 1, 1, 1, 1, 1, 1, 1, 1, 1, 1, 1, 1, 1, 1, 1, 1, 1, 1, 1, 1, 1, 1, 1, 1, 1, 1, 1, 1, 1, 1, 1, 1, 1, 1, 1, 1, 1, 1, 1, 1, 1, 1, 1, 1, 1, 1, 1, 1, 1, 1, 1, 1, 1, 1, 1, 1, 1, 1, 1, 1, 1, 1, 1, 1, 1, 1, 1, 1, 1, 1, 1, 1, 1, 1, 1, 1, 1, 1, 1, 1, 1, 1, 1, 1, 1, 1, 1, 1, 1, 1, 1, 1, 1, 1, 1, 1, 1, 1, 1, 1, 1, 1, 1, 1, 1, 1, 1, 1, 1, 1, 1, 1, 1, 1, 1, 1, 1, 1, 1, 1, 1, 1, 1, 1, 1, 1, 1, 1, 1, 1, 1, 1, 1, 1, 1, 1, 1, 1, 1, 1, 1, 1, 1, 1, 1, 1, 1, 1, 1, 1, 1, 1, 1, 1, 1, 1, 1, 1, 1, 1, 1, 1, 1, 1, 1, 1, 1, 1, 1, 1, 1, 1, 1, 1, 1, 1, 1, 1, 1, 1, 1, 1, 1, 1, 1, 1, 1, 1, 1, 1, 1, 1, 1, 1, 1, 1, 1, 1, 1, 1, 1, 1, 1, 1, 1, 1, 1, 1, 1, 1, 1, 1], [1, 1, 1, 1, 1, 1, 1, 1, 1, 1, 1, 1, 1, 1, 1, 1, 1, 1, 1, 1, 1, 1, 1, 1, 1, 1, 1, 1, 1, 1, 1, 1, 1, 1, 1, 1, 1, 1, 1, 1, 1, 1, 1, 1, 1, 1, 1, 1, 1, 1, 1, 1, 1, 1, 1, 1, 1, 1, 1, 1, 1, 1, 1, 1, 1, 1, 1, 1, 1, 1, 1, 1, 1, 1, 1, 1, 1, 1, 1, 1, 1, 1, 1]]}"
            ]
          },
          "metadata": {},
          "execution_count": 38
        }
      ],
      "source": [
        "preprocess_function(all_dataset['train'][:5])"
      ]
    },
    {
      "cell_type": "markdown",
      "metadata": {
        "id": "zS-6iXTkIrJT"
      },
      "source": [
        "To apply this function on all the sentences (or pairs of sentences) in our dataset, we just use the `map` method of our `dataset` object we created earlier. This will apply the function on all the elements of all the splits in `dataset`, so our training, validation and testing data will be preprocessed in one single command."
      ]
    },
    {
      "cell_type": "code",
      "execution_count": 39,
      "metadata": {
        "id": "DDtsaJeVIrJT",
        "outputId": "462bf7bb-7095-435a-a82a-e55369b2c5ee",
        "colab": {
          "base_uri": "https://localhost:8080/",
          "height": 17,
          "referenced_widgets": [
            "e9c45bf6a405451eae12600315310500",
            "1075df5af1794fe5a2574768a925e95c",
            "9fc21c253db24d9f94a04690692b85d9",
            "dc56b72a883f41eab245f8085fe5dc0d",
            "9666fe4bb0e04327865af61f5b4eb9a2",
            "620a38b5d1f84c849438373c3b4aadab",
            "4c16a6ac931b42b0b8bdccb1ed29576e",
            "905248bc13704246b4faac0dfc5ee3b2",
            "1abd110f868345d59ea94613de1461df",
            "b10019831281435ea63cc90b07ac9562",
            "e4dbe39156a94e4d801c6663a20e9bd6",
            "339d20c5c8d146f799096f636e0e3d95",
            "36eaa93a640543a6abc38af945af904e",
            "7a5f9b383f7349318e354f8323cfa6fb",
            "607669fb16c04831881c6167ced0fdb2",
            "971eba04f5114f998524b9fd60a6e882",
            "e0c7b8fa5b5f45a4ab7e54af29dfe491",
            "cd66df564607406c98c836c4ede4dd0e",
            "45b8f1eeb50b41689fadb18a6594de8c",
            "1a87dadddef5457e90e0ce0359b565fb",
            "8e18aa0d419848adacf52d3b250bde11",
            "03f66b2620a3439abab286629f087edd"
          ]
        }
      },
      "outputs": [
        {
          "output_type": "display_data",
          "data": {
            "text/plain": [
              "Map:   0%|          | 0/2632 [00:00<?, ? examples/s]"
            ],
            "application/vnd.jupyter.widget-view+json": {
              "version_major": 2,
              "version_minor": 0,
              "model_id": "e9c45bf6a405451eae12600315310500"
            }
          },
          "metadata": {}
        },
        {
          "output_type": "display_data",
          "data": {
            "text/plain": [
              "Map:   0%|          | 0/658 [00:00<?, ? examples/s]"
            ],
            "application/vnd.jupyter.widget-view+json": {
              "version_major": 2,
              "version_minor": 0,
              "model_id": "339d20c5c8d146f799096f636e0e3d95"
            }
          },
          "metadata": {}
        }
      ],
      "source": [
        "encoded_dataset = all_dataset.map(preprocess_function, batched=True)"
      ]
    },
    {
      "cell_type": "code",
      "source": [
        "encoded_dataset"
      ],
      "metadata": {
        "colab": {
          "base_uri": "https://localhost:8080/"
        },
        "id": "lPs7Uu3K3Gcg",
        "outputId": "df94a2a5-a475-4539-fda6-c96b040e87f6"
      },
      "execution_count": 40,
      "outputs": [
        {
          "output_type": "execute_result",
          "data": {
            "text/plain": [
              "DatasetDict({\n",
              "    train: Dataset({\n",
              "        features: ['id', 'text', 'label', 'file', 'authors', 'title', 'journals', 'sources', 'keywords', 'abstract', 'BERT_txt', 'input_ids', 'token_type_ids', 'attention_mask'],\n",
              "        num_rows: 2632\n",
              "    })\n",
              "    valid: Dataset({\n",
              "        features: ['id', 'text', 'label', 'file', 'authors', 'title', 'journals', 'sources', 'keywords', 'abstract', 'BERT_txt', 'input_ids', 'token_type_ids', 'attention_mask'],\n",
              "        num_rows: 658\n",
              "    })\n",
              "})"
            ]
          },
          "metadata": {},
          "execution_count": 40
        }
      ]
    },
    {
      "cell_type": "markdown",
      "metadata": {
        "id": "voWiw8C7IrJV"
      },
      "source": [
        "Even better, the results are automatically cached by the 🤗 Datasets library to avoid spending time on this step the next time you run your notebook. The 🤗 Datasets library is normally smart enough to detect when the function you pass to map has changed (and thus requires to not use the cache data). For instance, it will properly detect if you change the task in the first cell and rerun the notebook. 🤗 Datasets warns you when it uses cached files, you can pass `load_from_cache_file=False` in the call to `map` to not use the cached files and force the preprocessing to be applied again.\n",
        "\n",
        "Note that we passed `batched=True` to encode the texts by batches together. This is to leverage the full benefit of the fast tokenizer we loaded earlier, which will use multi-threading to treat the texts in a batch concurrently."
      ]
    },
    {
      "cell_type": "markdown",
      "metadata": {
        "id": "545PP3o8IrJV"
      },
      "source": [
        "## Fine-tuning the model"
      ]
    },
    {
      "cell_type": "markdown",
      "metadata": {
        "id": "FBiW8UpKIrJW"
      },
      "source": [
        "Now that our data is ready, we can download the pretrained model and fine-tune it. Since all our tasks are about sentence classification, we use the `AutoModelForSequenceClassification` class. Like with the tokenizer, the `from_pretrained` method will download and cache the model for us. The only thing we have to specify is the number of labels for our problem (which is always 2, except for STS-B which is a regression problem and MNLI where we have 3 labels):"
      ]
    },
    {
      "cell_type": "code",
      "execution_count": 41,
      "metadata": {
        "id": "TlqNaB8jIrJW",
        "outputId": "54e8f324-240a-4116-9f95-0722c597039d",
        "colab": {
          "base_uri": "https://localhost:8080/",
          "height": 156,
          "referenced_widgets": [
            "2d89b5d2871d4fe0a46aa6b70bec56d7",
            "00358965b51742ec9646c5a2efe92df6",
            "a42cb501ab99427b9fd2ced68a644399",
            "8a98e556f3fc4ed9aa732f7c28d20e37",
            "ba65289a9cfc4f469c8854a0caec0cb5",
            "8fb1c458d700481a8e75bb0ba5ec4c78",
            "86bd698dbe33498d8bd34083e3a509a7",
            "bb345430473944aa9deec5e84349d459",
            "7326880f5b384c24b5fb214ebed490a1",
            "888b0d53fd7c4ddbbc169e75938eec86",
            "8af8a61c3ed74a58ab36de715d435bba"
          ]
        }
      },
      "outputs": [
        {
          "output_type": "display_data",
          "data": {
            "text/plain": [
              "Downloading pytorch_model.bin:   0%|          | 0.00/442M [00:00<?, ?B/s]"
            ],
            "application/vnd.jupyter.widget-view+json": {
              "version_major": 2,
              "version_minor": 0,
              "model_id": "2d89b5d2871d4fe0a46aa6b70bec56d7"
            }
          },
          "metadata": {}
        },
        {
          "output_type": "stream",
          "name": "stderr",
          "text": [
            "Some weights of the model checkpoint at allenai/scibert_scivocab_uncased were not used when initializing BertForSequenceClassification: ['cls.seq_relationship.weight', 'cls.predictions.transform.dense.bias', 'cls.predictions.transform.LayerNorm.bias', 'cls.predictions.transform.dense.weight', 'cls.predictions.decoder.weight', 'cls.predictions.transform.LayerNorm.weight', 'cls.predictions.decoder.bias', 'cls.seq_relationship.bias', 'cls.predictions.bias']\n",
            "- This IS expected if you are initializing BertForSequenceClassification from the checkpoint of a model trained on another task or with another architecture (e.g. initializing a BertForSequenceClassification model from a BertForPreTraining model).\n",
            "- This IS NOT expected if you are initializing BertForSequenceClassification from the checkpoint of a model that you expect to be exactly identical (initializing a BertForSequenceClassification model from a BertForSequenceClassification model).\n",
            "Some weights of BertForSequenceClassification were not initialized from the model checkpoint at allenai/scibert_scivocab_uncased and are newly initialized: ['classifier.weight', 'classifier.bias']\n",
            "You should probably TRAIN this model on a down-stream task to be able to use it for predictions and inference.\n"
          ]
        }
      ],
      "source": [
        "from transformers import AutoModelForSequenceClassification, TrainingArguments, Trainer\n",
        "\n",
        "num_labels = 2\n",
        "if model_checkpoint == 'kamalkraj/biogpt':\n",
        "    from transformers import BioGptForCausalLM\n",
        "    model = BioGptForCausalLM.from_pretrained(model_checkpoint, num_labels=num_labels)\n",
        "else:\n",
        "    model = AutoModelForSequenceClassification.from_pretrained(model_checkpoint, num_labels=num_labels)"
      ]
    },
    {
      "cell_type": "markdown",
      "metadata": {
        "id": "CczA5lJlIrJX"
      },
      "source": [
        "The warning is telling us we are throwing away some weights (the `vocab_transform` and `vocab_layer_norm` layers) and randomly initializing some other (the `pre_classifier` and `classifier` layers). This is absolutely normal in this case, because we are removing the head used to pretrain the model on a masked language modeling objective and replacing it with a new head for which we don't have pretrained weights, so the library warns us we should fine-tune this model before using it for inference, which is exactly what we are going to do."
      ]
    },
    {
      "cell_type": "markdown",
      "metadata": {
        "id": "_N8urzhyIrJY"
      },
      "source": [
        "To instantiate a `Trainer`, we will need to define two more things. The most important is the [`TrainingArguments`](https://huggingface.co/transformers/main_classes/trainer.html#transformers.TrainingArguments), which is a class that contains all the attributes to customize the training. It requires one folder name, which will be used to save the checkpoints of the model, and all other arguments are optional:"
      ]
    },
    {
      "cell_type": "code",
      "execution_count": 67,
      "metadata": {
        "id": "Bliy8zgjIrJY"
      },
      "outputs": [],
      "source": [
        "metric_name = \"f1\"\n",
        "model_name = model_checkpoint.split(\"/\")[-1]\n",
        "\n",
        "args = TrainingArguments(\n",
        "    f\"{model_name}-finetuned-{task}-new\",\n",
        "    evaluation_strategy = \"epoch\",\n",
        "    save_strategy = \"epoch\",\n",
        "    learning_rate=1e-5,\n",
        "    per_device_train_batch_size=batch_size,\n",
        "    per_device_eval_batch_size=batch_size,\n",
        "    num_train_epochs=5,\n",
        "    warmup_ratio=0.1, \n",
        "    lr_scheduler_type='cosine', \n",
        "    fp16=True,\n",
        "    weight_decay=0.01,\n",
        "    load_best_model_at_end=True,\n",
        "    metric_for_best_model=metric_name,\n",
        "    push_to_hub=False,\n",
        "    report_to='mlflow'\n",
        ")"
      ]
    },
    {
      "cell_type": "markdown",
      "metadata": {
        "id": "km3pGVdTIrJc"
      },
      "source": [
        "Here we set the evaluation to be done at the end of each epoch, tweak the learning rate, use the `batch_size` defined at the top of the notebook and customize the number of epochs for training, as well as the weight decay. Since the best model might not be the one at the end of training, we ask the `Trainer` to load the best model it saved (according to `metric_name`) at the end of training.\n",
        "\n",
        "The last argument to setup everything so we can push the model to the [Hub](https://huggingface.co/models) regularly during training. Remove it if you didn't follow the installation steps at the top of the notebook. If you want to save your model locally in a name that is different than the name of the repository it will be pushed, or if you want to push your model under an organization and not your name space, use the `hub_model_id` argument to set the repo name (it needs to be the full name, including your namespace: for instance `\"sgugger/bert-finetuned-mrpc\"` or `\"huggingface/bert-finetuned-mrpc\"`)."
      ]
    },
    {
      "cell_type": "markdown",
      "metadata": {
        "id": "7sZOdRlRIrJd"
      },
      "source": [
        "The last thing to define for our `Trainer` is how to compute the metrics from the predictions. We need to define a function for this, which will just use the `metric` we loaded earlier, the only preprocessing we have to do is to take the argmax of our predicted logits (our just squeeze the last axis in the case of STS-B):"
      ]
    },
    {
      "cell_type": "code",
      "execution_count": 66,
      "metadata": {
        "id": "UmvbnJ9JIrJd"
      },
      "outputs": [],
      "source": [
        "def compute_metrics(eval_pred):\n",
        "    predictions, labels = eval_pred\n",
        "    predictions = np.argmax(predictions, axis=1)\n",
        "    return clf_metrics.compute(predictions=predictions, references=labels)"
      ]
    },
    {
      "cell_type": "markdown",
      "metadata": {
        "id": "rXuFTAzDIrJe"
      },
      "source": [
        "Then we just need to pass all of this along with our datasets to the `Trainer`:"
      ]
    },
    {
      "cell_type": "code",
      "source": [
        "!databricks configure --host https://adb-2204706796872331.11.azuredatabricks.net/ "
      ],
      "metadata": {
        "colab": {
          "base_uri": "https://localhost:8080/"
        },
        "id": "69h48ZXYPDD9",
        "outputId": "ac9d6905-e923-4d14-c969-db474933312b"
      },
      "execution_count": 44,
      "outputs": [
        {
          "output_type": "stream",
          "name": "stdout",
          "text": [
            "Username: tdekelver@adflux.net\n",
            "Password: \n",
            "Repeat for confirmation: \n"
          ]
        }
      ]
    },
    {
      "cell_type": "code",
      "source": [
        "from transformers.integrations import MLflowCallback\n",
        "import mlflow"
      ],
      "metadata": {
        "id": "utKIVZgLNhIF"
      },
      "execution_count": 45,
      "outputs": []
    },
    {
      "cell_type": "code",
      "source": [
        "EXP_NAME = '/Users/tdekelver@adflux.net/Servier/Classification_AlertePV'\n",
        "mlflow.set_tracking_uri(\"databricks\")\n",
        "mlflow.set_experiment(EXP_NAME)"
      ],
      "metadata": {
        "colab": {
          "base_uri": "https://localhost:8080/"
        },
        "id": "TA3FiEldPhu8",
        "outputId": "270da3dd-093b-46a8-ce0e-d42822b00956"
      },
      "execution_count": 46,
      "outputs": [
        {
          "output_type": "execute_result",
          "data": {
            "text/plain": [
              "<Experiment: artifact_location='dbfs:/databricks/mlflow-tracking/1879877665261424', creation_time=1669035425281, experiment_id='1879877665261424', last_update_time=1680014046768, lifecycle_stage='active', name='/Users/tdekelver@adflux.net/Servier/Classification_AlertePV', tags={'mlflow.experiment.sourceName': '/Users/tdekelver@adflux.net/Servier/Classification_AlertePV',\n",
              " 'mlflow.experimentType': 'MLFLOW_EXPERIMENT',\n",
              " 'mlflow.ownerEmail': 'tdekelver@adflux.net',\n",
              " 'mlflow.ownerId': '5802227064016709'}>"
            ]
          },
          "metadata": {},
          "execution_count": 46
        }
      ]
    },
    {
      "cell_type": "code",
      "source": [
        "import os\n",
        "os.environ['HF_MLFLOW_LOG_ARTIFACTS'] = '0'\n",
        "os.environ['MLFLOW_EXPERIMENT_NAME'] = EXP_NAME\n",
        "os.environ['MLFLOW_NESTED_RUN'] = '0'"
      ],
      "metadata": {
        "id": "_kImJIoeN0B_"
      },
      "execution_count": 47,
      "outputs": []
    },
    {
      "cell_type": "code",
      "execution_count": 68,
      "metadata": {
        "id": "imY1oC3SIrJf"
      },
      "outputs": [],
      "source": [
        "validation_key = \"valid\"\n",
        "trainer = Trainer(\n",
        "    model,\n",
        "    args,\n",
        "    train_dataset=encoded_dataset[\"train\"],\n",
        "    eval_dataset=encoded_dataset[validation_key],\n",
        "    tokenizer=tokenizer,\n",
        "    compute_metrics=compute_metrics,\n",
        "#     callbacks=[MLflowCallback]\n",
        "  )"
      ]
    },
    {
      "cell_type": "markdown",
      "metadata": {
        "id": "ibWGmvxbIrJg"
      },
      "source": [
        "You might wonder why we pass along the `tokenizer` when we already preprocessed our data. This is because we will use it once last time to make all the samples we gather the same length by applying padding, which requires knowing the model's preferences regarding padding (to the left or right? with which token?). The `tokenizer` has a pad method that will do all of this right for us, and the `Trainer` will use it. You can customize this part by defining and passing your own `data_collator` which will receive the samples like the dictionaries seen above and will need to return a dictionary of tensors."
      ]
    },
    {
      "cell_type": "markdown",
      "metadata": {
        "id": "CdzABDVcIrJg"
      },
      "source": [
        "We can now finetune our model by just calling the `train` method:"
      ]
    },
    {
      "cell_type": "code",
      "execution_count": 69,
      "metadata": {
        "id": "uNx5pyRlIrJh",
        "outputId": "4f3d997c-811f-4d89-e69d-30833c52b023",
        "colab": {
          "base_uri": "https://localhost:8080/",
          "height": 322
        }
      },
      "outputs": [
        {
          "output_type": "stream",
          "name": "stderr",
          "text": [
            "/usr/local/lib/python3.9/dist-packages/transformers/optimization.py:391: FutureWarning: This implementation of AdamW is deprecated and will be removed in a future version. Use the PyTorch implementation torch.optim.AdamW instead, or set `no_deprecation_warning=True` to disable this warning\n",
            "  warnings.warn(\n"
          ]
        },
        {
          "output_type": "display_data",
          "data": {
            "text/plain": [
              "<IPython.core.display.HTML object>"
            ],
            "text/html": [
              "\n",
              "    <div>\n",
              "      \n",
              "      <progress value='825' max='825' style='width:300px; height:20px; vertical-align: middle;'></progress>\n",
              "      [825/825 09:47, Epoch 5/5]\n",
              "    </div>\n",
              "    <table border=\"1\" class=\"dataframe\">\n",
              "  <thead>\n",
              " <tr style=\"text-align: left;\">\n",
              "      <th>Epoch</th>\n",
              "      <th>Training Loss</th>\n",
              "      <th>Validation Loss</th>\n",
              "      <th>Accuracy</th>\n",
              "      <th>F1</th>\n",
              "      <th>Precision</th>\n",
              "      <th>Recall</th>\n",
              "    </tr>\n",
              "  </thead>\n",
              "  <tbody>\n",
              "    <tr>\n",
              "      <td>1</td>\n",
              "      <td>No log</td>\n",
              "      <td>0.839873</td>\n",
              "      <td>0.734043</td>\n",
              "      <td>0.697755</td>\n",
              "      <td>0.559557</td>\n",
              "      <td>0.926606</td>\n",
              "    </tr>\n",
              "    <tr>\n",
              "      <td>2</td>\n",
              "      <td>No log</td>\n",
              "      <td>0.587571</td>\n",
              "      <td>0.838906</td>\n",
              "      <td>0.760181</td>\n",
              "      <td>0.750000</td>\n",
              "      <td>0.770642</td>\n",
              "    </tr>\n",
              "    <tr>\n",
              "      <td>3</td>\n",
              "      <td>No log</td>\n",
              "      <td>0.633462</td>\n",
              "      <td>0.849544</td>\n",
              "      <td>0.770302</td>\n",
              "      <td>0.779343</td>\n",
              "      <td>0.761468</td>\n",
              "    </tr>\n",
              "    <tr>\n",
              "      <td>4</td>\n",
              "      <td>0.179000</td>\n",
              "      <td>0.806670</td>\n",
              "      <td>0.825228</td>\n",
              "      <td>0.763860</td>\n",
              "      <td>0.691450</td>\n",
              "      <td>0.853211</td>\n",
              "    </tr>\n",
              "    <tr>\n",
              "      <td>5</td>\n",
              "      <td>0.179000</td>\n",
              "      <td>0.782903</td>\n",
              "      <td>0.829787</td>\n",
              "      <td>0.761702</td>\n",
              "      <td>0.710317</td>\n",
              "      <td>0.821101</td>\n",
              "    </tr>\n",
              "  </tbody>\n",
              "</table><p>"
            ]
          },
          "metadata": {}
        },
        {
          "output_type": "execute_result",
          "data": {
            "text/plain": [
              "TrainOutput(global_step=825, training_loss=0.13363094907818418, metrics={'train_runtime': 589.111, 'train_samples_per_second': 22.339, 'train_steps_per_second': 1.4, 'total_flos': 3462541488537600.0, 'train_loss': 0.13363094907818418, 'epoch': 5.0})"
            ]
          },
          "metadata": {},
          "execution_count": 69
        }
      ],
      "source": [
        "trainer.train()"
      ]
    },
    {
      "cell_type": "markdown",
      "metadata": {
        "id": "CKASz-2vIrJi"
      },
      "source": [
        "We can check with the `evaluate` method that our `Trainer` did reload the best model properly (if it was not the last one):"
      ]
    },
    {
      "cell_type": "code",
      "execution_count": 70,
      "metadata": {
        "id": "UOUcBkX8IrJi",
        "outputId": "58b130d0-8914-44c9-b0d1-84e1dc0e3a86",
        "colab": {
          "base_uri": "https://localhost:8080/",
          "height": 193
        }
      },
      "outputs": [
        {
          "output_type": "display_data",
          "data": {
            "text/plain": [
              "<IPython.core.display.HTML object>"
            ],
            "text/html": [
              "\n",
              "    <div>\n",
              "      \n",
              "      <progress value='42' max='42' style='width:300px; height:20px; vertical-align: middle;'></progress>\n",
              "      [42/42 00:08]\n",
              "    </div>\n",
              "    "
            ]
          },
          "metadata": {}
        },
        {
          "output_type": "execute_result",
          "data": {
            "text/plain": [
              "{'valid_loss': 0.6334620714187622,\n",
              " 'valid_accuracy': 0.8495440729483282,\n",
              " 'valid_f1': 0.7703016241299304,\n",
              " 'valid_precision': 0.7793427230046949,\n",
              " 'valid_recall': 0.7614678899082569,\n",
              " 'valid_runtime': 8.6687,\n",
              " 'valid_samples_per_second': 75.905,\n",
              " 'valid_steps_per_second': 4.845,\n",
              " 'epoch': 5.0}"
            ]
          },
          "metadata": {},
          "execution_count": 70
        }
      ],
      "source": [
        "trainer.evaluate(encoded_dataset[\"valid\"], metric_key_prefix='valid')"
      ]
    },
    {
      "cell_type": "code",
      "source": [
        "df_blind = pd.read_csv('/gdrive/MyDrive/BD/Servier_detection_PV/test_blind.csv', sep=',')\n",
        "df_blind.head()"
      ],
      "metadata": {
        "colab": {
          "base_uri": "https://localhost:8080/",
          "height": 424
        },
        "id": "syOwceyCpFRH",
        "outputId": "e1699743-3408-4089-92da-19938df1c855"
      },
      "execution_count": 71,
      "outputs": [
        {
          "output_type": "execute_result",
          "data": {
            "text/plain": [
              "   id                                               text  \\\n",
              "0  43  Chanmanee T, Wongpun J, Tocharus C, Govitrapon...   \n",
              "1  49  Rafehi S\\n[With antihypertensive drugs against...   \n",
              "2  59  Engels M, Rahmati S, Kovermann P, Gensch T, Fa...   \n",
              "3  61  Micaglio E, Locati ET, Monasky MM, Romani F, P...   \n",
              "4  69  Shahidullah M, Mandal A, Delamere NA\\nTRPV1-de...   \n",
              "\n",
              "                     file                                            authors  \\\n",
              "0  alertePV-20211102.docx  Chanmanee T, Wongpun J, Tocharus C, Govitrapon...   \n",
              "1  alertePV-20211102.docx                                           Rafehi S   \n",
              "2  alertePV-20211102.docx  Engels M, Rahmati S, Kovermann P, Gensch T, Fa...   \n",
              "3  alertePV-20211102.docx  Micaglio E, Locati ET, Monasky MM, Romani F, P...   \n",
              "4  alertePV-20211102.docx               Shahidullah M, Mandal A, Delamere NA   \n",
              "\n",
              "                                               title  \\\n",
              "0  The effects of agomelatine on endoplasmic reti...   \n",
              "1  [With antihypertensive drugs against dementia:...   \n",
              "2  Glial Chloride Homeostasis Under Transient Isc...   \n",
              "3  Role of Pharmacogenetics in Adverse Drug React...   \n",
              "4  TRPV1-dependent NKCC1 activation in mouse lens...   \n",
              "\n",
              "                                            journals  \\\n",
              "0   Chemico-biological interactions 2021; 351:109703   \n",
              "1  Deutsche Apotheker Zeitung 2021; 161(38. arn. ...   \n",
              "2  Frontiers in cellular neuroscience 2021 Sep 16...   \n",
              "3  Frontiers in pharmacology 2021 Apr 30; 12. arn...   \n",
              "4                          IOVS JUN 2021; 62(8):2058   \n",
              "\n",
              "                                             sources  \\\n",
              "0  MEDLINE (EPUB AHEAD OF PRINT) - Language : Eng...   \n",
              "1                         EMBASE - Language : German   \n",
              "2                        EMBASE - Language : English   \n",
              "3                        EMBASE - Language : English   \n",
              "4                        BIOSIS - Language : English   \n",
              "\n",
              "                                            keywords  \\\n",
              "0                                                NaN   \n",
              "1  83915837; 85441618; 98048976; 99149834; antihy...   \n",
              "2  138158; 14092945; 2 amino 5; 56655; 56860; 6; ...   \n",
              "3  10347816; 11006272; 115103554; 117772700; 1200...   \n",
              "4  404864 (capsaicin) 7440177 (rubidium) 33069624...   \n",
              "\n",
              "                                            abstract  \\\n",
              "0  BACKGROUND: Agomelatine, a novel antidepressan...   \n",
              "1                                                NaN   \n",
              "2  High water permeabilities permit rapid adjustm...   \n",
              "3  Adverse drug reactions (ADRs) are an important...   \n",
              "4  Purpose : In earlier studies we showed the res...   \n",
              "\n",
              "                                            BERT_txt  \n",
              "0  [TITLE] The effects of agomelatine on endoplas...  \n",
              "1  [TITLE] [With antihypertensive drugs against d...  \n",
              "2  [TITLE] Glial Chloride Homeostasis Under Trans...  \n",
              "3  [TITLE] Role of Pharmacogenetics in Adverse Dr...  \n",
              "4  [TITLE] TRPV1-dependent NKCC1 activation in mo...  "
            ],
            "text/html": [
              "\n",
              "  <div id=\"df-382c3373-2335-4358-b652-d5e0377ddea3\">\n",
              "    <div class=\"colab-df-container\">\n",
              "      <div>\n",
              "<style scoped>\n",
              "    .dataframe tbody tr th:only-of-type {\n",
              "        vertical-align: middle;\n",
              "    }\n",
              "\n",
              "    .dataframe tbody tr th {\n",
              "        vertical-align: top;\n",
              "    }\n",
              "\n",
              "    .dataframe thead th {\n",
              "        text-align: right;\n",
              "    }\n",
              "</style>\n",
              "<table border=\"1\" class=\"dataframe\">\n",
              "  <thead>\n",
              "    <tr style=\"text-align: right;\">\n",
              "      <th></th>\n",
              "      <th>id</th>\n",
              "      <th>text</th>\n",
              "      <th>file</th>\n",
              "      <th>authors</th>\n",
              "      <th>title</th>\n",
              "      <th>journals</th>\n",
              "      <th>sources</th>\n",
              "      <th>keywords</th>\n",
              "      <th>abstract</th>\n",
              "      <th>BERT_txt</th>\n",
              "    </tr>\n",
              "  </thead>\n",
              "  <tbody>\n",
              "    <tr>\n",
              "      <th>0</th>\n",
              "      <td>43</td>\n",
              "      <td>Chanmanee T, Wongpun J, Tocharus C, Govitrapon...</td>\n",
              "      <td>alertePV-20211102.docx</td>\n",
              "      <td>Chanmanee T, Wongpun J, Tocharus C, Govitrapon...</td>\n",
              "      <td>The effects of agomelatine on endoplasmic reti...</td>\n",
              "      <td>Chemico-biological interactions 2021; 351:109703</td>\n",
              "      <td>MEDLINE (EPUB AHEAD OF PRINT) - Language : Eng...</td>\n",
              "      <td>NaN</td>\n",
              "      <td>BACKGROUND: Agomelatine, a novel antidepressan...</td>\n",
              "      <td>[TITLE] The effects of agomelatine on endoplas...</td>\n",
              "    </tr>\n",
              "    <tr>\n",
              "      <th>1</th>\n",
              "      <td>49</td>\n",
              "      <td>Rafehi S\\n[With antihypertensive drugs against...</td>\n",
              "      <td>alertePV-20211102.docx</td>\n",
              "      <td>Rafehi S</td>\n",
              "      <td>[With antihypertensive drugs against dementia:...</td>\n",
              "      <td>Deutsche Apotheker Zeitung 2021; 161(38. arn. ...</td>\n",
              "      <td>EMBASE - Language : German</td>\n",
              "      <td>83915837; 85441618; 98048976; 99149834; antihy...</td>\n",
              "      <td>NaN</td>\n",
              "      <td>[TITLE] [With antihypertensive drugs against d...</td>\n",
              "    </tr>\n",
              "    <tr>\n",
              "      <th>2</th>\n",
              "      <td>59</td>\n",
              "      <td>Engels M, Rahmati S, Kovermann P, Gensch T, Fa...</td>\n",
              "      <td>alertePV-20211102.docx</td>\n",
              "      <td>Engels M, Rahmati S, Kovermann P, Gensch T, Fa...</td>\n",
              "      <td>Glial Chloride Homeostasis Under Transient Isc...</td>\n",
              "      <td>Frontiers in cellular neuroscience 2021 Sep 16...</td>\n",
              "      <td>EMBASE - Language : English</td>\n",
              "      <td>138158; 14092945; 2 amino 5; 56655; 56860; 6; ...</td>\n",
              "      <td>High water permeabilities permit rapid adjustm...</td>\n",
              "      <td>[TITLE] Glial Chloride Homeostasis Under Trans...</td>\n",
              "    </tr>\n",
              "    <tr>\n",
              "      <th>3</th>\n",
              "      <td>61</td>\n",
              "      <td>Micaglio E, Locati ET, Monasky MM, Romani F, P...</td>\n",
              "      <td>alertePV-20211102.docx</td>\n",
              "      <td>Micaglio E, Locati ET, Monasky MM, Romani F, P...</td>\n",
              "      <td>Role of Pharmacogenetics in Adverse Drug React...</td>\n",
              "      <td>Frontiers in pharmacology 2021 Apr 30; 12. arn...</td>\n",
              "      <td>EMBASE - Language : English</td>\n",
              "      <td>10347816; 11006272; 115103554; 117772700; 1200...</td>\n",
              "      <td>Adverse drug reactions (ADRs) are an important...</td>\n",
              "      <td>[TITLE] Role of Pharmacogenetics in Adverse Dr...</td>\n",
              "    </tr>\n",
              "    <tr>\n",
              "      <th>4</th>\n",
              "      <td>69</td>\n",
              "      <td>Shahidullah M, Mandal A, Delamere NA\\nTRPV1-de...</td>\n",
              "      <td>alertePV-20211102.docx</td>\n",
              "      <td>Shahidullah M, Mandal A, Delamere NA</td>\n",
              "      <td>TRPV1-dependent NKCC1 activation in mouse lens...</td>\n",
              "      <td>IOVS JUN 2021; 62(8):2058</td>\n",
              "      <td>BIOSIS - Language : English</td>\n",
              "      <td>404864 (capsaicin) 7440177 (rubidium) 33069624...</td>\n",
              "      <td>Purpose : In earlier studies we showed the res...</td>\n",
              "      <td>[TITLE] TRPV1-dependent NKCC1 activation in mo...</td>\n",
              "    </tr>\n",
              "  </tbody>\n",
              "</table>\n",
              "</div>\n",
              "      <button class=\"colab-df-convert\" onclick=\"convertToInteractive('df-382c3373-2335-4358-b652-d5e0377ddea3')\"\n",
              "              title=\"Convert this dataframe to an interactive table.\"\n",
              "              style=\"display:none;\">\n",
              "        \n",
              "  <svg xmlns=\"http://www.w3.org/2000/svg\" height=\"24px\"viewBox=\"0 0 24 24\"\n",
              "       width=\"24px\">\n",
              "    <path d=\"M0 0h24v24H0V0z\" fill=\"none\"/>\n",
              "    <path d=\"M18.56 5.44l.94 2.06.94-2.06 2.06-.94-2.06-.94-.94-2.06-.94 2.06-2.06.94zm-11 1L8.5 8.5l.94-2.06 2.06-.94-2.06-.94L8.5 2.5l-.94 2.06-2.06.94zm10 10l.94 2.06.94-2.06 2.06-.94-2.06-.94-.94-2.06-.94 2.06-2.06.94z\"/><path d=\"M17.41 7.96l-1.37-1.37c-.4-.4-.92-.59-1.43-.59-.52 0-1.04.2-1.43.59L10.3 9.45l-7.72 7.72c-.78.78-.78 2.05 0 2.83L4 21.41c.39.39.9.59 1.41.59.51 0 1.02-.2 1.41-.59l7.78-7.78 2.81-2.81c.8-.78.8-2.07 0-2.86zM5.41 20L4 18.59l7.72-7.72 1.47 1.35L5.41 20z\"/>\n",
              "  </svg>\n",
              "      </button>\n",
              "      \n",
              "  <style>\n",
              "    .colab-df-container {\n",
              "      display:flex;\n",
              "      flex-wrap:wrap;\n",
              "      gap: 12px;\n",
              "    }\n",
              "\n",
              "    .colab-df-convert {\n",
              "      background-color: #E8F0FE;\n",
              "      border: none;\n",
              "      border-radius: 50%;\n",
              "      cursor: pointer;\n",
              "      display: none;\n",
              "      fill: #1967D2;\n",
              "      height: 32px;\n",
              "      padding: 0 0 0 0;\n",
              "      width: 32px;\n",
              "    }\n",
              "\n",
              "    .colab-df-convert:hover {\n",
              "      background-color: #E2EBFA;\n",
              "      box-shadow: 0px 1px 2px rgba(60, 64, 67, 0.3), 0px 1px 3px 1px rgba(60, 64, 67, 0.15);\n",
              "      fill: #174EA6;\n",
              "    }\n",
              "\n",
              "    [theme=dark] .colab-df-convert {\n",
              "      background-color: #3B4455;\n",
              "      fill: #D2E3FC;\n",
              "    }\n",
              "\n",
              "    [theme=dark] .colab-df-convert:hover {\n",
              "      background-color: #434B5C;\n",
              "      box-shadow: 0px 1px 3px 1px rgba(0, 0, 0, 0.15);\n",
              "      filter: drop-shadow(0px 1px 2px rgba(0, 0, 0, 0.3));\n",
              "      fill: #FFFFFF;\n",
              "    }\n",
              "  </style>\n",
              "\n",
              "      <script>\n",
              "        const buttonEl =\n",
              "          document.querySelector('#df-382c3373-2335-4358-b652-d5e0377ddea3 button.colab-df-convert');\n",
              "        buttonEl.style.display =\n",
              "          google.colab.kernel.accessAllowed ? 'block' : 'none';\n",
              "\n",
              "        async function convertToInteractive(key) {\n",
              "          const element = document.querySelector('#df-382c3373-2335-4358-b652-d5e0377ddea3');\n",
              "          const dataTable =\n",
              "            await google.colab.kernel.invokeFunction('convertToInteractive',\n",
              "                                                     [key], {});\n",
              "          if (!dataTable) return;\n",
              "\n",
              "          const docLinkHtml = 'Like what you see? Visit the ' +\n",
              "            '<a target=\"_blank\" href=https://colab.research.google.com/notebooks/data_table.ipynb>data table notebook</a>'\n",
              "            + ' to learn more about interactive tables.';\n",
              "          element.innerHTML = '';\n",
              "          dataTable['output_type'] = 'display_data';\n",
              "          await google.colab.output.renderOutput(dataTable, element);\n",
              "          const docLink = document.createElement('div');\n",
              "          docLink.innerHTML = docLinkHtml;\n",
              "          element.appendChild(docLink);\n",
              "        }\n",
              "      </script>\n",
              "    </div>\n",
              "  </div>\n",
              "  "
            ]
          },
          "metadata": {},
          "execution_count": 71
        }
      ]
    },
    {
      "cell_type": "code",
      "source": [
        "ds_blind = Dataset.from_pandas(df_blind)"
      ],
      "metadata": {
        "id": "aaWBGEFjpKcQ"
      },
      "execution_count": 72,
      "outputs": []
    },
    {
      "cell_type": "code",
      "source": [
        "encoded_blind_dataset = ds_blind.map(preprocess_function, batched=True)"
      ],
      "metadata": {
        "colab": {
          "base_uri": "https://localhost:8080/",
          "height": 17,
          "referenced_widgets": [
            "67145c2b39f44c73a58901ef3a48ac8d",
            "0c9bcbb463614095af7ef0c86a44c1c8",
            "f7d50772397f43018f971d7742bd389a",
            "42e6dc4e5fa04cb898c2c33ac7b6d961",
            "aa13e41f97c84f7b8473d90fcd3ba6f2",
            "cfac475b9b43419f898f1b583c74dd64",
            "31d624d7f6464629aa4241ecb73f7082",
            "4d5f6701744640edbe69c50b4d304fb0",
            "1924df4207f74560bbeca3747b061f02",
            "9859670cb78942f2ba4fa67a7e8327d2",
            "84e4f3b8e67a4fc49c13a59bb7232281"
          ]
        },
        "id": "2J9eKMDjpboz",
        "outputId": "5b25b5fc-75d4-4d48-a194-c57a9e07788f"
      },
      "execution_count": 73,
      "outputs": [
        {
          "output_type": "display_data",
          "data": {
            "text/plain": [
              "Map:   0%|          | 0/471 [00:00<?, ? examples/s]"
            ],
            "application/vnd.jupyter.widget-view+json": {
              "version_major": 2,
              "version_minor": 0,
              "model_id": "67145c2b39f44c73a58901ef3a48ac8d"
            }
          },
          "metadata": {}
        }
      ]
    },
    {
      "cell_type": "code",
      "source": [
        "encoded_blind_dataset"
      ],
      "metadata": {
        "colab": {
          "base_uri": "https://localhost:8080/"
        },
        "id": "6V6G7hLvpwig",
        "outputId": "a86cd5cd-dcf0-4fe4-9d2e-b49642d209a2"
      },
      "execution_count": 74,
      "outputs": [
        {
          "output_type": "execute_result",
          "data": {
            "text/plain": [
              "Dataset({\n",
              "    features: ['id', 'text', 'file', 'authors', 'title', 'journals', 'sources', 'keywords', 'abstract', 'BERT_txt', 'input_ids', 'token_type_ids', 'attention_mask'],\n",
              "    num_rows: 471\n",
              "})"
            ]
          },
          "metadata": {},
          "execution_count": 74
        }
      ]
    },
    {
      "cell_type": "markdown",
      "metadata": {
        "id": "-TVtb5_mhsW6"
      },
      "source": [
        "You can now upload the result of the training to the Hub, just execute this instruction:"
      ]
    },
    {
      "cell_type": "code",
      "execution_count": 75,
      "metadata": {
        "id": "CFLa8sH-hsW7",
        "colab": {
          "base_uri": "https://localhost:8080/",
          "height": 17
        },
        "outputId": "ce4327ed-6e0e-4208-a263-77108afe4f37"
      },
      "outputs": [
        {
          "output_type": "display_data",
          "data": {
            "text/plain": [
              "<IPython.core.display.HTML object>"
            ],
            "text/html": []
          },
          "metadata": {}
        }
      ],
      "source": [
        "y_pred = trainer.predict(encoded_blind_dataset)"
      ]
    },
    {
      "cell_type": "code",
      "source": [
        "y_pred.predictions.shape"
      ],
      "metadata": {
        "colab": {
          "base_uri": "https://localhost:8080/"
        },
        "id": "i1McGaNYqBoU",
        "outputId": "b2ebe6c6-9cfb-4652-81ce-cf6b21a6969a"
      },
      "execution_count": 76,
      "outputs": [
        {
          "output_type": "execute_result",
          "data": {
            "text/plain": [
              "(471, 2)"
            ]
          },
          "metadata": {},
          "execution_count": 76
        }
      ]
    },
    {
      "cell_type": "code",
      "source": [
        "y_pred.predictions[:5]"
      ],
      "metadata": {
        "colab": {
          "base_uri": "https://localhost:8080/"
        },
        "id": "3VxaNED-qRPn",
        "outputId": "475d52e6-5ab1-4d3f-d629-d193da44bf1c"
      },
      "execution_count": 77,
      "outputs": [
        {
          "output_type": "execute_result",
          "data": {
            "text/plain": [
              "array([[ 0.7305, -0.784 ],\n",
              "       [ 2.225 , -2.06  ],\n",
              "       [ 3.2   , -3.5   ],\n",
              "       [-2.982 ,  3.219 ],\n",
              "       [ 2.791 , -3.227 ]], dtype=float16)"
            ]
          },
          "metadata": {},
          "execution_count": 77
        }
      ]
    },
    {
      "cell_type": "code",
      "source": [
        "np.argmax(y_pred.predictions, axis=1)[:5]"
      ],
      "metadata": {
        "colab": {
          "base_uri": "https://localhost:8080/"
        },
        "id": "Lh6Lk3g7qkt8",
        "outputId": "1e6bc2b9-0484-4a92-b81a-57205a0adefe"
      },
      "execution_count": 78,
      "outputs": [
        {
          "output_type": "execute_result",
          "data": {
            "text/plain": [
              "array([0, 0, 0, 1, 0])"
            ]
          },
          "metadata": {},
          "execution_count": 78
        }
      ]
    },
    {
      "cell_type": "code",
      "source": [
        "submission = pd.DataFrame({'id': df_blind['id'], 'label': np.argmax(y_pred.predictions, axis=1)})\n",
        "submission.to_csv('new_submission.csv', index=False)"
      ],
      "metadata": {
        "id": "y5LrAQcQqNOF"
      },
      "execution_count": 79,
      "outputs": []
    },
    {
      "cell_type": "markdown",
      "source": [
        "- Score on public leaderboard: **0.83050**\n",
        "- Score on private leaderboard: **0.84615**"
      ],
      "metadata": {
        "id": "Y0TBboVsHkkr"
      }
    },
    {
      "cell_type": "markdown",
      "source": [
        "# checking on test set (with labels)"
      ],
      "metadata": {
        "id": "fwg9gIHCJydr"
      }
    },
    {
      "cell_type": "code",
      "source": [
        "df_test = pd.read_csv('/gdrive/MyDrive/BD/Servier_detection_PV/test_label.csv', sep=',')\n",
        "df_test.head()"
      ],
      "metadata": {
        "id": "xjqE3eMPH6Sh",
        "colab": {
          "base_uri": "https://localhost:8080/",
          "height": 206
        },
        "outputId": "2e7e17b2-e9fa-4d7d-f1f8-abe3b367b7da"
      },
      "execution_count": 80,
      "outputs": [
        {
          "output_type": "execute_result",
          "data": {
            "text/plain": [
              "   id  label\n",
              "0  43      0\n",
              "1  49      0\n",
              "2  59      0\n",
              "3  61      0\n",
              "4  69      0"
            ],
            "text/html": [
              "\n",
              "  <div id=\"df-86758f66-a0ee-46bb-833e-9f39b60d5e9d\">\n",
              "    <div class=\"colab-df-container\">\n",
              "      <div>\n",
              "<style scoped>\n",
              "    .dataframe tbody tr th:only-of-type {\n",
              "        vertical-align: middle;\n",
              "    }\n",
              "\n",
              "    .dataframe tbody tr th {\n",
              "        vertical-align: top;\n",
              "    }\n",
              "\n",
              "    .dataframe thead th {\n",
              "        text-align: right;\n",
              "    }\n",
              "</style>\n",
              "<table border=\"1\" class=\"dataframe\">\n",
              "  <thead>\n",
              "    <tr style=\"text-align: right;\">\n",
              "      <th></th>\n",
              "      <th>id</th>\n",
              "      <th>label</th>\n",
              "    </tr>\n",
              "  </thead>\n",
              "  <tbody>\n",
              "    <tr>\n",
              "      <th>0</th>\n",
              "      <td>43</td>\n",
              "      <td>0</td>\n",
              "    </tr>\n",
              "    <tr>\n",
              "      <th>1</th>\n",
              "      <td>49</td>\n",
              "      <td>0</td>\n",
              "    </tr>\n",
              "    <tr>\n",
              "      <th>2</th>\n",
              "      <td>59</td>\n",
              "      <td>0</td>\n",
              "    </tr>\n",
              "    <tr>\n",
              "      <th>3</th>\n",
              "      <td>61</td>\n",
              "      <td>0</td>\n",
              "    </tr>\n",
              "    <tr>\n",
              "      <th>4</th>\n",
              "      <td>69</td>\n",
              "      <td>0</td>\n",
              "    </tr>\n",
              "  </tbody>\n",
              "</table>\n",
              "</div>\n",
              "      <button class=\"colab-df-convert\" onclick=\"convertToInteractive('df-86758f66-a0ee-46bb-833e-9f39b60d5e9d')\"\n",
              "              title=\"Convert this dataframe to an interactive table.\"\n",
              "              style=\"display:none;\">\n",
              "        \n",
              "  <svg xmlns=\"http://www.w3.org/2000/svg\" height=\"24px\"viewBox=\"0 0 24 24\"\n",
              "       width=\"24px\">\n",
              "    <path d=\"M0 0h24v24H0V0z\" fill=\"none\"/>\n",
              "    <path d=\"M18.56 5.44l.94 2.06.94-2.06 2.06-.94-2.06-.94-.94-2.06-.94 2.06-2.06.94zm-11 1L8.5 8.5l.94-2.06 2.06-.94-2.06-.94L8.5 2.5l-.94 2.06-2.06.94zm10 10l.94 2.06.94-2.06 2.06-.94-2.06-.94-.94-2.06-.94 2.06-2.06.94z\"/><path d=\"M17.41 7.96l-1.37-1.37c-.4-.4-.92-.59-1.43-.59-.52 0-1.04.2-1.43.59L10.3 9.45l-7.72 7.72c-.78.78-.78 2.05 0 2.83L4 21.41c.39.39.9.59 1.41.59.51 0 1.02-.2 1.41-.59l7.78-7.78 2.81-2.81c.8-.78.8-2.07 0-2.86zM5.41 20L4 18.59l7.72-7.72 1.47 1.35L5.41 20z\"/>\n",
              "  </svg>\n",
              "      </button>\n",
              "      \n",
              "  <style>\n",
              "    .colab-df-container {\n",
              "      display:flex;\n",
              "      flex-wrap:wrap;\n",
              "      gap: 12px;\n",
              "    }\n",
              "\n",
              "    .colab-df-convert {\n",
              "      background-color: #E8F0FE;\n",
              "      border: none;\n",
              "      border-radius: 50%;\n",
              "      cursor: pointer;\n",
              "      display: none;\n",
              "      fill: #1967D2;\n",
              "      height: 32px;\n",
              "      padding: 0 0 0 0;\n",
              "      width: 32px;\n",
              "    }\n",
              "\n",
              "    .colab-df-convert:hover {\n",
              "      background-color: #E2EBFA;\n",
              "      box-shadow: 0px 1px 2px rgba(60, 64, 67, 0.3), 0px 1px 3px 1px rgba(60, 64, 67, 0.15);\n",
              "      fill: #174EA6;\n",
              "    }\n",
              "\n",
              "    [theme=dark] .colab-df-convert {\n",
              "      background-color: #3B4455;\n",
              "      fill: #D2E3FC;\n",
              "    }\n",
              "\n",
              "    [theme=dark] .colab-df-convert:hover {\n",
              "      background-color: #434B5C;\n",
              "      box-shadow: 0px 1px 3px 1px rgba(0, 0, 0, 0.15);\n",
              "      filter: drop-shadow(0px 1px 2px rgba(0, 0, 0, 0.3));\n",
              "      fill: #FFFFFF;\n",
              "    }\n",
              "  </style>\n",
              "\n",
              "      <script>\n",
              "        const buttonEl =\n",
              "          document.querySelector('#df-86758f66-a0ee-46bb-833e-9f39b60d5e9d button.colab-df-convert');\n",
              "        buttonEl.style.display =\n",
              "          google.colab.kernel.accessAllowed ? 'block' : 'none';\n",
              "\n",
              "        async function convertToInteractive(key) {\n",
              "          const element = document.querySelector('#df-86758f66-a0ee-46bb-833e-9f39b60d5e9d');\n",
              "          const dataTable =\n",
              "            await google.colab.kernel.invokeFunction('convertToInteractive',\n",
              "                                                     [key], {});\n",
              "          if (!dataTable) return;\n",
              "\n",
              "          const docLinkHtml = 'Like what you see? Visit the ' +\n",
              "            '<a target=\"_blank\" href=https://colab.research.google.com/notebooks/data_table.ipynb>data table notebook</a>'\n",
              "            + ' to learn more about interactive tables.';\n",
              "          element.innerHTML = '';\n",
              "          dataTable['output_type'] = 'display_data';\n",
              "          await google.colab.output.renderOutput(dataTable, element);\n",
              "          const docLink = document.createElement('div');\n",
              "          docLink.innerHTML = docLinkHtml;\n",
              "          element.appendChild(docLink);\n",
              "        }\n",
              "      </script>\n",
              "    </div>\n",
              "  </div>\n",
              "  "
            ]
          },
          "metadata": {},
          "execution_count": 80
        }
      ]
    },
    {
      "cell_type": "code",
      "source": [
        "df_test = df_test.rename(columns={'label': 'predicted'}).merge(submission, on='id')\n",
        "print('Shape: ' + str(df_test.shape))\n",
        "df_test.head()"
      ],
      "metadata": {
        "colab": {
          "base_uri": "https://localhost:8080/",
          "height": 224
        },
        "id": "m-JVkEK0Kbxt",
        "outputId": "b771d087-cbc6-4e30-b364-fed00a19118a"
      },
      "execution_count": 81,
      "outputs": [
        {
          "output_type": "stream",
          "name": "stdout",
          "text": [
            "Shape: (471, 3)\n"
          ]
        },
        {
          "output_type": "execute_result",
          "data": {
            "text/plain": [
              "   id  predicted  label\n",
              "0  43          0      0\n",
              "1  49          0      0\n",
              "2  59          0      0\n",
              "3  61          0      1\n",
              "4  69          0      0"
            ],
            "text/html": [
              "\n",
              "  <div id=\"df-392bd234-1c65-4818-9702-40ff00fe0263\">\n",
              "    <div class=\"colab-df-container\">\n",
              "      <div>\n",
              "<style scoped>\n",
              "    .dataframe tbody tr th:only-of-type {\n",
              "        vertical-align: middle;\n",
              "    }\n",
              "\n",
              "    .dataframe tbody tr th {\n",
              "        vertical-align: top;\n",
              "    }\n",
              "\n",
              "    .dataframe thead th {\n",
              "        text-align: right;\n",
              "    }\n",
              "</style>\n",
              "<table border=\"1\" class=\"dataframe\">\n",
              "  <thead>\n",
              "    <tr style=\"text-align: right;\">\n",
              "      <th></th>\n",
              "      <th>id</th>\n",
              "      <th>predicted</th>\n",
              "      <th>label</th>\n",
              "    </tr>\n",
              "  </thead>\n",
              "  <tbody>\n",
              "    <tr>\n",
              "      <th>0</th>\n",
              "      <td>43</td>\n",
              "      <td>0</td>\n",
              "      <td>0</td>\n",
              "    </tr>\n",
              "    <tr>\n",
              "      <th>1</th>\n",
              "      <td>49</td>\n",
              "      <td>0</td>\n",
              "      <td>0</td>\n",
              "    </tr>\n",
              "    <tr>\n",
              "      <th>2</th>\n",
              "      <td>59</td>\n",
              "      <td>0</td>\n",
              "      <td>0</td>\n",
              "    </tr>\n",
              "    <tr>\n",
              "      <th>3</th>\n",
              "      <td>61</td>\n",
              "      <td>0</td>\n",
              "      <td>1</td>\n",
              "    </tr>\n",
              "    <tr>\n",
              "      <th>4</th>\n",
              "      <td>69</td>\n",
              "      <td>0</td>\n",
              "      <td>0</td>\n",
              "    </tr>\n",
              "  </tbody>\n",
              "</table>\n",
              "</div>\n",
              "      <button class=\"colab-df-convert\" onclick=\"convertToInteractive('df-392bd234-1c65-4818-9702-40ff00fe0263')\"\n",
              "              title=\"Convert this dataframe to an interactive table.\"\n",
              "              style=\"display:none;\">\n",
              "        \n",
              "  <svg xmlns=\"http://www.w3.org/2000/svg\" height=\"24px\"viewBox=\"0 0 24 24\"\n",
              "       width=\"24px\">\n",
              "    <path d=\"M0 0h24v24H0V0z\" fill=\"none\"/>\n",
              "    <path d=\"M18.56 5.44l.94 2.06.94-2.06 2.06-.94-2.06-.94-.94-2.06-.94 2.06-2.06.94zm-11 1L8.5 8.5l.94-2.06 2.06-.94-2.06-.94L8.5 2.5l-.94 2.06-2.06.94zm10 10l.94 2.06.94-2.06 2.06-.94-2.06-.94-.94-2.06-.94 2.06-2.06.94z\"/><path d=\"M17.41 7.96l-1.37-1.37c-.4-.4-.92-.59-1.43-.59-.52 0-1.04.2-1.43.59L10.3 9.45l-7.72 7.72c-.78.78-.78 2.05 0 2.83L4 21.41c.39.39.9.59 1.41.59.51 0 1.02-.2 1.41-.59l7.78-7.78 2.81-2.81c.8-.78.8-2.07 0-2.86zM5.41 20L4 18.59l7.72-7.72 1.47 1.35L5.41 20z\"/>\n",
              "  </svg>\n",
              "      </button>\n",
              "      \n",
              "  <style>\n",
              "    .colab-df-container {\n",
              "      display:flex;\n",
              "      flex-wrap:wrap;\n",
              "      gap: 12px;\n",
              "    }\n",
              "\n",
              "    .colab-df-convert {\n",
              "      background-color: #E8F0FE;\n",
              "      border: none;\n",
              "      border-radius: 50%;\n",
              "      cursor: pointer;\n",
              "      display: none;\n",
              "      fill: #1967D2;\n",
              "      height: 32px;\n",
              "      padding: 0 0 0 0;\n",
              "      width: 32px;\n",
              "    }\n",
              "\n",
              "    .colab-df-convert:hover {\n",
              "      background-color: #E2EBFA;\n",
              "      box-shadow: 0px 1px 2px rgba(60, 64, 67, 0.3), 0px 1px 3px 1px rgba(60, 64, 67, 0.15);\n",
              "      fill: #174EA6;\n",
              "    }\n",
              "\n",
              "    [theme=dark] .colab-df-convert {\n",
              "      background-color: #3B4455;\n",
              "      fill: #D2E3FC;\n",
              "    }\n",
              "\n",
              "    [theme=dark] .colab-df-convert:hover {\n",
              "      background-color: #434B5C;\n",
              "      box-shadow: 0px 1px 3px 1px rgba(0, 0, 0, 0.15);\n",
              "      filter: drop-shadow(0px 1px 2px rgba(0, 0, 0, 0.3));\n",
              "      fill: #FFFFFF;\n",
              "    }\n",
              "  </style>\n",
              "\n",
              "      <script>\n",
              "        const buttonEl =\n",
              "          document.querySelector('#df-392bd234-1c65-4818-9702-40ff00fe0263 button.colab-df-convert');\n",
              "        buttonEl.style.display =\n",
              "          google.colab.kernel.accessAllowed ? 'block' : 'none';\n",
              "\n",
              "        async function convertToInteractive(key) {\n",
              "          const element = document.querySelector('#df-392bd234-1c65-4818-9702-40ff00fe0263');\n",
              "          const dataTable =\n",
              "            await google.colab.kernel.invokeFunction('convertToInteractive',\n",
              "                                                     [key], {});\n",
              "          if (!dataTable) return;\n",
              "\n",
              "          const docLinkHtml = 'Like what you see? Visit the ' +\n",
              "            '<a target=\"_blank\" href=https://colab.research.google.com/notebooks/data_table.ipynb>data table notebook</a>'\n",
              "            + ' to learn more about interactive tables.';\n",
              "          element.innerHTML = '';\n",
              "          dataTable['output_type'] = 'display_data';\n",
              "          await google.colab.output.renderOutput(dataTable, element);\n",
              "          const docLink = document.createElement('div');\n",
              "          docLink.innerHTML = docLinkHtml;\n",
              "          element.appendChild(docLink);\n",
              "        }\n",
              "      </script>\n",
              "    </div>\n",
              "  </div>\n",
              "  "
            ]
          },
          "metadata": {},
          "execution_count": 81
        }
      ]
    },
    {
      "cell_type": "code",
      "source": [
        "import numpy as np\n",
        "from sklearn.metrics import confusion_matrix, ConfusionMatrixDisplay\n",
        "import matplotlib.pyplot as plt\n",
        "y_preds = df_test.predicted\n",
        "y_true = df_test.label\n",
        "cm = confusion_matrix(y_true, y_preds)\n",
        "cm"
      ],
      "metadata": {
        "colab": {
          "base_uri": "https://localhost:8080/"
        },
        "id": "TcgdqeLqb1vy",
        "outputId": "30496e6e-ce56-414d-bcb4-8f9b44d0d159"
      },
      "execution_count": 82,
      "outputs": [
        {
          "output_type": "execute_result",
          "data": {
            "text/plain": [
              "array([[263,  39],\n",
              "       [ 33, 136]])"
            ]
          },
          "metadata": {},
          "execution_count": 82
        }
      ]
    },
    {
      "cell_type": "code",
      "source": [
        "cmd = ConfusionMatrixDisplay(cm, display_labels=['No_PV', 'PV'])\n",
        "cmd.plot()\n",
        "plt.savefig('confusionmatrix.png')"
      ],
      "metadata": {
        "colab": {
          "base_uri": "https://localhost:8080/",
          "height": 280
        },
        "id": "nRDFdT0qdTob",
        "outputId": "74610b10-9f0d-4649-98cd-94142213f9a6"
      },
      "execution_count": 83,
      "outputs": [
        {
          "output_type": "display_data",
          "data": {
            "text/plain": [
              "<Figure size 432x288 with 2 Axes>"
            ],
            "image/png": "[encoded data removed]"
          },
          "metadata": {
            "needs_background": "light"
          }
        }
      ]
    },
    {
      "cell_type": "markdown",
      "source": [
        "Saving model"
      ],
      "metadata": {
        "id": "UxZbmi3hLNJd"
      }
    },
    {
      "cell_type": "code",
      "source": [
        "trainer.save_model(f'./{task}')"
      ],
      "metadata": {
        "id": "62g8xoq1eMvo"
      },
      "execution_count": 84,
      "outputs": []
    },
    {
      "cell_type": "markdown",
      "source": [
        "Uploading model & confusion matrix to mlflow"
      ],
      "metadata": {
        "id": "dGLwlu7ELPDs"
      }
    },
    {
      "cell_type": "code",
      "source": [
        "try:\n",
        "    mlflow.end_run()\n",
        "except:\n",
        "    print('run not active -> continuing')\n",
        "run = mlflow.start_run(run_id='ee15599d9050499d9317d54faaf45064', nested=False)\n",
        "# Imports PIL module\n",
        "from PIL import Image\n",
        "im = Image.open('confusionmatrix.png')\n",
        "mlflow.log_image(im, 'confusionmatrix.png')\n",
        "mlflow.log_artifacts(task, artifact_path='model-' + task)\n",
        "mlflow.end_run()"
      ],
      "metadata": {
        "id": "2QKDgTh8eiw9"
      },
      "execution_count": 85,
      "outputs": []
    },
    {
      "cell_type": "markdown",
      "source": [
        "![image.png](data:image/png;base64,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)"
      ],
      "metadata": {
        "id": "QhjtWSERSptg"
      }
    },
    {
      "cell_type": "code",
      "source": [],
      "metadata": {
        "id": "kd5ghOL8SdpJ"
      },
      "execution_count": null,
      "outputs": []
    }
  ],
  "metadata": {
    "colab": {
      "provenance": [],
      "include_colab_link": true
    },
    "gpuClass": "standard",
    "language_info": {
      "name": "python"
    },
    "kernelspec": {
      "name": "python3",
      "display_name": "Python 3"
    },
    "widgets": {
      "application/vnd.jupyter.widget-state+json": {
        "ec061cd2759f48518129d5605e65c10f": {
          "model_module": "@jupyter-widgets/controls",
          "model_name": "HBoxModel",
          "model_module_version": "1.5.0",
          "state": {
            "_dom_classes": [],
            "_model_module": "@jupyter-widgets/controls",
            "_model_module_version": "1.5.0",
            "_model_name": "HBoxModel",
            "_view_count": null,
            "_view_module": "@jupyter-widgets/controls",
            "_view_module_version": "1.5.0",
            "_view_name": "HBoxView",
            "box_style": "",
            "children": [
              "IPY_MODEL_daa495ff9f4f4bc68a63a665c9ce7bef",
              "IPY_MODEL_c694f1e30fa846c3b5e9cb9f32e8372f",
              "IPY_MODEL_743214b80dbf4644a4553f0dc5a16972"
            ],
            "layout": "IPY_MODEL_14941f56362949ffb4bb363b48a83260"
          }
        },
        "daa495ff9f4f4bc68a63a665c9ce7bef": {
          "model_module": "@jupyter-widgets/controls",
          "model_name": "HTMLModel",
          "model_module_version": "1.5.0",
          "state": {
            "_dom_classes": [],
            "_model_module": "@jupyter-widgets/controls",
            "_model_module_version": "1.5.0",
            "_model_name": "HTMLModel",
            "_view_count": null,
            "_view_module": "@jupyter-widgets/controls",
            "_view_module_version": "1.5.0",
            "_view_name": "HTMLView",
            "description": "",
            "description_tooltip": null,
            "layout": "IPY_MODEL_54310972bfc04f2dba7c95fa5056bb55",
            "placeholder": "​",
            "style": "IPY_MODEL_fc5611a6d6e04eb19253111031abf423",
            "value": "Downloading data files: 100%"
          }
        },
        "c694f1e30fa846c3b5e9cb9f32e8372f": {
          "model_module": "@jupyter-widgets/controls",
          "model_name": "FloatProgressModel",
          "model_module_version": "1.5.0",
          "state": {
            "_dom_classes": [],
            "_model_module": "@jupyter-widgets/controls",
            "_model_module_version": "1.5.0",
            "_model_name": "FloatProgressModel",
            "_view_count": null,
            "_view_module": "@jupyter-widgets/controls",
            "_view_module_version": "1.5.0",
            "_view_name": "ProgressView",
            "bar_style": "success",
            "description": "",
            "description_tooltip": null,
            "layout": "IPY_MODEL_f7455626a4e54bd8917dd152d36008dd",
            "max": 1,
            "min": 0,
            "orientation": "horizontal",
            "style": "IPY_MODEL_af7e54e880164524a3ace72351b77005",
            "value": 1
          }
        },
        "743214b80dbf4644a4553f0dc5a16972": {
          "model_module": "@jupyter-widgets/controls",
          "model_name": "HTMLModel",
          "model_module_version": "1.5.0",
          "state": {
            "_dom_classes": [],
            "_model_module": "@jupyter-widgets/controls",
            "_model_module_version": "1.5.0",
            "_model_name": "HTMLModel",
            "_view_count": null,
            "_view_module": "@jupyter-widgets/controls",
            "_view_module_version": "1.5.0",
            "_view_name": "HTMLView",
            "description": "",
            "description_tooltip": null,
            "layout": "IPY_MODEL_b03061a43eb94e84bc47588ffdb17fd1",
            "placeholder": "​",
            "style": "IPY_MODEL_a1bf9d0f578741faa0b69f75da9602d6",
            "value": " 1/1 [00:00&lt;00:00, 40.42it/s]"
          }
        },
        "14941f56362949ffb4bb363b48a83260": {
          "model_module": "@jupyter-widgets/base",
          "model_name": "LayoutModel",
          "model_module_version": "1.2.0",
          "state": {
            "_model_module": "@jupyter-widgets/base",
            "_model_module_version": "1.2.0",
            "_model_name": "LayoutModel",
            "_view_count": null,
            "_view_module": "@jupyter-widgets/base",
            "_view_module_version": "1.2.0",
            "_view_name": "LayoutView",
            "align_content": null,
            "align_items": null,
            "align_self": null,
            "border": null,
            "bottom": null,
            "display": null,
            "flex": null,
            "flex_flow": null,
            "grid_area": null,
            "grid_auto_columns": null,
            "grid_auto_flow": null,
            "grid_auto_rows": null,
            "grid_column": null,
            "grid_gap": null,
            "grid_row": null,
            "grid_template_areas": null,
            "grid_template_columns": null,
            "grid_template_rows": null,
            "height": null,
            "justify_content": null,
            "justify_items": null,
            "left": null,
            "margin": null,
            "max_height": null,
            "max_width": null,
            "min_height": null,
            "min_width": null,
            "object_fit": null,
            "object_position": null,
            "order": null,
            "overflow": null,
            "overflow_x": null,
            "overflow_y": null,
            "padding": null,
            "right": null,
            "top": null,
            "visibility": null,
            "width": null
          }
        },
        "54310972bfc04f2dba7c95fa5056bb55": {
          "model_module": "@jupyter-widgets/base",
          "model_name": "LayoutModel",
          "model_module_version": "1.2.0",
          "state": {
            "_model_module": "@jupyter-widgets/base",
            "_model_module_version": "1.2.0",
            "_model_name": "LayoutModel",
            "_view_count": null,
            "_view_module": "@jupyter-widgets/base",
            "_view_module_version": "1.2.0",
            "_view_name": "LayoutView",
            "align_content": null,
            "align_items": null,
            "align_self": null,
            "border": null,
            "bottom": null,
            "display": null,
            "flex": null,
            "flex_flow": null,
            "grid_area": null,
            "grid_auto_columns": null,
            "grid_auto_flow": null,
            "grid_auto_rows": null,
            "grid_column": null,
            "grid_gap": null,
            "grid_row": null,
            "grid_template_areas": null,
            "grid_template_columns": null,
            "grid_template_rows": null,
            "height": null,
            "justify_content": null,
            "justify_items": null,
            "left": null,
            "margin": null,
            "max_height": null,
            "max_width": null,
            "min_height": null,
            "min_width": null,
            "object_fit": null,
            "object_position": null,
            "order": null,
            "overflow": null,
            "overflow_x": null,
            "overflow_y": null,
            "padding": null,
            "right": null,
            "top": null,
            "visibility": null,
            "width": null
          }
        },
        "fc5611a6d6e04eb19253111031abf423": {
          "model_module": "@jupyter-widgets/controls",
          "model_name": "DescriptionStyleModel",
          "model_module_version": "1.5.0",
          "state": {
            "_model_module": "@jupyter-widgets/controls",
            "_model_module_version": "1.5.0",
            "_model_name": "DescriptionStyleModel",
            "_view_count": null,
            "_view_module": "@jupyter-widgets/base",
            "_view_module_version": "1.2.0",
            "_view_name": "StyleView",
            "description_width": ""
          }
        },
        "f7455626a4e54bd8917dd152d36008dd": {
          "model_module": "@jupyter-widgets/base",
          "model_name": "LayoutModel",
          "model_module_version": "1.2.0",
          "state": {
            "_model_module": "@jupyter-widgets/base",
            "_model_module_version": "1.2.0",
            "_model_name": "LayoutModel",
            "_view_count": null,
            "_view_module": "@jupyter-widgets/base",
            "_view_module_version": "1.2.0",
            "_view_name": "LayoutView",
            "align_content": null,
            "align_items": null,
            "align_self": null,
            "border": null,
            "bottom": null,
            "display": null,
            "flex": null,
            "flex_flow": null,
            "grid_area": null,
            "grid_auto_columns": null,
            "grid_auto_flow": null,
            "grid_auto_rows": null,
            "grid_column": null,
            "grid_gap": null,
            "grid_row": null,
            "grid_template_areas": null,
            "grid_template_columns": null,
            "grid_template_rows": null,
            "height": null,
            "justify_content": null,
            "justify_items": null,
            "left": null,
            "margin": null,
            "max_height": null,
            "max_width": null,
            "min_height": null,
            "min_width": null,
            "object_fit": null,
            "object_position": null,
            "order": null,
            "overflow": null,
            "overflow_x": null,
            "overflow_y": null,
            "padding": null,
            "right": null,
            "top": null,
            "visibility": null,
            "width": null
          }
        },
        "af7e54e880164524a3ace72351b77005": {
          "model_module": "@jupyter-widgets/controls",
          "model_name": "ProgressStyleModel",
          "model_module_version": "1.5.0",
          "state": {
            "_model_module": "@jupyter-widgets/controls",
            "_model_module_version": "1.5.0",
            "_model_name": "ProgressStyleModel",
            "_view_count": null,
            "_view_module": "@jupyter-widgets/base",
            "_view_module_version": "1.2.0",
            "_view_name": "StyleView",
            "bar_color": null,
            "description_width": ""
          }
        },
        "b03061a43eb94e84bc47588ffdb17fd1": {
          "model_module": "@jupyter-widgets/base",
          "model_name": "LayoutModel",
          "model_module_version": "1.2.0",
          "state": {
            "_model_module": "@jupyter-widgets/base",
            "_model_module_version": "1.2.0",
            "_model_name": "LayoutModel",
            "_view_count": null,
            "_view_module": "@jupyter-widgets/base",
            "_view_module_version": "1.2.0",
            "_view_name": "LayoutView",
            "align_content": null,
            "align_items": null,
            "align_self": null,
            "border": null,
            "bottom": null,
            "display": null,
            "flex": null,
            "flex_flow": null,
            "grid_area": null,
            "grid_auto_columns": null,
            "grid_auto_flow": null,
            "grid_auto_rows": null,
            "grid_column": null,
            "grid_gap": null,
            "grid_row": null,
            "grid_template_areas": null,
            "grid_template_columns": null,
            "grid_template_rows": null,
            "height": null,
            "justify_content": null,
            "justify_items": null,
            "left": null,
            "margin": null,
            "max_height": null,
            "max_width": null,
            "min_height": null,
            "min_width": null,
            "object_fit": null,
            "object_position": null,
            "order": null,
            "overflow": null,
            "overflow_x": null,
            "overflow_y": null,
            "padding": null,
            "right": null,
            "top": null,
            "visibility": null,
            "width": null
          }
        },
        "a1bf9d0f578741faa0b69f75da9602d6": {
          "model_module": "@jupyter-widgets/controls",
          "model_name": "DescriptionStyleModel",
          "model_module_version": "1.5.0",
          "state": {
            "_model_module": "@jupyter-widgets/controls",
            "_model_module_version": "1.5.0",
            "_model_name": "DescriptionStyleModel",
            "_view_count": null,
            "_view_module": "@jupyter-widgets/base",
            "_view_module_version": "1.2.0",
            "_view_name": "StyleView",
            "description_width": ""
          }
        },
        "730bf2a77c1c451fad881a76a132bfb8": {
          "model_module": "@jupyter-widgets/controls",
          "model_name": "HBoxModel",
          "model_module_version": "1.5.0",
          "state": {
            "_dom_classes": [],
            "_model_module": "@jupyter-widgets/controls",
            "_model_module_version": "1.5.0",
            "_model_name": "HBoxModel",
            "_view_count": null,
            "_view_module": "@jupyter-widgets/controls",
            "_view_module_version": "1.5.0",
            "_view_name": "HBoxView",
            "box_style": "",
            "children": [
              "IPY_MODEL_6c518774523240d1a0de773e4a864cc5",
              "IPY_MODEL_1ab8f91b6c18446c8522baee1245896b",
              "IPY_MODEL_e03a685053324e2eba79dfc6cd1d7fb2"
            ],
            "layout": "IPY_MODEL_ccefec1332644a809b57244c27f8053c"
          }
        },
        "6c518774523240d1a0de773e4a864cc5": {
          "model_module": "@jupyter-widgets/controls",
          "model_name": "HTMLModel",
          "model_module_version": "1.5.0",
          "state": {
            "_dom_classes": [],
            "_model_module": "@jupyter-widgets/controls",
            "_model_module_version": "1.5.0",
            "_model_name": "HTMLModel",
            "_view_count": null,
            "_view_module": "@jupyter-widgets/controls",
            "_view_module_version": "1.5.0",
            "_view_name": "HTMLView",
            "description": "",
            "description_tooltip": null,
            "layout": "IPY_MODEL_45bda0270f844352a0176d35eed8b0fa",
            "placeholder": "​",
            "style": "IPY_MODEL_b4e47e222f0a44f88c137a9063016922",
            "value": "Extracting data files: 100%"
          }
        },
        "1ab8f91b6c18446c8522baee1245896b": {
          "model_module": "@jupyter-widgets/controls",
          "model_name": "FloatProgressModel",
          "model_module_version": "1.5.0",
          "state": {
            "_dom_classes": [],
            "_model_module": "@jupyter-widgets/controls",
            "_model_module_version": "1.5.0",
            "_model_name": "FloatProgressModel",
            "_view_count": null,
            "_view_module": "@jupyter-widgets/controls",
            "_view_module_version": "1.5.0",
            "_view_name": "ProgressView",
            "bar_style": "success",
            "description": "",
            "description_tooltip": null,
            "layout": "IPY_MODEL_21b4350cf0a54534bc10aa2e3fda513a",
            "max": 1,
            "min": 0,
            "orientation": "horizontal",
            "style": "IPY_MODEL_922452c66cf54b7bbfb18ddaf3f5de19",
            "value": 1
          }
        },
        "e03a685053324e2eba79dfc6cd1d7fb2": {
          "model_module": "@jupyter-widgets/controls",
          "model_name": "HTMLModel",
          "model_module_version": "1.5.0",
          "state": {
            "_dom_classes": [],
            "_model_module": "@jupyter-widgets/controls",
            "_model_module_version": "1.5.0",
            "_model_name": "HTMLModel",
            "_view_count": null,
            "_view_module": "@jupyter-widgets/controls",
            "_view_module_version": "1.5.0",
            "_view_name": "HTMLView",
            "description": "",
            "description_tooltip": null,
            "layout": "IPY_MODEL_8e88365cdd5044f08dc6f41c58220423",
            "placeholder": "​",
            "style": "IPY_MODEL_97635f37808b4912b4a6597cad2e2009",
            "value": " 1/1 [00:00&lt;00:00, 54.45it/s]"
          }
        },
        "ccefec1332644a809b57244c27f8053c": {
          "model_module": "@jupyter-widgets/base",
          "model_name": "LayoutModel",
          "model_module_version": "1.2.0",
          "state": {
            "_model_module": "@jupyter-widgets/base",
            "_model_module_version": "1.2.0",
            "_model_name": "LayoutModel",
            "_view_count": null,
            "_view_module": "@jupyter-widgets/base",
            "_view_module_version": "1.2.0",
            "_view_name": "LayoutView",
            "align_content": null,
            "align_items": null,
            "align_self": null,
            "border": null,
            "bottom": null,
            "display": null,
            "flex": null,
            "flex_flow": null,
            "grid_area": null,
            "grid_auto_columns": null,
            "grid_auto_flow": null,
            "grid_auto_rows": null,
            "grid_column": null,
            "grid_gap": null,
            "grid_row": null,
            "grid_template_areas": null,
            "grid_template_columns": null,
            "grid_template_rows": null,
            "height": null,
            "justify_content": null,
            "justify_items": null,
            "left": null,
            "margin": null,
            "max_height": null,
            "max_width": null,
            "min_height": null,
            "min_width": null,
            "object_fit": null,
            "object_position": null,
            "order": null,
            "overflow": null,
            "overflow_x": null,
            "overflow_y": null,
            "padding": null,
            "right": null,
            "top": null,
            "visibility": null,
            "width": null
          }
        },
        "45bda0270f844352a0176d35eed8b0fa": {
          "model_module": "@jupyter-widgets/base",
          "model_name": "LayoutModel",
          "model_module_version": "1.2.0",
          "state": {
            "_model_module": "@jupyter-widgets/base",
            "_model_module_version": "1.2.0",
            "_model_name": "LayoutModel",
            "_view_count": null,
            "_view_module": "@jupyter-widgets/base",
            "_view_module_version": "1.2.0",
            "_view_name": "LayoutView",
            "align_content": null,
            "align_items": null,
            "align_self": null,
            "border": null,
            "bottom": null,
            "display": null,
            "flex": null,
            "flex_flow": null,
            "grid_area": null,
            "grid_auto_columns": null,
            "grid_auto_flow": null,
            "grid_auto_rows": null,
            "grid_column": null,
            "grid_gap": null,
            "grid_row": null,
            "grid_template_areas": null,
            "grid_template_columns": null,
            "grid_template_rows": null,
            "height": null,
            "justify_content": null,
            "justify_items": null,
            "left": null,
            "margin": null,
            "max_height": null,
            "max_width": null,
            "min_height": null,
            "min_width": null,
            "object_fit": null,
            "object_position": null,
            "order": null,
            "overflow": null,
            "overflow_x": null,
            "overflow_y": null,
            "padding": null,
            "right": null,
            "top": null,
            "visibility": null,
            "width": null
          }
        },
        "b4e47e222f0a44f88c137a9063016922": {
          "model_module": "@jupyter-widgets/controls",
          "model_name": "DescriptionStyleModel",
          "model_module_version": "1.5.0",
          "state": {
            "_model_module": "@jupyter-widgets/controls",
            "_model_module_version": "1.5.0",
            "_model_name": "DescriptionStyleModel",
            "_view_count": null,
            "_view_module": "@jupyter-widgets/base",
            "_view_module_version": "1.2.0",
            "_view_name": "StyleView",
            "description_width": ""
          }
        },
        "21b4350cf0a54534bc10aa2e3fda513a": {
          "model_module": "@jupyter-widgets/base",
          "model_name": "LayoutModel",
          "model_module_version": "1.2.0",
          "state": {
            "_model_module": "@jupyter-widgets/base",
            "_model_module_version": "1.2.0",
            "_model_name": "LayoutModel",
            "_view_count": null,
            "_view_module": "@jupyter-widgets/base",
            "_view_module_version": "1.2.0",
            "_view_name": "LayoutView",
            "align_content": null,
            "align_items": null,
            "align_self": null,
            "border": null,
            "bottom": null,
            "display": null,
            "flex": null,
            "flex_flow": null,
            "grid_area": null,
            "grid_auto_columns": null,
            "grid_auto_flow": null,
            "grid_auto_rows": null,
            "grid_column": null,
            "grid_gap": null,
            "grid_row": null,
            "grid_template_areas": null,
            "grid_template_columns": null,
            "grid_template_rows": null,
            "height": null,
            "justify_content": null,
            "justify_items": null,
            "left": null,
            "margin": null,
            "max_height": null,
            "max_width": null,
            "min_height": null,
            "min_width": null,
            "object_fit": null,
            "object_position": null,
            "order": null,
            "overflow": null,
            "overflow_x": null,
            "overflow_y": null,
            "padding": null,
            "right": null,
            "top": null,
            "visibility": null,
            "width": null
          }
        },
        "922452c66cf54b7bbfb18ddaf3f5de19": {
          "model_module": "@jupyter-widgets/controls",
          "model_name": "ProgressStyleModel",
          "model_module_version": "1.5.0",
          "state": {
            "_model_module": "@jupyter-widgets/controls",
            "_model_module_version": "1.5.0",
            "_model_name": "ProgressStyleModel",
            "_view_count": null,
            "_view_module": "@jupyter-widgets/base",
            "_view_module_version": "1.2.0",
            "_view_name": "StyleView",
            "bar_color": null,
            "description_width": ""
          }
        },
        "8e88365cdd5044f08dc6f41c58220423": {
          "model_module": "@jupyter-widgets/base",
          "model_name": "LayoutModel",
          "model_module_version": "1.2.0",
          "state": {
            "_model_module": "@jupyter-widgets/base",
            "_model_module_version": "1.2.0",
            "_model_name": "LayoutModel",
            "_view_count": null,
            "_view_module": "@jupyter-widgets/base",
            "_view_module_version": "1.2.0",
            "_view_name": "LayoutView",
            "align_content": null,
            "align_items": null,
            "align_self": null,
            "border": null,
            "bottom": null,
            "display": null,
            "flex": null,
            "flex_flow": null,
            "grid_area": null,
            "grid_auto_columns": null,
            "grid_auto_flow": null,
            "grid_auto_rows": null,
            "grid_column": null,
            "grid_gap": null,
            "grid_row": null,
            "grid_template_areas": null,
            "grid_template_columns": null,
            "grid_template_rows": null,
            "height": null,
            "justify_content": null,
            "justify_items": null,
            "left": null,
            "margin": null,
            "max_height": null,
            "max_width": null,
            "min_height": null,
            "min_width": null,
            "object_fit": null,
            "object_position": null,
            "order": null,
            "overflow": null,
            "overflow_x": null,
            "overflow_y": null,
            "padding": null,
            "right": null,
            "top": null,
            "visibility": null,
            "width": null
          }
        },
        "97635f37808b4912b4a6597cad2e2009": {
          "model_module": "@jupyter-widgets/controls",
          "model_name": "DescriptionStyleModel",
          "model_module_version": "1.5.0",
          "state": {
            "_model_module": "@jupyter-widgets/controls",
            "_model_module_version": "1.5.0",
            "_model_name": "DescriptionStyleModel",
            "_view_count": null,
            "_view_module": "@jupyter-widgets/base",
            "_view_module_version": "1.2.0",
            "_view_name": "StyleView",
            "description_width": ""
          }
        },
        "78e5c6976b3949a98c1bde89013dda42": {
          "model_module": "@jupyter-widgets/controls",
          "model_name": "HBoxModel",
          "model_module_version": "1.5.0",
          "state": {
            "_dom_classes": [],
            "_model_module": "@jupyter-widgets/controls",
            "_model_module_version": "1.5.0",
            "_model_name": "HBoxModel",
            "_view_count": null,
            "_view_module": "@jupyter-widgets/controls",
            "_view_module_version": "1.5.0",
            "_view_name": "HBoxView",
            "box_style": "",
            "children": [
              "IPY_MODEL_e0e25c8d4d954d53afb33e0217a7e2c1",
              "IPY_MODEL_73eec476904546e1aa170abed0e480ae",
              "IPY_MODEL_b99fbd2fc10e436eb51f723c48f3d015"
            ],
            "layout": "IPY_MODEL_f7f933a0de02458f84a29f194f07092c"
          }
        },
        "e0e25c8d4d954d53afb33e0217a7e2c1": {
          "model_module": "@jupyter-widgets/controls",
          "model_name": "HTMLModel",
          "model_module_version": "1.5.0",
          "state": {
            "_dom_classes": [],
            "_model_module": "@jupyter-widgets/controls",
            "_model_module_version": "1.5.0",
            "_model_name": "HTMLModel",
            "_view_count": null,
            "_view_module": "@jupyter-widgets/controls",
            "_view_module_version": "1.5.0",
            "_view_name": "HTMLView",
            "description": "",
            "description_tooltip": null,
            "layout": "IPY_MODEL_c85896246fae460999e974337002fa54",
            "placeholder": "​",
            "style": "IPY_MODEL_c524af019511481b826616073a22043d",
            "value": "Generating train split: "
          }
        },
        "73eec476904546e1aa170abed0e480ae": {
          "model_module": "@jupyter-widgets/controls",
          "model_name": "FloatProgressModel",
          "model_module_version": "1.5.0",
          "state": {
            "_dom_classes": [],
            "_model_module": "@jupyter-widgets/controls",
            "_model_module_version": "1.5.0",
            "_model_name": "FloatProgressModel",
            "_view_count": null,
            "_view_module": "@jupyter-widgets/controls",
            "_view_module_version": "1.5.0",
            "_view_name": "ProgressView",
            "bar_style": "info",
            "description": "",
            "description_tooltip": null,
            "layout": "IPY_MODEL_9d5ab9f15453415aab718fb2a327f5ec",
            "max": 1,
            "min": 0,
            "orientation": "horizontal",
            "style": "IPY_MODEL_68d489d544a34243a9a89786a15b8ab4",
            "value": 1
          }
        },
        "b99fbd2fc10e436eb51f723c48f3d015": {
          "model_module": "@jupyter-widgets/controls",
          "model_name": "HTMLModel",
          "model_module_version": "1.5.0",
          "state": {
            "_dom_classes": [],
            "_model_module": "@jupyter-widgets/controls",
            "_model_module_version": "1.5.0",
            "_model_name": "HTMLModel",
            "_view_count": null,
            "_view_module": "@jupyter-widgets/controls",
            "_view_module_version": "1.5.0",
            "_view_name": "HTMLView",
            "description": "",
            "description_tooltip": null,
            "layout": "IPY_MODEL_06e5946dc9354bfbbab2234de092fa76",
            "placeholder": "​",
            "style": "IPY_MODEL_faba73800b244b6191a955e9b78c674e",
            "value": " 2246/0 [00:00&lt;00:00, 8574.90 examples/s]"
          }
        },
        "f7f933a0de02458f84a29f194f07092c": {
          "model_module": "@jupyter-widgets/base",
          "model_name": "LayoutModel",
          "model_module_version": "1.2.0",
          "state": {
            "_model_module": "@jupyter-widgets/base",
            "_model_module_version": "1.2.0",
            "_model_name": "LayoutModel",
            "_view_count": null,
            "_view_module": "@jupyter-widgets/base",
            "_view_module_version": "1.2.0",
            "_view_name": "LayoutView",
            "align_content": null,
            "align_items": null,
            "align_self": null,
            "border": null,
            "bottom": null,
            "display": null,
            "flex": null,
            "flex_flow": null,
            "grid_area": null,
            "grid_auto_columns": null,
            "grid_auto_flow": null,
            "grid_auto_rows": null,
            "grid_column": null,
            "grid_gap": null,
            "grid_row": null,
            "grid_template_areas": null,
            "grid_template_columns": null,
            "grid_template_rows": null,
            "height": null,
            "justify_content": null,
            "justify_items": null,
            "left": null,
            "margin": null,
            "max_height": null,
            "max_width": null,
            "min_height": null,
            "min_width": null,
            "object_fit": null,
            "object_position": null,
            "order": null,
            "overflow": null,
            "overflow_x": null,
            "overflow_y": null,
            "padding": null,
            "right": null,
            "top": null,
            "visibility": "hidden",
            "width": null
          }
        },
        "c85896246fae460999e974337002fa54": {
          "model_module": "@jupyter-widgets/base",
          "model_name": "LayoutModel",
          "model_module_version": "1.2.0",
          "state": {
            "_model_module": "@jupyter-widgets/base",
            "_model_module_version": "1.2.0",
            "_model_name": "LayoutModel",
            "_view_count": null,
            "_view_module": "@jupyter-widgets/base",
            "_view_module_version": "1.2.0",
            "_view_name": "LayoutView",
            "align_content": null,
            "align_items": null,
            "align_self": null,
            "border": null,
            "bottom": null,
            "display": null,
            "flex": null,
            "flex_flow": null,
            "grid_area": null,
            "grid_auto_columns": null,
            "grid_auto_flow": null,
            "grid_auto_rows": null,
            "grid_column": null,
            "grid_gap": null,
            "grid_row": null,
            "grid_template_areas": null,
            "grid_template_columns": null,
            "grid_template_rows": null,
            "height": null,
            "justify_content": null,
            "justify_items": null,
            "left": null,
            "margin": null,
            "max_height": null,
            "max_width": null,
            "min_height": null,
            "min_width": null,
            "object_fit": null,
            "object_position": null,
            "order": null,
            "overflow": null,
            "overflow_x": null,
            "overflow_y": null,
            "padding": null,
            "right": null,
            "top": null,
            "visibility": null,
            "width": null
          }
        },
        "c524af019511481b826616073a22043d": {
          "model_module": "@jupyter-widgets/controls",
          "model_name": "DescriptionStyleModel",
          "model_module_version": "1.5.0",
          "state": {
            "_model_module": "@jupyter-widgets/controls",
            "_model_module_version": "1.5.0",
            "_model_name": "DescriptionStyleModel",
            "_view_count": null,
            "_view_module": "@jupyter-widgets/base",
            "_view_module_version": "1.2.0",
            "_view_name": "StyleView",
            "description_width": ""
          }
        },
        "9d5ab9f15453415aab718fb2a327f5ec": {
          "model_module": "@jupyter-widgets/base",
          "model_name": "LayoutModel",
          "model_module_version": "1.2.0",
          "state": {
            "_model_module": "@jupyter-widgets/base",
            "_model_module_version": "1.2.0",
            "_model_name": "LayoutModel",
            "_view_count": null,
            "_view_module": "@jupyter-widgets/base",
            "_view_module_version": "1.2.0",
            "_view_name": "LayoutView",
            "align_content": null,
            "align_items": null,
            "align_self": null,
            "border": null,
            "bottom": null,
            "display": null,
            "flex": null,
            "flex_flow": null,
            "grid_area": null,
            "grid_auto_columns": null,
            "grid_auto_flow": null,
            "grid_auto_rows": null,
            "grid_column": null,
            "grid_gap": null,
            "grid_row": null,
            "grid_template_areas": null,
            "grid_template_columns": null,
            "grid_template_rows": null,
            "height": null,
            "justify_content": null,
            "justify_items": null,
            "left": null,
            "margin": null,
            "max_height": null,
            "max_width": null,
            "min_height": null,
            "min_width": null,
            "object_fit": null,
            "object_position": null,
            "order": null,
            "overflow": null,
            "overflow_x": null,
            "overflow_y": null,
            "padding": null,
            "right": null,
            "top": null,
            "visibility": null,
            "width": "20px"
          }
        },
        "68d489d544a34243a9a89786a15b8ab4": {
          "model_module": "@jupyter-widgets/controls",
          "model_name": "ProgressStyleModel",
          "model_module_version": "1.5.0",
          "state": {
            "_model_module": "@jupyter-widgets/controls",
            "_model_module_version": "1.5.0",
            "_model_name": "ProgressStyleModel",
            "_view_count": null,
            "_view_module": "@jupyter-widgets/base",
            "_view_module_version": "1.2.0",
            "_view_name": "StyleView",
            "bar_color": null,
            "description_width": ""
          }
        },
        "06e5946dc9354bfbbab2234de092fa76": {
          "model_module": "@jupyter-widgets/base",
          "model_name": "LayoutModel",
          "model_module_version": "1.2.0",
          "state": {
            "_model_module": "@jupyter-widgets/base",
            "_model_module_version": "1.2.0",
            "_model_name": "LayoutModel",
            "_view_count": null,
            "_view_module": "@jupyter-widgets/base",
            "_view_module_version": "1.2.0",
            "_view_name": "LayoutView",
            "align_content": null,
            "align_items": null,
            "align_self": null,
            "border": null,
            "bottom": null,
            "display": null,
            "flex": null,
            "flex_flow": null,
            "grid_area": null,
            "grid_auto_columns": null,
            "grid_auto_flow": null,
            "grid_auto_rows": null,
            "grid_column": null,
            "grid_gap": null,
            "grid_row": null,
            "grid_template_areas": null,
            "grid_template_columns": null,
            "grid_template_rows": null,
            "height": null,
            "justify_content": null,
            "justify_items": null,
            "left": null,
            "margin": null,
            "max_height": null,
            "max_width": null,
            "min_height": null,
            "min_width": null,
            "object_fit": null,
            "object_position": null,
            "order": null,
            "overflow": null,
            "overflow_x": null,
            "overflow_y": null,
            "padding": null,
            "right": null,
            "top": null,
            "visibility": null,
            "width": null
          }
        },
        "faba73800b244b6191a955e9b78c674e": {
          "model_module": "@jupyter-widgets/controls",
          "model_name": "DescriptionStyleModel",
          "model_module_version": "1.5.0",
          "state": {
            "_model_module": "@jupyter-widgets/controls",
            "_model_module_version": "1.5.0",
            "_model_name": "DescriptionStyleModel",
            "_view_count": null,
            "_view_module": "@jupyter-widgets/base",
            "_view_module_version": "1.2.0",
            "_view_name": "StyleView",
            "description_width": ""
          }
        },
        "a24b0958bab74154a3d7f6b5a6d5cf6e": {
          "model_module": "@jupyter-widgets/controls",
          "model_name": "HBoxModel",
          "model_module_version": "1.5.0",
          "state": {
            "_dom_classes": [],
            "_model_module": "@jupyter-widgets/controls",
            "_model_module_version": "1.5.0",
            "_model_name": "HBoxModel",
            "_view_count": null,
            "_view_module": "@jupyter-widgets/controls",
            "_view_module_version": "1.5.0",
            "_view_name": "HBoxView",
            "box_style": "",
            "children": [
              "IPY_MODEL_8c4f10ecc46a4df5bf14d388fabd7917",
              "IPY_MODEL_d58fe9f7614f4863b1a8dc37375e2830",
              "IPY_MODEL_a4e300d07df94793b69cdc2b7f54addd"
            ],
            "layout": "IPY_MODEL_e7e2dd08734b49319631495f664d14b3"
          }
        },
        "8c4f10ecc46a4df5bf14d388fabd7917": {
          "model_module": "@jupyter-widgets/controls",
          "model_name": "HTMLModel",
          "model_module_version": "1.5.0",
          "state": {
            "_dom_classes": [],
            "_model_module": "@jupyter-widgets/controls",
            "_model_module_version": "1.5.0",
            "_model_name": "HTMLModel",
            "_view_count": null,
            "_view_module": "@jupyter-widgets/controls",
            "_view_module_version": "1.5.0",
            "_view_name": "HTMLView",
            "description": "",
            "description_tooltip": null,
            "layout": "IPY_MODEL_2879470c4716442daefcab1f6024a689",
            "placeholder": "​",
            "style": "IPY_MODEL_5d2047bfb5694582acc7ed73b2124167",
            "value": "100%"
          }
        },
        "d58fe9f7614f4863b1a8dc37375e2830": {
          "model_module": "@jupyter-widgets/controls",
          "model_name": "FloatProgressModel",
          "model_module_version": "1.5.0",
          "state": {
            "_dom_classes": [],
            "_model_module": "@jupyter-widgets/controls",
            "_model_module_version": "1.5.0",
            "_model_name": "FloatProgressModel",
            "_view_count": null,
            "_view_module": "@jupyter-widgets/controls",
            "_view_module_version": "1.5.0",
            "_view_name": "ProgressView",
            "bar_style": "success",
            "description": "",
            "description_tooltip": null,
            "layout": "IPY_MODEL_fe65bd3cec1c4f5288bf6274e55db6fa",
            "max": 1,
            "min": 0,
            "orientation": "horizontal",
            "style": "IPY_MODEL_0bcbf57e631e469c962accaa60842fed",
            "value": 1
          }
        },
        "a4e300d07df94793b69cdc2b7f54addd": {
          "model_module": "@jupyter-widgets/controls",
          "model_name": "HTMLModel",
          "model_module_version": "1.5.0",
          "state": {
            "_dom_classes": [],
            "_model_module": "@jupyter-widgets/controls",
            "_model_module_version": "1.5.0",
            "_model_name": "HTMLModel",
            "_view_count": null,
            "_view_module": "@jupyter-widgets/controls",
            "_view_module_version": "1.5.0",
            "_view_name": "HTMLView",
            "description": "",
            "description_tooltip": null,
            "layout": "IPY_MODEL_ec0e78f0fd8645d1b15b5fc7c67aeb9b",
            "placeholder": "​",
            "style": "IPY_MODEL_fc862bc1615e4080b4046d839c006946",
            "value": " 1/1 [00:00&lt;00:00, 43.46it/s]"
          }
        },
        "e7e2dd08734b49319631495f664d14b3": {
          "model_module": "@jupyter-widgets/base",
          "model_name": "LayoutModel",
          "model_module_version": "1.2.0",
          "state": {
            "_model_module": "@jupyter-widgets/base",
            "_model_module_version": "1.2.0",
            "_model_name": "LayoutModel",
            "_view_count": null,
            "_view_module": "@jupyter-widgets/base",
            "_view_module_version": "1.2.0",
            "_view_name": "LayoutView",
            "align_content": null,
            "align_items": null,
            "align_self": null,
            "border": null,
            "bottom": null,
            "display": null,
            "flex": null,
            "flex_flow": null,
            "grid_area": null,
            "grid_auto_columns": null,
            "grid_auto_flow": null,
            "grid_auto_rows": null,
            "grid_column": null,
            "grid_gap": null,
            "grid_row": null,
            "grid_template_areas": null,
            "grid_template_columns": null,
            "grid_template_rows": null,
            "height": null,
            "justify_content": null,
            "justify_items": null,
            "left": null,
            "margin": null,
            "max_height": null,
            "max_width": null,
            "min_height": null,
            "min_width": null,
            "object_fit": null,
            "object_position": null,
            "order": null,
            "overflow": null,
            "overflow_x": null,
            "overflow_y": null,
            "padding": null,
            "right": null,
            "top": null,
            "visibility": null,
            "width": null
          }
        },
        "2879470c4716442daefcab1f6024a689": {
          "model_module": "@jupyter-widgets/base",
          "model_name": "LayoutModel",
          "model_module_version": "1.2.0",
          "state": {
            "_model_module": "@jupyter-widgets/base",
            "_model_module_version": "1.2.0",
            "_model_name": "LayoutModel",
            "_view_count": null,
            "_view_module": "@jupyter-widgets/base",
            "_view_module_version": "1.2.0",
            "_view_name": "LayoutView",
            "align_content": null,
            "align_items": null,
            "align_self": null,
            "border": null,
            "bottom": null,
            "display": null,
            "flex": null,
            "flex_flow": null,
            "grid_area": null,
            "grid_auto_columns": null,
            "grid_auto_flow": null,
            "grid_auto_rows": null,
            "grid_column": null,
            "grid_gap": null,
            "grid_row": null,
            "grid_template_areas": null,
            "grid_template_columns": null,
            "grid_template_rows": null,
            "height": null,
            "justify_content": null,
            "justify_items": null,
            "left": null,
            "margin": null,
            "max_height": null,
            "max_width": null,
            "min_height": null,
            "min_width": null,
            "object_fit": null,
            "object_position": null,
            "order": null,
            "overflow": null,
            "overflow_x": null,
            "overflow_y": null,
            "padding": null,
            "right": null,
            "top": null,
            "visibility": null,
            "width": null
          }
        },
        "5d2047bfb5694582acc7ed73b2124167": {
          "model_module": "@jupyter-widgets/controls",
          "model_name": "DescriptionStyleModel",
          "model_module_version": "1.5.0",
          "state": {
            "_model_module": "@jupyter-widgets/controls",
            "_model_module_version": "1.5.0",
            "_model_name": "DescriptionStyleModel",
            "_view_count": null,
            "_view_module": "@jupyter-widgets/base",
            "_view_module_version": "1.2.0",
            "_view_name": "StyleView",
            "description_width": ""
          }
        },
        "fe65bd3cec1c4f5288bf6274e55db6fa": {
          "model_module": "@jupyter-widgets/base",
          "model_name": "LayoutModel",
          "model_module_version": "1.2.0",
          "state": {
            "_model_module": "@jupyter-widgets/base",
            "_model_module_version": "1.2.0",
            "_model_name": "LayoutModel",
            "_view_count": null,
            "_view_module": "@jupyter-widgets/base",
            "_view_module_version": "1.2.0",
            "_view_name": "LayoutView",
            "align_content": null,
            "align_items": null,
            "align_self": null,
            "border": null,
            "bottom": null,
            "display": null,
            "flex": null,
            "flex_flow": null,
            "grid_area": null,
            "grid_auto_columns": null,
            "grid_auto_flow": null,
            "grid_auto_rows": null,
            "grid_column": null,
            "grid_gap": null,
            "grid_row": null,
            "grid_template_areas": null,
            "grid_template_columns": null,
            "grid_template_rows": null,
            "height": null,
            "justify_content": null,
            "justify_items": null,
            "left": null,
            "margin": null,
            "max_height": null,
            "max_width": null,
            "min_height": null,
            "min_width": null,
            "object_fit": null,
            "object_position": null,
            "order": null,
            "overflow": null,
            "overflow_x": null,
            "overflow_y": null,
            "padding": null,
            "right": null,
            "top": null,
            "visibility": null,
            "width": null
          }
        },
        "0bcbf57e631e469c962accaa60842fed": {
          "model_module": "@jupyter-widgets/controls",
          "model_name": "ProgressStyleModel",
          "model_module_version": "1.5.0",
          "state": {
            "_model_module": "@jupyter-widgets/controls",
            "_model_module_version": "1.5.0",
            "_model_name": "ProgressStyleModel",
            "_view_count": null,
            "_view_module": "@jupyter-widgets/base",
            "_view_module_version": "1.2.0",
            "_view_name": "StyleView",
            "bar_color": null,
            "description_width": ""
          }
        },
        "ec0e78f0fd8645d1b15b5fc7c67aeb9b": {
          "model_module": "@jupyter-widgets/base",
          "model_name": "LayoutModel",
          "model_module_version": "1.2.0",
          "state": {
            "_model_module": "@jupyter-widgets/base",
            "_model_module_version": "1.2.0",
            "_model_name": "LayoutModel",
            "_view_count": null,
            "_view_module": "@jupyter-widgets/base",
            "_view_module_version": "1.2.0",
            "_view_name": "LayoutView",
            "align_content": null,
            "align_items": null,
            "align_self": null,
            "border": null,
            "bottom": null,
            "display": null,
            "flex": null,
            "flex_flow": null,
            "grid_area": null,
            "grid_auto_columns": null,
            "grid_auto_flow": null,
            "grid_auto_rows": null,
            "grid_column": null,
            "grid_gap": null,
            "grid_row": null,
            "grid_template_areas": null,
            "grid_template_columns": null,
            "grid_template_rows": null,
            "height": null,
            "justify_content": null,
            "justify_items": null,
            "left": null,
            "margin": null,
            "max_height": null,
            "max_width": null,
            "min_height": null,
            "min_width": null,
            "object_fit": null,
            "object_position": null,
            "order": null,
            "overflow": null,
            "overflow_x": null,
            "overflow_y": null,
            "padding": null,
            "right": null,
            "top": null,
            "visibility": null,
            "width": null
          }
        },
        "fc862bc1615e4080b4046d839c006946": {
          "model_module": "@jupyter-widgets/controls",
          "model_name": "DescriptionStyleModel",
          "model_module_version": "1.5.0",
          "state": {
            "_model_module": "@jupyter-widgets/controls",
            "_model_module_version": "1.5.0",
            "_model_name": "DescriptionStyleModel",
            "_view_count": null,
            "_view_module": "@jupyter-widgets/base",
            "_view_module_version": "1.2.0",
            "_view_name": "StyleView",
            "description_width": ""
          }
        },
        "e9c45bf6a405451eae12600315310500": {
          "model_module": "@jupyter-widgets/controls",
          "model_name": "HBoxModel",
          "model_module_version": "1.5.0",
          "state": {
            "_dom_classes": [],
            "_model_module": "@jupyter-widgets/controls",
            "_model_module_version": "1.5.0",
            "_model_name": "HBoxModel",
            "_view_count": null,
            "_view_module": "@jupyter-widgets/controls",
            "_view_module_version": "1.5.0",
            "_view_name": "HBoxView",
            "box_style": "",
            "children": [
              "IPY_MODEL_1075df5af1794fe5a2574768a925e95c",
              "IPY_MODEL_9fc21c253db24d9f94a04690692b85d9",
              "IPY_MODEL_dc56b72a883f41eab245f8085fe5dc0d"
            ],
            "layout": "IPY_MODEL_9666fe4bb0e04327865af61f5b4eb9a2"
          }
        },
        "1075df5af1794fe5a2574768a925e95c": {
          "model_module": "@jupyter-widgets/controls",
          "model_name": "HTMLModel",
          "model_module_version": "1.5.0",
          "state": {
            "_dom_classes": [],
            "_model_module": "@jupyter-widgets/controls",
            "_model_module_version": "1.5.0",
            "_model_name": "HTMLModel",
            "_view_count": null,
            "_view_module": "@jupyter-widgets/controls",
            "_view_module_version": "1.5.0",
            "_view_name": "HTMLView",
            "description": "",
            "description_tooltip": null,
            "layout": "IPY_MODEL_620a38b5d1f84c849438373c3b4aadab",
            "placeholder": "​",
            "style": "IPY_MODEL_4c16a6ac931b42b0b8bdccb1ed29576e",
            "value": "Map: 100%"
          }
        },
        "9fc21c253db24d9f94a04690692b85d9": {
          "model_module": "@jupyter-widgets/controls",
          "model_name": "FloatProgressModel",
          "model_module_version": "1.5.0",
          "state": {
            "_dom_classes": [],
            "_model_module": "@jupyter-widgets/controls",
            "_model_module_version": "1.5.0",
            "_model_name": "FloatProgressModel",
            "_view_count": null,
            "_view_module": "@jupyter-widgets/controls",
            "_view_module_version": "1.5.0",
            "_view_name": "ProgressView",
            "bar_style": "",
            "description": "",
            "description_tooltip": null,
            "layout": "IPY_MODEL_905248bc13704246b4faac0dfc5ee3b2",
            "max": 2632,
            "min": 0,
            "orientation": "horizontal",
            "style": "IPY_MODEL_1abd110f868345d59ea94613de1461df",
            "value": 2632
          }
        },
        "dc56b72a883f41eab245f8085fe5dc0d": {
          "model_module": "@jupyter-widgets/controls",
          "model_name": "HTMLModel",
          "model_module_version": "1.5.0",
          "state": {
            "_dom_classes": [],
            "_model_module": "@jupyter-widgets/controls",
            "_model_module_version": "1.5.0",
            "_model_name": "HTMLModel",
            "_view_count": null,
            "_view_module": "@jupyter-widgets/controls",
            "_view_module_version": "1.5.0",
            "_view_name": "HTMLView",
            "description": "",
            "description_tooltip": null,
            "layout": "IPY_MODEL_b10019831281435ea63cc90b07ac9562",
            "placeholder": "​",
            "style": "IPY_MODEL_e4dbe39156a94e4d801c6663a20e9bd6",
            "value": " 2632/2632 [00:04&lt;00:00, 574.76 examples/s]"
          }
        },
        "9666fe4bb0e04327865af61f5b4eb9a2": {
          "model_module": "@jupyter-widgets/base",
          "model_name": "LayoutModel",
          "model_module_version": "1.2.0",
          "state": {
            "_model_module": "@jupyter-widgets/base",
            "_model_module_version": "1.2.0",
            "_model_name": "LayoutModel",
            "_view_count": null,
            "_view_module": "@jupyter-widgets/base",
            "_view_module_version": "1.2.0",
            "_view_name": "LayoutView",
            "align_content": null,
            "align_items": null,
            "align_self": null,
            "border": null,
            "bottom": null,
            "display": null,
            "flex": null,
            "flex_flow": null,
            "grid_area": null,
            "grid_auto_columns": null,
            "grid_auto_flow": null,
            "grid_auto_rows": null,
            "grid_column": null,
            "grid_gap": null,
            "grid_row": null,
            "grid_template_areas": null,
            "grid_template_columns": null,
            "grid_template_rows": null,
            "height": null,
            "justify_content": null,
            "justify_items": null,
            "left": null,
            "margin": null,
            "max_height": null,
            "max_width": null,
            "min_height": null,
            "min_width": null,
            "object_fit": null,
            "object_position": null,
            "order": null,
            "overflow": null,
            "overflow_x": null,
            "overflow_y": null,
            "padding": null,
            "right": null,
            "top": null,
            "visibility": "hidden",
            "width": null
          }
        },
        "620a38b5d1f84c849438373c3b4aadab": {
          "model_module": "@jupyter-widgets/base",
          "model_name": "LayoutModel",
          "model_module_version": "1.2.0",
          "state": {
            "_model_module": "@jupyter-widgets/base",
            "_model_module_version": "1.2.0",
            "_model_name": "LayoutModel",
            "_view_count": null,
            "_view_module": "@jupyter-widgets/base",
            "_view_module_version": "1.2.0",
            "_view_name": "LayoutView",
            "align_content": null,
            "align_items": null,
            "align_self": null,
            "border": null,
            "bottom": null,
            "display": null,
            "flex": null,
            "flex_flow": null,
            "grid_area": null,
            "grid_auto_columns": null,
            "grid_auto_flow": null,
            "grid_auto_rows": null,
            "grid_column": null,
            "grid_gap": null,
            "grid_row": null,
            "grid_template_areas": null,
            "grid_template_columns": null,
            "grid_template_rows": null,
            "height": null,
            "justify_content": null,
            "justify_items": null,
            "left": null,
            "margin": null,
            "max_height": null,
            "max_width": null,
            "min_height": null,
            "min_width": null,
            "object_fit": null,
            "object_position": null,
            "order": null,
            "overflow": null,
            "overflow_x": null,
            "overflow_y": null,
            "padding": null,
            "right": null,
            "top": null,
            "visibility": null,
            "width": null
          }
        },
        "4c16a6ac931b42b0b8bdccb1ed29576e": {
          "model_module": "@jupyter-widgets/controls",
          "model_name": "DescriptionStyleModel",
          "model_module_version": "1.5.0",
          "state": {
            "_model_module": "@jupyter-widgets/controls",
            "_model_module_version": "1.5.0",
            "_model_name": "DescriptionStyleModel",
            "_view_count": null,
            "_view_module": "@jupyter-widgets/base",
            "_view_module_version": "1.2.0",
            "_view_name": "StyleView",
            "description_width": ""
          }
        },
        "905248bc13704246b4faac0dfc5ee3b2": {
          "model_module": "@jupyter-widgets/base",
          "model_name": "LayoutModel",
          "model_module_version": "1.2.0",
          "state": {
            "_model_module": "@jupyter-widgets/base",
            "_model_module_version": "1.2.0",
            "_model_name": "LayoutModel",
            "_view_count": null,
            "_view_module": "@jupyter-widgets/base",
            "_view_module_version": "1.2.0",
            "_view_name": "LayoutView",
            "align_content": null,
            "align_items": null,
            "align_self": null,
            "border": null,
            "bottom": null,
            "display": null,
            "flex": null,
            "flex_flow": null,
            "grid_area": null,
            "grid_auto_columns": null,
            "grid_auto_flow": null,
            "grid_auto_rows": null,
            "grid_column": null,
            "grid_gap": null,
            "grid_row": null,
            "grid_template_areas": null,
            "grid_template_columns": null,
            "grid_template_rows": null,
            "height": null,
            "justify_content": null,
            "justify_items": null,
            "left": null,
            "margin": null,
            "max_height": null,
            "max_width": null,
            "min_height": null,
            "min_width": null,
            "object_fit": null,
            "object_position": null,
            "order": null,
            "overflow": null,
            "overflow_x": null,
            "overflow_y": null,
            "padding": null,
            "right": null,
            "top": null,
            "visibility": null,
            "width": null
          }
        },
        "1abd110f868345d59ea94613de1461df": {
          "model_module": "@jupyter-widgets/controls",
          "model_name": "ProgressStyleModel",
          "model_module_version": "1.5.0",
          "state": {
            "_model_module": "@jupyter-widgets/controls",
            "_model_module_version": "1.5.0",
            "_model_name": "ProgressStyleModel",
            "_view_count": null,
            "_view_module": "@jupyter-widgets/base",
            "_view_module_version": "1.2.0",
            "_view_name": "StyleView",
            "bar_color": null,
            "description_width": ""
          }
        },
        "b10019831281435ea63cc90b07ac9562": {
          "model_module": "@jupyter-widgets/base",
          "model_name": "LayoutModel",
          "model_module_version": "1.2.0",
          "state": {
            "_model_module": "@jupyter-widgets/base",
            "_model_module_version": "1.2.0",
            "_model_name": "LayoutModel",
            "_view_count": null,
            "_view_module": "@jupyter-widgets/base",
            "_view_module_version": "1.2.0",
            "_view_name": "LayoutView",
            "align_content": null,
            "align_items": null,
            "align_self": null,
            "border": null,
            "bottom": null,
            "display": null,
            "flex": null,
            "flex_flow": null,
            "grid_area": null,
            "grid_auto_columns": null,
            "grid_auto_flow": null,
            "grid_auto_rows": null,
            "grid_column": null,
            "grid_gap": null,
            "grid_row": null,
            "grid_template_areas": null,
            "grid_template_columns": null,
            "grid_template_rows": null,
            "height": null,
            "justify_content": null,
            "justify_items": null,
            "left": null,
            "margin": null,
            "max_height": null,
            "max_width": null,
            "min_height": null,
            "min_width": null,
            "object_fit": null,
            "object_position": null,
            "order": null,
            "overflow": null,
            "overflow_x": null,
            "overflow_y": null,
            "padding": null,
            "right": null,
            "top": null,
            "visibility": null,
            "width": null
          }
        },
        "e4dbe39156a94e4d801c6663a20e9bd6": {
          "model_module": "@jupyter-widgets/controls",
          "model_name": "DescriptionStyleModel",
          "model_module_version": "1.5.0",
          "state": {
            "_model_module": "@jupyter-widgets/controls",
            "_model_module_version": "1.5.0",
            "_model_name": "DescriptionStyleModel",
            "_view_count": null,
            "_view_module": "@jupyter-widgets/base",
            "_view_module_version": "1.2.0",
            "_view_name": "StyleView",
            "description_width": ""
          }
        },
        "339d20c5c8d146f799096f636e0e3d95": {
          "model_module": "@jupyter-widgets/controls",
          "model_name": "HBoxModel",
          "model_module_version": "1.5.0",
          "state": {
            "_dom_classes": [],
            "_model_module": "@jupyter-widgets/controls",
            "_model_module_version": "1.5.0",
            "_model_name": "HBoxModel",
            "_view_count": null,
            "_view_module": "@jupyter-widgets/controls",
            "_view_module_version": "1.5.0",
            "_view_name": "HBoxView",
            "box_style": "",
            "children": [
              "IPY_MODEL_36eaa93a640543a6abc38af945af904e",
              "IPY_MODEL_7a5f9b383f7349318e354f8323cfa6fb",
              "IPY_MODEL_607669fb16c04831881c6167ced0fdb2"
            ],
            "layout": "IPY_MODEL_971eba04f5114f998524b9fd60a6e882"
          }
        },
        "36eaa93a640543a6abc38af945af904e": {
          "model_module": "@jupyter-widgets/controls",
          "model_name": "HTMLModel",
          "model_module_version": "1.5.0",
          "state": {
            "_dom_classes": [],
            "_model_module": "@jupyter-widgets/controls",
            "_model_module_version": "1.5.0",
            "_model_name": "HTMLModel",
            "_view_count": null,
            "_view_module": "@jupyter-widgets/controls",
            "_view_module_version": "1.5.0",
            "_view_name": "HTMLView",
            "description": "",
            "description_tooltip": null,
            "layout": "IPY_MODEL_e0c7b8fa5b5f45a4ab7e54af29dfe491",
            "placeholder": "​",
            "style": "IPY_MODEL_cd66df564607406c98c836c4ede4dd0e",
            "value": "Map: 100%"
          }
        },
        "7a5f9b383f7349318e354f8323cfa6fb": {
          "model_module": "@jupyter-widgets/controls",
          "model_name": "FloatProgressModel",
          "model_module_version": "1.5.0",
          "state": {
            "_dom_classes": [],
            "_model_module": "@jupyter-widgets/controls",
            "_model_module_version": "1.5.0",
            "_model_name": "FloatProgressModel",
            "_view_count": null,
            "_view_module": "@jupyter-widgets/controls",
            "_view_module_version": "1.5.0",
            "_view_name": "ProgressView",
            "bar_style": "",
            "description": "",
            "description_tooltip": null,
            "layout": "IPY_MODEL_45b8f1eeb50b41689fadb18a6594de8c",
            "max": 658,
            "min": 0,
            "orientation": "horizontal",
            "style": "IPY_MODEL_1a87dadddef5457e90e0ce0359b565fb",
            "value": 658
          }
        },
        "607669fb16c04831881c6167ced0fdb2": {
          "model_module": "@jupyter-widgets/controls",
          "model_name": "HTMLModel",
          "model_module_version": "1.5.0",
          "state": {
            "_dom_classes": [],
            "_model_module": "@jupyter-widgets/controls",
            "_model_module_version": "1.5.0",
            "_model_name": "HTMLModel",
            "_view_count": null,
            "_view_module": "@jupyter-widgets/controls",
            "_view_module_version": "1.5.0",
            "_view_name": "HTMLView",
            "description": "",
            "description_tooltip": null,
            "layout": "IPY_MODEL_8e18aa0d419848adacf52d3b250bde11",
            "placeholder": "​",
            "style": "IPY_MODEL_03f66b2620a3439abab286629f087edd",
            "value": " 658/658 [00:01&lt;00:00, 619.51 examples/s]"
          }
        },
        "971eba04f5114f998524b9fd60a6e882": {
          "model_module": "@jupyter-widgets/base",
          "model_name": "LayoutModel",
          "model_module_version": "1.2.0",
          "state": {
            "_model_module": "@jupyter-widgets/base",
            "_model_module_version": "1.2.0",
            "_model_name": "LayoutModel",
            "_view_count": null,
            "_view_module": "@jupyter-widgets/base",
            "_view_module_version": "1.2.0",
            "_view_name": "LayoutView",
            "align_content": null,
            "align_items": null,
            "align_self": null,
            "border": null,
            "bottom": null,
            "display": null,
            "flex": null,
            "flex_flow": null,
            "grid_area": null,
            "grid_auto_columns": null,
            "grid_auto_flow": null,
            "grid_auto_rows": null,
            "grid_column": null,
            "grid_gap": null,
            "grid_row": null,
            "grid_template_areas": null,
            "grid_template_columns": null,
            "grid_template_rows": null,
            "height": null,
            "justify_content": null,
            "justify_items": null,
            "left": null,
            "margin": null,
            "max_height": null,
            "max_width": null,
            "min_height": null,
            "min_width": null,
            "object_fit": null,
            "object_position": null,
            "order": null,
            "overflow": null,
            "overflow_x": null,
            "overflow_y": null,
            "padding": null,
            "right": null,
            "top": null,
            "visibility": "hidden",
            "width": null
          }
        },
        "e0c7b8fa5b5f45a4ab7e54af29dfe491": {
          "model_module": "@jupyter-widgets/base",
          "model_name": "LayoutModel",
          "model_module_version": "1.2.0",
          "state": {
            "_model_module": "@jupyter-widgets/base",
            "_model_module_version": "1.2.0",
            "_model_name": "LayoutModel",
            "_view_count": null,
            "_view_module": "@jupyter-widgets/base",
            "_view_module_version": "1.2.0",
            "_view_name": "LayoutView",
            "align_content": null,
            "align_items": null,
            "align_self": null,
            "border": null,
            "bottom": null,
            "display": null,
            "flex": null,
            "flex_flow": null,
            "grid_area": null,
            "grid_auto_columns": null,
            "grid_auto_flow": null,
            "grid_auto_rows": null,
            "grid_column": null,
            "grid_gap": null,
            "grid_row": null,
            "grid_template_areas": null,
            "grid_template_columns": null,
            "grid_template_rows": null,
            "height": null,
            "justify_content": null,
            "justify_items": null,
            "left": null,
            "margin": null,
            "max_height": null,
            "max_width": null,
            "min_height": null,
            "min_width": null,
            "object_fit": null,
            "object_position": null,
            "order": null,
            "overflow": null,
            "overflow_x": null,
            "overflow_y": null,
            "padding": null,
            "right": null,
            "top": null,
            "visibility": null,
            "width": null
          }
        },
        "cd66df564607406c98c836c4ede4dd0e": {
          "model_module": "@jupyter-widgets/controls",
          "model_name": "DescriptionStyleModel",
          "model_module_version": "1.5.0",
          "state": {
            "_model_module": "@jupyter-widgets/controls",
            "_model_module_version": "1.5.0",
            "_model_name": "DescriptionStyleModel",
            "_view_count": null,
            "_view_module": "@jupyter-widgets/base",
            "_view_module_version": "1.2.0",
            "_view_name": "StyleView",
            "description_width": ""
          }
        },
        "45b8f1eeb50b41689fadb18a6594de8c": {
          "model_module": "@jupyter-widgets/base",
          "model_name": "LayoutModel",
          "model_module_version": "1.2.0",
          "state": {
            "_model_module": "@jupyter-widgets/base",
            "_model_module_version": "1.2.0",
            "_model_name": "LayoutModel",
            "_view_count": null,
            "_view_module": "@jupyter-widgets/base",
            "_view_module_version": "1.2.0",
            "_view_name": "LayoutView",
            "align_content": null,
            "align_items": null,
            "align_self": null,
            "border": null,
            "bottom": null,
            "display": null,
            "flex": null,
            "flex_flow": null,
            "grid_area": null,
            "grid_auto_columns": null,
            "grid_auto_flow": null,
            "grid_auto_rows": null,
            "grid_column": null,
            "grid_gap": null,
            "grid_row": null,
            "grid_template_areas": null,
            "grid_template_columns": null,
            "grid_template_rows": null,
            "height": null,
            "justify_content": null,
            "justify_items": null,
            "left": null,
            "margin": null,
            "max_height": null,
            "max_width": null,
            "min_height": null,
            "min_width": null,
            "object_fit": null,
            "object_position": null,
            "order": null,
            "overflow": null,
            "overflow_x": null,
            "overflow_y": null,
            "padding": null,
            "right": null,
            "top": null,
            "visibility": null,
            "width": null
          }
        },
        "1a87dadddef5457e90e0ce0359b565fb": {
          "model_module": "@jupyter-widgets/controls",
          "model_name": "ProgressStyleModel",
          "model_module_version": "1.5.0",
          "state": {
            "_model_module": "@jupyter-widgets/controls",
            "_model_module_version": "1.5.0",
            "_model_name": "ProgressStyleModel",
            "_view_count": null,
            "_view_module": "@jupyter-widgets/base",
            "_view_module_version": "1.2.0",
            "_view_name": "StyleView",
            "bar_color": null,
            "description_width": ""
          }
        },
        "8e18aa0d419848adacf52d3b250bde11": {
          "model_module": "@jupyter-widgets/base",
          "model_name": "LayoutModel",
          "model_module_version": "1.2.0",
          "state": {
            "_model_module": "@jupyter-widgets/base",
            "_model_module_version": "1.2.0",
            "_model_name": "LayoutModel",
            "_view_count": null,
            "_view_module": "@jupyter-widgets/base",
            "_view_module_version": "1.2.0",
            "_view_name": "LayoutView",
            "align_content": null,
            "align_items": null,
            "align_self": null,
            "border": null,
            "bottom": null,
            "display": null,
            "flex": null,
            "flex_flow": null,
            "grid_area": null,
            "grid_auto_columns": null,
            "grid_auto_flow": null,
            "grid_auto_rows": null,
            "grid_column": null,
            "grid_gap": null,
            "grid_row": null,
            "grid_template_areas": null,
            "grid_template_columns": null,
            "grid_template_rows": null,
            "height": null,
            "justify_content": null,
            "justify_items": null,
            "left": null,
            "margin": null,
            "max_height": null,
            "max_width": null,
            "min_height": null,
            "min_width": null,
            "object_fit": null,
            "object_position": null,
            "order": null,
            "overflow": null,
            "overflow_x": null,
            "overflow_y": null,
            "padding": null,
            "right": null,
            "top": null,
            "visibility": null,
            "width": null
          }
        },
        "03f66b2620a3439abab286629f087edd": {
          "model_module": "@jupyter-widgets/controls",
          "model_name": "DescriptionStyleModel",
          "model_module_version": "1.5.0",
          "state": {
            "_model_module": "@jupyter-widgets/controls",
            "_model_module_version": "1.5.0",
            "_model_name": "DescriptionStyleModel",
            "_view_count": null,
            "_view_module": "@jupyter-widgets/base",
            "_view_module_version": "1.2.0",
            "_view_name": "StyleView",
            "description_width": ""
          }
        },
        "2d89b5d2871d4fe0a46aa6b70bec56d7": {
          "model_module": "@jupyter-widgets/controls",
          "model_name": "HBoxModel",
          "model_module_version": "1.5.0",
          "state": {
            "_dom_classes": [],
            "_model_module": "@jupyter-widgets/controls",
            "_model_module_version": "1.5.0",
            "_model_name": "HBoxModel",
            "_view_count": null,
            "_view_module": "@jupyter-widgets/controls",
            "_view_module_version": "1.5.0",
            "_view_name": "HBoxView",
            "box_style": "",
            "children": [
              "IPY_MODEL_00358965b51742ec9646c5a2efe92df6",
              "IPY_MODEL_a42cb501ab99427b9fd2ced68a644399",
              "IPY_MODEL_8a98e556f3fc4ed9aa732f7c28d20e37"
            ],
            "layout": "IPY_MODEL_ba65289a9cfc4f469c8854a0caec0cb5"
          }
        },
        "00358965b51742ec9646c5a2efe92df6": {
          "model_module": "@jupyter-widgets/controls",
          "model_name": "HTMLModel",
          "model_module_version": "1.5.0",
          "state": {
            "_dom_classes": [],
            "_model_module": "@jupyter-widgets/controls",
            "_model_module_version": "1.5.0",
            "_model_name": "HTMLModel",
            "_view_count": null,
            "_view_module": "@jupyter-widgets/controls",
            "_view_module_version": "1.5.0",
            "_view_name": "HTMLView",
            "description": "",
            "description_tooltip": null,
            "layout": "IPY_MODEL_8fb1c458d700481a8e75bb0ba5ec4c78",
            "placeholder": "​",
            "style": "IPY_MODEL_86bd698dbe33498d8bd34083e3a509a7",
            "value": "Downloading pytorch_model.bin: 100%"
          }
        },
        "a42cb501ab99427b9fd2ced68a644399": {
          "model_module": "@jupyter-widgets/controls",
          "model_name": "FloatProgressModel",
          "model_module_version": "1.5.0",
          "state": {
            "_dom_classes": [],
            "_model_module": "@jupyter-widgets/controls",
            "_model_module_version": "1.5.0",
            "_model_name": "FloatProgressModel",
            "_view_count": null,
            "_view_module": "@jupyter-widgets/controls",
            "_view_module_version": "1.5.0",
            "_view_name": "ProgressView",
            "bar_style": "success",
            "description": "",
            "description_tooltip": null,
            "layout": "IPY_MODEL_bb345430473944aa9deec5e84349d459",
            "max": 442221694,
            "min": 0,
            "orientation": "horizontal",
            "style": "IPY_MODEL_7326880f5b384c24b5fb214ebed490a1",
            "value": 442221694
          }
        },
        "8a98e556f3fc4ed9aa732f7c28d20e37": {
          "model_module": "@jupyter-widgets/controls",
          "model_name": "HTMLModel",
          "model_module_version": "1.5.0",
          "state": {
            "_dom_classes": [],
            "_model_module": "@jupyter-widgets/controls",
            "_model_module_version": "1.5.0",
            "_model_name": "HTMLModel",
            "_view_count": null,
            "_view_module": "@jupyter-widgets/controls",
            "_view_module_version": "1.5.0",
            "_view_name": "HTMLView",
            "description": "",
            "description_tooltip": null,
            "layout": "IPY_MODEL_888b0d53fd7c4ddbbc169e75938eec86",
            "placeholder": "​",
            "style": "IPY_MODEL_8af8a61c3ed74a58ab36de715d435bba",
            "value": " 442M/442M [00:04&lt;00:00, 104MB/s]"
          }
        },
        "ba65289a9cfc4f469c8854a0caec0cb5": {
          "model_module": "@jupyter-widgets/base",
          "model_name": "LayoutModel",
          "model_module_version": "1.2.0",
          "state": {
            "_model_module": "@jupyter-widgets/base",
            "_model_module_version": "1.2.0",
            "_model_name": "LayoutModel",
            "_view_count": null,
            "_view_module": "@jupyter-widgets/base",
            "_view_module_version": "1.2.0",
            "_view_name": "LayoutView",
            "align_content": null,
            "align_items": null,
            "align_self": null,
            "border": null,
            "bottom": null,
            "display": null,
            "flex": null,
            "flex_flow": null,
            "grid_area": null,
            "grid_auto_columns": null,
            "grid_auto_flow": null,
            "grid_auto_rows": null,
            "grid_column": null,
            "grid_gap": null,
            "grid_row": null,
            "grid_template_areas": null,
            "grid_template_columns": null,
            "grid_template_rows": null,
            "height": null,
            "justify_content": null,
            "justify_items": null,
            "left": null,
            "margin": null,
            "max_height": null,
            "max_width": null,
            "min_height": null,
            "min_width": null,
            "object_fit": null,
            "object_position": null,
            "order": null,
            "overflow": null,
            "overflow_x": null,
            "overflow_y": null,
            "padding": null,
            "right": null,
            "top": null,
            "visibility": null,
            "width": null
          }
        },
        "8fb1c458d700481a8e75bb0ba5ec4c78": {
          "model_module": "@jupyter-widgets/base",
          "model_name": "LayoutModel",
          "model_module_version": "1.2.0",
          "state": {
            "_model_module": "@jupyter-widgets/base",
            "_model_module_version": "1.2.0",
            "_model_name": "LayoutModel",
            "_view_count": null,
            "_view_module": "@jupyter-widgets/base",
            "_view_module_version": "1.2.0",
            "_view_name": "LayoutView",
            "align_content": null,
            "align_items": null,
            "align_self": null,
            "border": null,
            "bottom": null,
            "display": null,
            "flex": null,
            "flex_flow": null,
            "grid_area": null,
            "grid_auto_columns": null,
            "grid_auto_flow": null,
            "grid_auto_rows": null,
            "grid_column": null,
            "grid_gap": null,
            "grid_row": null,
            "grid_template_areas": null,
            "grid_template_columns": null,
            "grid_template_rows": null,
            "height": null,
            "justify_content": null,
            "justify_items": null,
            "left": null,
            "margin": null,
            "max_height": null,
            "max_width": null,
            "min_height": null,
            "min_width": null,
            "object_fit": null,
            "object_position": null,
            "order": null,
            "overflow": null,
            "overflow_x": null,
            "overflow_y": null,
            "padding": null,
            "right": null,
            "top": null,
            "visibility": null,
            "width": null
          }
        },
        "86bd698dbe33498d8bd34083e3a509a7": {
          "model_module": "@jupyter-widgets/controls",
          "model_name": "DescriptionStyleModel",
          "model_module_version": "1.5.0",
          "state": {
            "_model_module": "@jupyter-widgets/controls",
            "_model_module_version": "1.5.0",
            "_model_name": "DescriptionStyleModel",
            "_view_count": null,
            "_view_module": "@jupyter-widgets/base",
            "_view_module_version": "1.2.0",
            "_view_name": "StyleView",
            "description_width": ""
          }
        },
        "bb345430473944aa9deec5e84349d459": {
          "model_module": "@jupyter-widgets/base",
          "model_name": "LayoutModel",
          "model_module_version": "1.2.0",
          "state": {
            "_model_module": "@jupyter-widgets/base",
            "_model_module_version": "1.2.0",
            "_model_name": "LayoutModel",
            "_view_count": null,
            "_view_module": "@jupyter-widgets/base",
            "_view_module_version": "1.2.0",
            "_view_name": "LayoutView",
            "align_content": null,
            "align_items": null,
            "align_self": null,
            "border": null,
            "bottom": null,
            "display": null,
            "flex": null,
            "flex_flow": null,
            "grid_area": null,
            "grid_auto_columns": null,
            "grid_auto_flow": null,
            "grid_auto_rows": null,
            "grid_column": null,
            "grid_gap": null,
            "grid_row": null,
            "grid_template_areas": null,
            "grid_template_columns": null,
            "grid_template_rows": null,
            "height": null,
            "justify_content": null,
            "justify_items": null,
            "left": null,
            "margin": null,
            "max_height": null,
            "max_width": null,
            "min_height": null,
            "min_width": null,
            "object_fit": null,
            "object_position": null,
            "order": null,
            "overflow": null,
            "overflow_x": null,
            "overflow_y": null,
            "padding": null,
            "right": null,
            "top": null,
            "visibility": null,
            "width": null
          }
        },
        "7326880f5b384c24b5fb214ebed490a1": {
          "model_module": "@jupyter-widgets/controls",
          "model_name": "ProgressStyleModel",
          "model_module_version": "1.5.0",
          "state": {
            "_model_module": "@jupyter-widgets/controls",
            "_model_module_version": "1.5.0",
            "_model_name": "ProgressStyleModel",
            "_view_count": null,
            "_view_module": "@jupyter-widgets/base",
            "_view_module_version": "1.2.0",
            "_view_name": "StyleView",
            "bar_color": null,
            "description_width": ""
          }
        },
        "888b0d53fd7c4ddbbc169e75938eec86": {
          "model_module": "@jupyter-widgets/base",
          "model_name": "LayoutModel",
          "model_module_version": "1.2.0",
          "state": {
            "_model_module": "@jupyter-widgets/base",
            "_model_module_version": "1.2.0",
            "_model_name": "LayoutModel",
            "_view_count": null,
            "_view_module": "@jupyter-widgets/base",
            "_view_module_version": "1.2.0",
            "_view_name": "LayoutView",
            "align_content": null,
            "align_items": null,
            "align_self": null,
            "border": null,
            "bottom": null,
            "display": null,
            "flex": null,
            "flex_flow": null,
            "grid_area": null,
            "grid_auto_columns": null,
            "grid_auto_flow": null,
            "grid_auto_rows": null,
            "grid_column": null,
            "grid_gap": null,
            "grid_row": null,
            "grid_template_areas": null,
            "grid_template_columns": null,
            "grid_template_rows": null,
            "height": null,
            "justify_content": null,
            "justify_items": null,
            "left": null,
            "margin": null,
            "max_height": null,
            "max_width": null,
            "min_height": null,
            "min_width": null,
            "object_fit": null,
            "object_position": null,
            "order": null,
            "overflow": null,
            "overflow_x": null,
            "overflow_y": null,
            "padding": null,
            "right": null,
            "top": null,
            "visibility": null,
            "width": null
          }
        },
        "8af8a61c3ed74a58ab36de715d435bba": {
          "model_module": "@jupyter-widgets/controls",
          "model_name": "DescriptionStyleModel",
          "model_module_version": "1.5.0",
          "state": {
            "_model_module": "@jupyter-widgets/controls",
            "_model_module_version": "1.5.0",
            "_model_name": "DescriptionStyleModel",
            "_view_count": null,
            "_view_module": "@jupyter-widgets/base",
            "_view_module_version": "1.2.0",
            "_view_name": "StyleView",
            "description_width": ""
          }
        },
        "67145c2b39f44c73a58901ef3a48ac8d": {
          "model_module": "@jupyter-widgets/controls",
          "model_name": "HBoxModel",
          "model_module_version": "1.5.0",
          "state": {
            "_dom_classes": [],
            "_model_module": "@jupyter-widgets/controls",
            "_model_module_version": "1.5.0",
            "_model_name": "HBoxModel",
            "_view_count": null,
            "_view_module": "@jupyter-widgets/controls",
            "_view_module_version": "1.5.0",
            "_view_name": "HBoxView",
            "box_style": "",
            "children": [
              "IPY_MODEL_0c9bcbb463614095af7ef0c86a44c1c8",
              "IPY_MODEL_f7d50772397f43018f971d7742bd389a",
              "IPY_MODEL_42e6dc4e5fa04cb898c2c33ac7b6d961"
            ],
            "layout": "IPY_MODEL_aa13e41f97c84f7b8473d90fcd3ba6f2"
          }
        },
        "0c9bcbb463614095af7ef0c86a44c1c8": {
          "model_module": "@jupyter-widgets/controls",
          "model_name": "HTMLModel",
          "model_module_version": "1.5.0",
          "state": {
            "_dom_classes": [],
            "_model_module": "@jupyter-widgets/controls",
            "_model_module_version": "1.5.0",
            "_model_name": "HTMLModel",
            "_view_count": null,
            "_view_module": "@jupyter-widgets/controls",
            "_view_module_version": "1.5.0",
            "_view_name": "HTMLView",
            "description": "",
            "description_tooltip": null,
            "layout": "IPY_MODEL_cfac475b9b43419f898f1b583c74dd64",
            "placeholder": "​",
            "style": "IPY_MODEL_31d624d7f6464629aa4241ecb73f7082",
            "value": "Map: 100%"
          }
        },
        "f7d50772397f43018f971d7742bd389a": {
          "model_module": "@jupyter-widgets/controls",
          "model_name": "FloatProgressModel",
          "model_module_version": "1.5.0",
          "state": {
            "_dom_classes": [],
            "_model_module": "@jupyter-widgets/controls",
            "_model_module_version": "1.5.0",
            "_model_name": "FloatProgressModel",
            "_view_count": null,
            "_view_module": "@jupyter-widgets/controls",
            "_view_module_version": "1.5.0",
            "_view_name": "ProgressView",
            "bar_style": "",
            "description": "",
            "description_tooltip": null,
            "layout": "IPY_MODEL_4d5f6701744640edbe69c50b4d304fb0",
            "max": 471,
            "min": 0,
            "orientation": "horizontal",
            "style": "IPY_MODEL_1924df4207f74560bbeca3747b061f02",
            "value": 471
          }
        },
        "42e6dc4e5fa04cb898c2c33ac7b6d961": {
          "model_module": "@jupyter-widgets/controls",
          "model_name": "HTMLModel",
          "model_module_version": "1.5.0",
          "state": {
            "_dom_classes": [],
            "_model_module": "@jupyter-widgets/controls",
            "_model_module_version": "1.5.0",
            "_model_name": "HTMLModel",
            "_view_count": null,
            "_view_module": "@jupyter-widgets/controls",
            "_view_module_version": "1.5.0",
            "_view_name": "HTMLView",
            "description": "",
            "description_tooltip": null,
            "layout": "IPY_MODEL_9859670cb78942f2ba4fa67a7e8327d2",
            "placeholder": "​",
            "style": "IPY_MODEL_84e4f3b8e67a4fc49c13a59bb7232281",
            "value": " 471/471 [00:00&lt;00:00, 583.79 examples/s]"
          }
        },
        "aa13e41f97c84f7b8473d90fcd3ba6f2": {
          "model_module": "@jupyter-widgets/base",
          "model_name": "LayoutModel",
          "model_module_version": "1.2.0",
          "state": {
            "_model_module": "@jupyter-widgets/base",
            "_model_module_version": "1.2.0",
            "_model_name": "LayoutModel",
            "_view_count": null,
            "_view_module": "@jupyter-widgets/base",
            "_view_module_version": "1.2.0",
            "_view_name": "LayoutView",
            "align_content": null,
            "align_items": null,
            "align_self": null,
            "border": null,
            "bottom": null,
            "display": null,
            "flex": null,
            "flex_flow": null,
            "grid_area": null,
            "grid_auto_columns": null,
            "grid_auto_flow": null,
            "grid_auto_rows": null,
            "grid_column": null,
            "grid_gap": null,
            "grid_row": null,
            "grid_template_areas": null,
            "grid_template_columns": null,
            "grid_template_rows": null,
            "height": null,
            "justify_content": null,
            "justify_items": null,
            "left": null,
            "margin": null,
            "max_height": null,
            "max_width": null,
            "min_height": null,
            "min_width": null,
            "object_fit": null,
            "object_position": null,
            "order": null,
            "overflow": null,
            "overflow_x": null,
            "overflow_y": null,
            "padding": null,
            "right": null,
            "top": null,
            "visibility": "hidden",
            "width": null
          }
        },
        "cfac475b9b43419f898f1b583c74dd64": {
          "model_module": "@jupyter-widgets/base",
          "model_name": "LayoutModel",
          "model_module_version": "1.2.0",
          "state": {
            "_model_module": "@jupyter-widgets/base",
            "_model_module_version": "1.2.0",
            "_model_name": "LayoutModel",
            "_view_count": null,
            "_view_module": "@jupyter-widgets/base",
            "_view_module_version": "1.2.0",
            "_view_name": "LayoutView",
            "align_content": null,
            "align_items": null,
            "align_self": null,
            "border": null,
            "bottom": null,
            "display": null,
            "flex": null,
            "flex_flow": null,
            "grid_area": null,
            "grid_auto_columns": null,
            "grid_auto_flow": null,
            "grid_auto_rows": null,
            "grid_column": null,
            "grid_gap": null,
            "grid_row": null,
            "grid_template_areas": null,
            "grid_template_columns": null,
            "grid_template_rows": null,
            "height": null,
            "justify_content": null,
            "justify_items": null,
            "left": null,
            "margin": null,
            "max_height": null,
            "max_width": null,
            "min_height": null,
            "min_width": null,
            "object_fit": null,
            "object_position": null,
            "order": null,
            "overflow": null,
            "overflow_x": null,
            "overflow_y": null,
            "padding": null,
            "right": null,
            "top": null,
            "visibility": null,
            "width": null
          }
        },
        "31d624d7f6464629aa4241ecb73f7082": {
          "model_module": "@jupyter-widgets/controls",
          "model_name": "DescriptionStyleModel",
          "model_module_version": "1.5.0",
          "state": {
            "_model_module": "@jupyter-widgets/controls",
            "_model_module_version": "1.5.0",
            "_model_name": "DescriptionStyleModel",
            "_view_count": null,
            "_view_module": "@jupyter-widgets/base",
            "_view_module_version": "1.2.0",
            "_view_name": "StyleView",
            "description_width": ""
          }
        },
        "4d5f6701744640edbe69c50b4d304fb0": {
          "model_module": "@jupyter-widgets/base",
          "model_name": "LayoutModel",
          "model_module_version": "1.2.0",
          "state": {
            "_model_module": "@jupyter-widgets/base",
            "_model_module_version": "1.2.0",
            "_model_name": "LayoutModel",
            "_view_count": null,
            "_view_module": "@jupyter-widgets/base",
            "_view_module_version": "1.2.0",
            "_view_name": "LayoutView",
            "align_content": null,
            "align_items": null,
            "align_self": null,
            "border": null,
            "bottom": null,
            "display": null,
            "flex": null,
            "flex_flow": null,
            "grid_area": null,
            "grid_auto_columns": null,
            "grid_auto_flow": null,
            "grid_auto_rows": null,
            "grid_column": null,
            "grid_gap": null,
            "grid_row": null,
            "grid_template_areas": null,
            "grid_template_columns": null,
            "grid_template_rows": null,
            "height": null,
            "justify_content": null,
            "justify_items": null,
            "left": null,
            "margin": null,
            "max_height": null,
            "max_width": null,
            "min_height": null,
            "min_width": null,
            "object_fit": null,
            "object_position": null,
            "order": null,
            "overflow": null,
            "overflow_x": null,
            "overflow_y": null,
            "padding": null,
            "right": null,
            "top": null,
            "visibility": null,
            "width": null
          }
        },
        "1924df4207f74560bbeca3747b061f02": {
          "model_module": "@jupyter-widgets/controls",
          "model_name": "ProgressStyleModel",
          "model_module_version": "1.5.0",
          "state": {
            "_model_module": "@jupyter-widgets/controls",
            "_model_module_version": "1.5.0",
            "_model_name": "ProgressStyleModel",
            "_view_count": null,
            "_view_module": "@jupyter-widgets/base",
            "_view_module_version": "1.2.0",
            "_view_name": "StyleView",
            "bar_color": null,
            "description_width": ""
          }
        },
        "9859670cb78942f2ba4fa67a7e8327d2": {
          "model_module": "@jupyter-widgets/base",
          "model_name": "LayoutModel",
          "model_module_version": "1.2.0",
          "state": {
            "_model_module": "@jupyter-widgets/base",
            "_model_module_version": "1.2.0",
            "_model_name": "LayoutModel",
            "_view_count": null,
            "_view_module": "@jupyter-widgets/base",
            "_view_module_version": "1.2.0",
            "_view_name": "LayoutView",
            "align_content": null,
            "align_items": null,
            "align_self": null,
            "border": null,
            "bottom": null,
            "display": null,
            "flex": null,
            "flex_flow": null,
            "grid_area": null,
            "grid_auto_columns": null,
            "grid_auto_flow": null,
            "grid_auto_rows": null,
            "grid_column": null,
            "grid_gap": null,
            "grid_row": null,
            "grid_template_areas": null,
            "grid_template_columns": null,
            "grid_template_rows": null,
            "height": null,
            "justify_content": null,
            "justify_items": null,
            "left": null,
            "margin": null,
            "max_height": null,
            "max_width": null,
            "min_height": null,
            "min_width": null,
            "object_fit": null,
            "object_position": null,
            "order": null,
            "overflow": null,
            "overflow_x": null,
            "overflow_y": null,
            "padding": null,
            "right": null,
            "top": null,
            "visibility": null,
            "width": null
          }
        },
        "84e4f3b8e67a4fc49c13a59bb7232281": {
          "model_module": "@jupyter-widgets/controls",
          "model_name": "DescriptionStyleModel",
          "model_module_version": "1.5.0",
          "state": {
            "_model_module": "@jupyter-widgets/controls",
            "_model_module_version": "1.5.0",
            "_model_name": "DescriptionStyleModel",
            "_view_count": null,
            "_view_module": "@jupyter-widgets/base",
            "_view_module_version": "1.2.0",
            "_view_name": "StyleView",
            "description_width": ""
          }
        }
      }
    },
    "accelerator": "GPU"
  },
  "nbformat": 4,
  "nbformat_minor": 0
}